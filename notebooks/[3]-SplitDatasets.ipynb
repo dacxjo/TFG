{
 "cells": [
  {
   "cell_type": "markdown",
   "metadata": {},
   "source": [
    "# Split Datasets"
   ]
  },
  {
   "metadata": {
    "ExecuteTime": {
     "end_time": "2025-04-28T07:47:42.640196Z",
     "start_time": "2025-04-28T07:47:42.574365Z"
    }
   },
   "cell_type": "code",
   "source": [
    "%load_ext autoreload\n",
    "%autoreload 2"
   ],
   "outputs": [],
   "execution_count": 1
  },
  {
   "cell_type": "markdown",
   "metadata": {},
   "source": [
    "## 1. Converted Only Dataset"
   ]
  },
  {
   "cell_type": "code",
   "metadata": {
    "ExecuteTime": {
     "end_time": "2025-04-28T07:47:46.333409Z",
     "start_time": "2025-04-28T07:47:45.603604Z"
    }
   },
   "source": [
    "import pandas as pd\n",
    "import plotly.express as px\n",
    "import plotly.graph_objects as go\n",
    "\n",
    "from plotly.subplots import make_subplots\n",
    "from src.config import PROCESSED_DATA_DIR, RAW_DATA_DIR\n",
    "from src.utils import make_grouped_splits, persist_splits, make_grouped_holdout_split"
   ],
   "outputs": [],
   "execution_count": 2
  },
  {
   "cell_type": "code",
   "metadata": {},
   "source": "converted_df = pd.read_csv(f'{PROCESSED_DATA_DIR}/cmmd_converted.csv')",
   "outputs": [],
   "execution_count": null
  },
  {
   "cell_type": "code",
   "metadata": {},
   "source": [
    "converted_df.head()"
   ],
   "outputs": [],
   "execution_count": null
  },
  {
   "cell_type": "code",
   "metadata": {},
   "source": [
    "converted_df.info()"
   ],
   "outputs": [],
   "execution_count": null
  },
  {
   "cell_type": "code",
   "metadata": {},
   "source": "converted_df['patientId'].nunique()",
   "outputs": [],
   "execution_count": null
  },
  {
   "cell_type": "markdown",
   "metadata": {},
   "source": [
    "## Split by patient id and store in folder"
   ]
  },
  {
   "cell_type": "code",
   "metadata": {},
   "source": [
    "# Split in train, validation and test, stratified by patientId to ensure that each patient is only in one of the sets and that the distribution of the target is the same in all sets\n",
    "\n",
    "trainval_df, test_df = make_grouped_holdout_split(converted_df, patient_col='patientId', subtype_col='subtype')"
   ],
   "outputs": [],
   "execution_count": null
  },
  {
   "cell_type": "code",
   "metadata": {},
   "source": "px.pie(names=['TrainVal','Test'], values=[len(trainval_df), len(test_df)], title='Data split')",
   "outputs": [],
   "execution_count": null
  },
  {
   "cell_type": "code",
   "metadata": {},
   "source": [
    "fig = make_subplots(rows=1, cols=2,\n",
    "                    specs=[[{\"type\": \"pie\"}, {\"type\": \"pie\"}]],\n",
    "                    subplot_titles=('Train set distribution',\n",
    "                                    'Test set distribution'))\n",
    "\n",
    "def add_pie(df, row, col):\n",
    "    counts = df['subtype'].value_counts(normalize=True)\n",
    "    fig.add_trace(go.Pie(labels=counts.index, values=counts.values), row=row, col=col)\n",
    "\n",
    "add_pie(trainval_df, 1, 1)\n",
    "add_pie(test_df, 1, 2)\n",
    "\n",
    "fig.update_layout()\n",
    "\n",
    "fig.show()"
   ],
   "outputs": [],
   "execution_count": null
  },
  {
   "cell_type": "code",
   "metadata": {},
   "source": [
    "# Persist splitted images\n",
    "persist_splits(trainval_df, None, test_df, patient_col='patientId', subtype_col='subtype')"
   ],
   "outputs": [],
   "execution_count": null
  },
  {
   "cell_type": "code",
   "metadata": {},
   "source": "trainval_df['convertedPath']",
   "outputs": [],
   "execution_count": null
  },
  {
   "metadata": {},
   "cell_type": "markdown",
   "source": "# Mammo-Bench Split"
  },
  {
   "metadata": {
    "ExecuteTime": {
     "end_time": "2025-04-28T07:47:51.618094Z",
     "start_time": "2025-04-28T07:47:51.579105Z"
    }
   },
   "cell_type": "code",
   "source": "mb_df = pd.read_csv(f'{RAW_DATA_DIR}/MammoBench/mammo-bench_molecular_subtype.csv')",
   "outputs": [],
   "execution_count": 3
  },
  {
   "metadata": {
    "ExecuteTime": {
     "end_time": "2025-04-28T07:47:52.058238Z",
     "start_time": "2025-04-28T07:47:52.034714Z"
    }
   },
   "cell_type": "code",
   "source": "mb_df.head()",
   "outputs": [
    {
     "data": {
      "text/plain": [
       "  source_dataset laterality view                  preprocessed_image_path  \\\n",
       "0           cmmd          L   CC  Preprocessed_Dataset/cmmd/cmmd_1026.jpg   \n",
       "1           cmmd          L   CC  Preprocessed_Dataset/cmmd/cmmd_1027.jpg   \n",
       "2           cmmd          L   CC  Preprocessed_Dataset/cmmd/cmmd_1028.jpg   \n",
       "3           cmmd          L   CC  Preprocessed_Dataset/cmmd/cmmd_1029.jpg   \n",
       "4           cmmd          L   CC  Preprocessed_Dataset/cmmd/cmmd_1030.jpg   \n",
       "\n",
       "  classification  density  BIRADS    abnormality molecular_subtype  \\\n",
       "0      Malignant      NaN     NaN  calcification         Luminal B   \n",
       "1      Malignant      NaN     NaN  calcification         Luminal B   \n",
       "2      Malignant      NaN     NaN  calcification         Luminal B   \n",
       "3      Malignant      NaN     NaN  calcification         Luminal B   \n",
       "4      Malignant      NaN     NaN  calcification     HER2-enriched   \n",
       "\n",
       "                        raw_image_path                 mask_path  ROI_path  \\\n",
       "0  Original_Dataset/cmmd/cmmd_1026.jpg  Masks/cmmd/cmmd_1026.jpg       NaN   \n",
       "1  Original_Dataset/cmmd/cmmd_1027.jpg  Masks/cmmd/cmmd_1027.jpg       NaN   \n",
       "2  Original_Dataset/cmmd/cmmd_1028.jpg  Masks/cmmd/cmmd_1028.jpg       NaN   \n",
       "3  Original_Dataset/cmmd/cmmd_1029.jpg  Masks/cmmd/cmmd_1029.jpg       NaN   \n",
       "4  Original_Dataset/cmmd/cmmd_1030.jpg  Masks/cmmd/cmmd_1030.jpg       NaN   \n",
       "\n",
       "    x   y  radius  subject_age source_subjectID  \\\n",
       "0 NaN NaN     NaN         64.0          D2-0001   \n",
       "1 NaN NaN     NaN         69.0          D2-0002   \n",
       "2 NaN NaN     NaN         44.0          D2-0003   \n",
       "3 NaN NaN     NaN         38.0          D2-0004   \n",
       "4 NaN NaN     NaN         41.0          D2-0005   \n",
       "\n",
       "                                original_source_path  \n",
       "0  CMMD/CMMD/D2-0001/07-18-2011-NA-NA-75485/1.000...  \n",
       "1  CMMD/CMMD/D2-0002/07-18-2010-NA-NA-26354/1.000...  \n",
       "2  CMMD/CMMD/D2-0003/07-18-2010-NA-NA-57046/1.000...  \n",
       "3  CMMD/CMMD/D2-0004/07-18-2010-NA-NA-29234/1.000...  \n",
       "4  CMMD/CMMD/D2-0005/07-18-2010-NA-NA-26051/1.000...  "
      ],
      "text/html": [
       "<div>\n",
       "<style scoped>\n",
       "    .dataframe tbody tr th:only-of-type {\n",
       "        vertical-align: middle;\n",
       "    }\n",
       "\n",
       "    .dataframe tbody tr th {\n",
       "        vertical-align: top;\n",
       "    }\n",
       "\n",
       "    .dataframe thead th {\n",
       "        text-align: right;\n",
       "    }\n",
       "</style>\n",
       "<table border=\"1\" class=\"dataframe\">\n",
       "  <thead>\n",
       "    <tr style=\"text-align: right;\">\n",
       "      <th></th>\n",
       "      <th>source_dataset</th>\n",
       "      <th>laterality</th>\n",
       "      <th>view</th>\n",
       "      <th>preprocessed_image_path</th>\n",
       "      <th>classification</th>\n",
       "      <th>density</th>\n",
       "      <th>BIRADS</th>\n",
       "      <th>abnormality</th>\n",
       "      <th>molecular_subtype</th>\n",
       "      <th>raw_image_path</th>\n",
       "      <th>mask_path</th>\n",
       "      <th>ROI_path</th>\n",
       "      <th>x</th>\n",
       "      <th>y</th>\n",
       "      <th>radius</th>\n",
       "      <th>subject_age</th>\n",
       "      <th>source_subjectID</th>\n",
       "      <th>original_source_path</th>\n",
       "    </tr>\n",
       "  </thead>\n",
       "  <tbody>\n",
       "    <tr>\n",
       "      <th>0</th>\n",
       "      <td>cmmd</td>\n",
       "      <td>L</td>\n",
       "      <td>CC</td>\n",
       "      <td>Preprocessed_Dataset/cmmd/cmmd_1026.jpg</td>\n",
       "      <td>Malignant</td>\n",
       "      <td>NaN</td>\n",
       "      <td>NaN</td>\n",
       "      <td>calcification</td>\n",
       "      <td>Luminal B</td>\n",
       "      <td>Original_Dataset/cmmd/cmmd_1026.jpg</td>\n",
       "      <td>Masks/cmmd/cmmd_1026.jpg</td>\n",
       "      <td>NaN</td>\n",
       "      <td>NaN</td>\n",
       "      <td>NaN</td>\n",
       "      <td>NaN</td>\n",
       "      <td>64.0</td>\n",
       "      <td>D2-0001</td>\n",
       "      <td>CMMD/CMMD/D2-0001/07-18-2011-NA-NA-75485/1.000...</td>\n",
       "    </tr>\n",
       "    <tr>\n",
       "      <th>1</th>\n",
       "      <td>cmmd</td>\n",
       "      <td>L</td>\n",
       "      <td>CC</td>\n",
       "      <td>Preprocessed_Dataset/cmmd/cmmd_1027.jpg</td>\n",
       "      <td>Malignant</td>\n",
       "      <td>NaN</td>\n",
       "      <td>NaN</td>\n",
       "      <td>calcification</td>\n",
       "      <td>Luminal B</td>\n",
       "      <td>Original_Dataset/cmmd/cmmd_1027.jpg</td>\n",
       "      <td>Masks/cmmd/cmmd_1027.jpg</td>\n",
       "      <td>NaN</td>\n",
       "      <td>NaN</td>\n",
       "      <td>NaN</td>\n",
       "      <td>NaN</td>\n",
       "      <td>69.0</td>\n",
       "      <td>D2-0002</td>\n",
       "      <td>CMMD/CMMD/D2-0002/07-18-2010-NA-NA-26354/1.000...</td>\n",
       "    </tr>\n",
       "    <tr>\n",
       "      <th>2</th>\n",
       "      <td>cmmd</td>\n",
       "      <td>L</td>\n",
       "      <td>CC</td>\n",
       "      <td>Preprocessed_Dataset/cmmd/cmmd_1028.jpg</td>\n",
       "      <td>Malignant</td>\n",
       "      <td>NaN</td>\n",
       "      <td>NaN</td>\n",
       "      <td>calcification</td>\n",
       "      <td>Luminal B</td>\n",
       "      <td>Original_Dataset/cmmd/cmmd_1028.jpg</td>\n",
       "      <td>Masks/cmmd/cmmd_1028.jpg</td>\n",
       "      <td>NaN</td>\n",
       "      <td>NaN</td>\n",
       "      <td>NaN</td>\n",
       "      <td>NaN</td>\n",
       "      <td>44.0</td>\n",
       "      <td>D2-0003</td>\n",
       "      <td>CMMD/CMMD/D2-0003/07-18-2010-NA-NA-57046/1.000...</td>\n",
       "    </tr>\n",
       "    <tr>\n",
       "      <th>3</th>\n",
       "      <td>cmmd</td>\n",
       "      <td>L</td>\n",
       "      <td>CC</td>\n",
       "      <td>Preprocessed_Dataset/cmmd/cmmd_1029.jpg</td>\n",
       "      <td>Malignant</td>\n",
       "      <td>NaN</td>\n",
       "      <td>NaN</td>\n",
       "      <td>calcification</td>\n",
       "      <td>Luminal B</td>\n",
       "      <td>Original_Dataset/cmmd/cmmd_1029.jpg</td>\n",
       "      <td>Masks/cmmd/cmmd_1029.jpg</td>\n",
       "      <td>NaN</td>\n",
       "      <td>NaN</td>\n",
       "      <td>NaN</td>\n",
       "      <td>NaN</td>\n",
       "      <td>38.0</td>\n",
       "      <td>D2-0004</td>\n",
       "      <td>CMMD/CMMD/D2-0004/07-18-2010-NA-NA-29234/1.000...</td>\n",
       "    </tr>\n",
       "    <tr>\n",
       "      <th>4</th>\n",
       "      <td>cmmd</td>\n",
       "      <td>L</td>\n",
       "      <td>CC</td>\n",
       "      <td>Preprocessed_Dataset/cmmd/cmmd_1030.jpg</td>\n",
       "      <td>Malignant</td>\n",
       "      <td>NaN</td>\n",
       "      <td>NaN</td>\n",
       "      <td>calcification</td>\n",
       "      <td>HER2-enriched</td>\n",
       "      <td>Original_Dataset/cmmd/cmmd_1030.jpg</td>\n",
       "      <td>Masks/cmmd/cmmd_1030.jpg</td>\n",
       "      <td>NaN</td>\n",
       "      <td>NaN</td>\n",
       "      <td>NaN</td>\n",
       "      <td>NaN</td>\n",
       "      <td>41.0</td>\n",
       "      <td>D2-0005</td>\n",
       "      <td>CMMD/CMMD/D2-0005/07-18-2010-NA-NA-26051/1.000...</td>\n",
       "    </tr>\n",
       "  </tbody>\n",
       "</table>\n",
       "</div>"
      ]
     },
     "execution_count": 4,
     "metadata": {},
     "output_type": "execute_result"
    }
   ],
   "execution_count": 4
  },
  {
   "metadata": {
    "ExecuteTime": {
     "end_time": "2025-04-28T07:47:53.474556Z",
     "start_time": "2025-04-28T07:47:53.454916Z"
    }
   },
   "cell_type": "code",
   "source": "mb_df.rename(columns={'source_subjectID': 'patientId', 'molecular_subtype': 'subtype'}, inplace=True)",
   "outputs": [],
   "execution_count": 5
  },
  {
   "metadata": {
    "ExecuteTime": {
     "end_time": "2025-04-28T07:47:53.962127Z",
     "start_time": "2025-04-28T07:47:53.943573Z"
    }
   },
   "cell_type": "code",
   "source": "print(mb_df['subtype'].value_counts())",
   "outputs": [
    {
     "name": "stdout",
     "output_type": "stream",
     "text": [
      "subtype\n",
      "Luminal B          1482\n",
      "Luminal A           600\n",
      "HER2-enriched       532\n",
      "triple negative     342\n",
      "Name: count, dtype: int64\n"
     ]
    }
   ],
   "execution_count": 6
  },
  {
   "metadata": {
    "ExecuteTime": {
     "end_time": "2025-04-28T07:47:59.072105Z",
     "start_time": "2025-04-28T07:47:59.050669Z"
    }
   },
   "cell_type": "code",
   "source": "mb_df['subtype'] = mb_df['subtype'].map({'Luminal B': 'luminal-b', 'Luminal A': 'luminal-a', 'HER2-enriched': 'her2-enriched', 'triple negative': 'triple-negative'})",
   "outputs": [],
   "execution_count": 7
  },
  {
   "metadata": {
    "ExecuteTime": {
     "end_time": "2025-04-28T07:48:00.368884Z",
     "start_time": "2025-04-28T07:48:00.347128Z"
    }
   },
   "cell_type": "code",
   "source": "mb_df['convertedPath'] = mb_df['preprocessed_image_path'].str.replace('Preprocessed_Dataset/cmmd/', '../data/raw/MammoBench/cmmd/')",
   "outputs": [],
   "execution_count": 8
  },
  {
   "metadata": {
    "ExecuteTime": {
     "end_time": "2025-04-28T07:48:00.998508Z",
     "start_time": "2025-04-28T07:48:00.975390Z"
    }
   },
   "cell_type": "code",
   "source": "mb_df.head()",
   "outputs": [
    {
     "data": {
      "text/plain": [
       "  source_dataset laterality view                  preprocessed_image_path  \\\n",
       "0           cmmd          L   CC  Preprocessed_Dataset/cmmd/cmmd_1026.jpg   \n",
       "1           cmmd          L   CC  Preprocessed_Dataset/cmmd/cmmd_1027.jpg   \n",
       "2           cmmd          L   CC  Preprocessed_Dataset/cmmd/cmmd_1028.jpg   \n",
       "3           cmmd          L   CC  Preprocessed_Dataset/cmmd/cmmd_1029.jpg   \n",
       "4           cmmd          L   CC  Preprocessed_Dataset/cmmd/cmmd_1030.jpg   \n",
       "\n",
       "  classification  density  BIRADS    abnormality        subtype  \\\n",
       "0      Malignant      NaN     NaN  calcification      luminal-b   \n",
       "1      Malignant      NaN     NaN  calcification      luminal-b   \n",
       "2      Malignant      NaN     NaN  calcification      luminal-b   \n",
       "3      Malignant      NaN     NaN  calcification      luminal-b   \n",
       "4      Malignant      NaN     NaN  calcification  her2-enriched   \n",
       "\n",
       "                        raw_image_path                 mask_path  ROI_path  \\\n",
       "0  Original_Dataset/cmmd/cmmd_1026.jpg  Masks/cmmd/cmmd_1026.jpg       NaN   \n",
       "1  Original_Dataset/cmmd/cmmd_1027.jpg  Masks/cmmd/cmmd_1027.jpg       NaN   \n",
       "2  Original_Dataset/cmmd/cmmd_1028.jpg  Masks/cmmd/cmmd_1028.jpg       NaN   \n",
       "3  Original_Dataset/cmmd/cmmd_1029.jpg  Masks/cmmd/cmmd_1029.jpg       NaN   \n",
       "4  Original_Dataset/cmmd/cmmd_1030.jpg  Masks/cmmd/cmmd_1030.jpg       NaN   \n",
       "\n",
       "    x   y  radius  subject_age patientId  \\\n",
       "0 NaN NaN     NaN         64.0   D2-0001   \n",
       "1 NaN NaN     NaN         69.0   D2-0002   \n",
       "2 NaN NaN     NaN         44.0   D2-0003   \n",
       "3 NaN NaN     NaN         38.0   D2-0004   \n",
       "4 NaN NaN     NaN         41.0   D2-0005   \n",
       "\n",
       "                                original_source_path  \\\n",
       "0  CMMD/CMMD/D2-0001/07-18-2011-NA-NA-75485/1.000...   \n",
       "1  CMMD/CMMD/D2-0002/07-18-2010-NA-NA-26354/1.000...   \n",
       "2  CMMD/CMMD/D2-0003/07-18-2010-NA-NA-57046/1.000...   \n",
       "3  CMMD/CMMD/D2-0004/07-18-2010-NA-NA-29234/1.000...   \n",
       "4  CMMD/CMMD/D2-0005/07-18-2010-NA-NA-26051/1.000...   \n",
       "\n",
       "                               convertedPath  \n",
       "0  ../data/raw/MammoBench/cmmd/cmmd_1026.jpg  \n",
       "1  ../data/raw/MammoBench/cmmd/cmmd_1027.jpg  \n",
       "2  ../data/raw/MammoBench/cmmd/cmmd_1028.jpg  \n",
       "3  ../data/raw/MammoBench/cmmd/cmmd_1029.jpg  \n",
       "4  ../data/raw/MammoBench/cmmd/cmmd_1030.jpg  "
      ],
      "text/html": [
       "<div>\n",
       "<style scoped>\n",
       "    .dataframe tbody tr th:only-of-type {\n",
       "        vertical-align: middle;\n",
       "    }\n",
       "\n",
       "    .dataframe tbody tr th {\n",
       "        vertical-align: top;\n",
       "    }\n",
       "\n",
       "    .dataframe thead th {\n",
       "        text-align: right;\n",
       "    }\n",
       "</style>\n",
       "<table border=\"1\" class=\"dataframe\">\n",
       "  <thead>\n",
       "    <tr style=\"text-align: right;\">\n",
       "      <th></th>\n",
       "      <th>source_dataset</th>\n",
       "      <th>laterality</th>\n",
       "      <th>view</th>\n",
       "      <th>preprocessed_image_path</th>\n",
       "      <th>classification</th>\n",
       "      <th>density</th>\n",
       "      <th>BIRADS</th>\n",
       "      <th>abnormality</th>\n",
       "      <th>subtype</th>\n",
       "      <th>raw_image_path</th>\n",
       "      <th>mask_path</th>\n",
       "      <th>ROI_path</th>\n",
       "      <th>x</th>\n",
       "      <th>y</th>\n",
       "      <th>radius</th>\n",
       "      <th>subject_age</th>\n",
       "      <th>patientId</th>\n",
       "      <th>original_source_path</th>\n",
       "      <th>convertedPath</th>\n",
       "    </tr>\n",
       "  </thead>\n",
       "  <tbody>\n",
       "    <tr>\n",
       "      <th>0</th>\n",
       "      <td>cmmd</td>\n",
       "      <td>L</td>\n",
       "      <td>CC</td>\n",
       "      <td>Preprocessed_Dataset/cmmd/cmmd_1026.jpg</td>\n",
       "      <td>Malignant</td>\n",
       "      <td>NaN</td>\n",
       "      <td>NaN</td>\n",
       "      <td>calcification</td>\n",
       "      <td>luminal-b</td>\n",
       "      <td>Original_Dataset/cmmd/cmmd_1026.jpg</td>\n",
       "      <td>Masks/cmmd/cmmd_1026.jpg</td>\n",
       "      <td>NaN</td>\n",
       "      <td>NaN</td>\n",
       "      <td>NaN</td>\n",
       "      <td>NaN</td>\n",
       "      <td>64.0</td>\n",
       "      <td>D2-0001</td>\n",
       "      <td>CMMD/CMMD/D2-0001/07-18-2011-NA-NA-75485/1.000...</td>\n",
       "      <td>../data/raw/MammoBench/cmmd/cmmd_1026.jpg</td>\n",
       "    </tr>\n",
       "    <tr>\n",
       "      <th>1</th>\n",
       "      <td>cmmd</td>\n",
       "      <td>L</td>\n",
       "      <td>CC</td>\n",
       "      <td>Preprocessed_Dataset/cmmd/cmmd_1027.jpg</td>\n",
       "      <td>Malignant</td>\n",
       "      <td>NaN</td>\n",
       "      <td>NaN</td>\n",
       "      <td>calcification</td>\n",
       "      <td>luminal-b</td>\n",
       "      <td>Original_Dataset/cmmd/cmmd_1027.jpg</td>\n",
       "      <td>Masks/cmmd/cmmd_1027.jpg</td>\n",
       "      <td>NaN</td>\n",
       "      <td>NaN</td>\n",
       "      <td>NaN</td>\n",
       "      <td>NaN</td>\n",
       "      <td>69.0</td>\n",
       "      <td>D2-0002</td>\n",
       "      <td>CMMD/CMMD/D2-0002/07-18-2010-NA-NA-26354/1.000...</td>\n",
       "      <td>../data/raw/MammoBench/cmmd/cmmd_1027.jpg</td>\n",
       "    </tr>\n",
       "    <tr>\n",
       "      <th>2</th>\n",
       "      <td>cmmd</td>\n",
       "      <td>L</td>\n",
       "      <td>CC</td>\n",
       "      <td>Preprocessed_Dataset/cmmd/cmmd_1028.jpg</td>\n",
       "      <td>Malignant</td>\n",
       "      <td>NaN</td>\n",
       "      <td>NaN</td>\n",
       "      <td>calcification</td>\n",
       "      <td>luminal-b</td>\n",
       "      <td>Original_Dataset/cmmd/cmmd_1028.jpg</td>\n",
       "      <td>Masks/cmmd/cmmd_1028.jpg</td>\n",
       "      <td>NaN</td>\n",
       "      <td>NaN</td>\n",
       "      <td>NaN</td>\n",
       "      <td>NaN</td>\n",
       "      <td>44.0</td>\n",
       "      <td>D2-0003</td>\n",
       "      <td>CMMD/CMMD/D2-0003/07-18-2010-NA-NA-57046/1.000...</td>\n",
       "      <td>../data/raw/MammoBench/cmmd/cmmd_1028.jpg</td>\n",
       "    </tr>\n",
       "    <tr>\n",
       "      <th>3</th>\n",
       "      <td>cmmd</td>\n",
       "      <td>L</td>\n",
       "      <td>CC</td>\n",
       "      <td>Preprocessed_Dataset/cmmd/cmmd_1029.jpg</td>\n",
       "      <td>Malignant</td>\n",
       "      <td>NaN</td>\n",
       "      <td>NaN</td>\n",
       "      <td>calcification</td>\n",
       "      <td>luminal-b</td>\n",
       "      <td>Original_Dataset/cmmd/cmmd_1029.jpg</td>\n",
       "      <td>Masks/cmmd/cmmd_1029.jpg</td>\n",
       "      <td>NaN</td>\n",
       "      <td>NaN</td>\n",
       "      <td>NaN</td>\n",
       "      <td>NaN</td>\n",
       "      <td>38.0</td>\n",
       "      <td>D2-0004</td>\n",
       "      <td>CMMD/CMMD/D2-0004/07-18-2010-NA-NA-29234/1.000...</td>\n",
       "      <td>../data/raw/MammoBench/cmmd/cmmd_1029.jpg</td>\n",
       "    </tr>\n",
       "    <tr>\n",
       "      <th>4</th>\n",
       "      <td>cmmd</td>\n",
       "      <td>L</td>\n",
       "      <td>CC</td>\n",
       "      <td>Preprocessed_Dataset/cmmd/cmmd_1030.jpg</td>\n",
       "      <td>Malignant</td>\n",
       "      <td>NaN</td>\n",
       "      <td>NaN</td>\n",
       "      <td>calcification</td>\n",
       "      <td>her2-enriched</td>\n",
       "      <td>Original_Dataset/cmmd/cmmd_1030.jpg</td>\n",
       "      <td>Masks/cmmd/cmmd_1030.jpg</td>\n",
       "      <td>NaN</td>\n",
       "      <td>NaN</td>\n",
       "      <td>NaN</td>\n",
       "      <td>NaN</td>\n",
       "      <td>41.0</td>\n",
       "      <td>D2-0005</td>\n",
       "      <td>CMMD/CMMD/D2-0005/07-18-2010-NA-NA-26051/1.000...</td>\n",
       "      <td>../data/raw/MammoBench/cmmd/cmmd_1030.jpg</td>\n",
       "    </tr>\n",
       "  </tbody>\n",
       "</table>\n",
       "</div>"
      ]
     },
     "execution_count": 9,
     "metadata": {},
     "output_type": "execute_result"
    }
   ],
   "execution_count": 9
  },
  {
   "metadata": {
    "ExecuteTime": {
     "end_time": "2025-04-28T07:48:23.947054Z",
     "start_time": "2025-04-28T07:48:23.928811Z"
    }
   },
   "cell_type": "code",
   "source": "train_df, test_df = make_grouped_holdout_split(mb_df, patient_col='patientId', subtype_col='subtype')",
   "outputs": [],
   "execution_count": 11
  },
  {
   "metadata": {
    "ExecuteTime": {
     "end_time": "2025-04-28T07:48:31.868585Z",
     "start_time": "2025-04-28T07:48:29.183219Z"
    }
   },
   "cell_type": "code",
   "source": "persist_splits(train_df, None, test_df, patient_col='patientId', subtype_col='subtype')",
   "outputs": [],
   "execution_count": 12
  }
 ],
 "metadata": {
  "kernelspec": {
   "display_name": ".venv",
   "language": "python",
   "name": "python3"
  },
  "language_info": {
   "codemirror_mode": {
    "name": "ipython",
    "version": 3
   },
   "file_extension": ".py",
   "mimetype": "text/x-python",
   "name": "python",
   "nbconvert_exporter": "python",
   "pygments_lexer": "ipython3",
   "version": "3.12.2"
  }
 },
 "nbformat": 4,
 "nbformat_minor": 2
}
