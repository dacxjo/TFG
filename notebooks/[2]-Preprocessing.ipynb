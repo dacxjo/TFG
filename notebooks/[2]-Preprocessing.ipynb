{
 "cells": [
  {
   "cell_type": "markdown",
   "metadata": {},
   "source": [
    "# Preprocessing"
   ]
  },
  {
   "cell_type": "markdown",
   "metadata": {},
   "source": []
  },
  {
   "cell_type": "code",
   "metadata": {
    "ExecuteTime": {
     "end_time": "2025-03-24T21:15:57.737820Z",
     "start_time": "2025-03-24T21:15:57.238205Z"
    }
   },
   "source": [
    "import pandas as pd\n",
    "import pydicom\n",
    "import os\n",
    "import matplotlib.pyplot as plt"
   ],
   "outputs": [],
   "execution_count": 1
  },
  {
   "cell_type": "code",
   "metadata": {
    "ExecuteTime": {
     "end_time": "2025-03-24T21:15:57.898212Z",
     "start_time": "2025-03-24T21:15:57.741451Z"
    }
   },
   "source": [
    "clinical_data_df = pd.read_excel(\n",
    "    '../data/raw/CMMD/CMMD_clinicaldata_revision.xlsx')\n",
    "metadata_df = pd.read_csv('../data/raw/CMMD/metadata.csv')"
   ],
   "outputs": [],
   "execution_count": 2
  },
  {
   "cell_type": "code",
   "metadata": {
    "ExecuteTime": {
     "end_time": "2025-03-24T21:15:57.986389Z",
     "start_time": "2025-03-24T21:15:57.982603Z"
    }
   },
   "source": [
    "metadata_df[metadata_df['Data Description URI'] == 'D2-0749'].iloc[0]['File Location']"
   ],
   "outputs": [
    {
     "data": {
      "text/plain": [
       "'./CMMD/D2-0749/07-17-2012-NA-NA-85032/1.000000-NA-15082'"
      ]
     },
     "execution_count": 3,
     "metadata": {},
     "output_type": "execute_result"
    }
   ],
   "execution_count": 3
  },
  {
   "cell_type": "code",
   "metadata": {
    "ExecuteTime": {
     "end_time": "2025-03-24T21:15:57.995065Z",
     "start_time": "2025-03-24T21:15:57.992600Z"
    }
   },
   "source": [
    "data_df = clinical_data_df[clinical_data_df['subtype'].notnull()]"
   ],
   "outputs": [],
   "execution_count": 4
  },
  {
   "cell_type": "code",
   "metadata": {
    "ExecuteTime": {
     "end_time": "2025-03-24T21:15:58.004197Z",
     "start_time": "2025-03-24T21:15:58.001917Z"
    }
   },
   "source": [
    "data_df.shape"
   ],
   "outputs": [
    {
     "data": {
      "text/plain": [
       "(749, 7)"
      ]
     },
     "execution_count": 5,
     "metadata": {},
     "output_type": "execute_result"
    }
   ],
   "execution_count": 5
  },
  {
   "cell_type": "code",
   "metadata": {
    "ExecuteTime": {
     "end_time": "2025-03-24T21:15:58.020076Z",
     "start_time": "2025-03-24T21:15:58.016314Z"
    }
   },
   "source": [
    "# Merge dataframes\n",
    "data_df = data_df.merge(metadata_df, left_on='ID1', right_on='Data Description URI')"
   ],
   "outputs": [],
   "execution_count": 6
  },
  {
   "cell_type": "code",
   "metadata": {
    "ExecuteTime": {
     "end_time": "2025-03-24T21:15:58.030316Z",
     "start_time": "2025-03-24T21:15:58.028045Z"
    }
   },
   "source": [
    "data_df = data_df[['ID1', 'LeftRight', 'Age', 'abnormality', 'subtype', 'File Location']]"
   ],
   "outputs": [],
   "execution_count": 7
  },
  {
   "cell_type": "code",
   "metadata": {
    "ExecuteTime": {
     "end_time": "2025-03-24T21:15:58.043226Z",
     "start_time": "2025-03-24T21:15:58.038310Z"
    }
   },
   "source": [
    "data_df.head()"
   ],
   "outputs": [
    {
     "data": {
      "text/plain": [
       "       ID1 LeftRight  Age    abnormality        subtype  \\\n",
       "0  D2-0001         L   64  calcification      Luminal B   \n",
       "1  D2-0002         R   69  calcification      Luminal B   \n",
       "2  D2-0003         L   44  calcification      Luminal B   \n",
       "3  D2-0004         L   38  calcification      Luminal B   \n",
       "4  D2-0005         R   41  calcification  HER2-enriched   \n",
       "\n",
       "                                       File Location  \n",
       "0  ./CMMD/D2-0001/07-18-2011-NA-NA-75485/1.000000...  \n",
       "1  ./CMMD/D2-0002/07-18-2010-NA-NA-26354/1.000000...  \n",
       "2  ./CMMD/D2-0003/07-18-2010-NA-NA-57046/1.000000...  \n",
       "3  ./CMMD/D2-0004/07-18-2010-NA-NA-29234/1.000000...  \n",
       "4  ./CMMD/D2-0005/07-18-2010-NA-NA-26051/1.000000...  "
      ],
      "text/html": [
       "<div>\n",
       "<style scoped>\n",
       "    .dataframe tbody tr th:only-of-type {\n",
       "        vertical-align: middle;\n",
       "    }\n",
       "\n",
       "    .dataframe tbody tr th {\n",
       "        vertical-align: top;\n",
       "    }\n",
       "\n",
       "    .dataframe thead th {\n",
       "        text-align: right;\n",
       "    }\n",
       "</style>\n",
       "<table border=\"1\" class=\"dataframe\">\n",
       "  <thead>\n",
       "    <tr style=\"text-align: right;\">\n",
       "      <th></th>\n",
       "      <th>ID1</th>\n",
       "      <th>LeftRight</th>\n",
       "      <th>Age</th>\n",
       "      <th>abnormality</th>\n",
       "      <th>subtype</th>\n",
       "      <th>File Location</th>\n",
       "    </tr>\n",
       "  </thead>\n",
       "  <tbody>\n",
       "    <tr>\n",
       "      <th>0</th>\n",
       "      <td>D2-0001</td>\n",
       "      <td>L</td>\n",
       "      <td>64</td>\n",
       "      <td>calcification</td>\n",
       "      <td>Luminal B</td>\n",
       "      <td>./CMMD/D2-0001/07-18-2011-NA-NA-75485/1.000000...</td>\n",
       "    </tr>\n",
       "    <tr>\n",
       "      <th>1</th>\n",
       "      <td>D2-0002</td>\n",
       "      <td>R</td>\n",
       "      <td>69</td>\n",
       "      <td>calcification</td>\n",
       "      <td>Luminal B</td>\n",
       "      <td>./CMMD/D2-0002/07-18-2010-NA-NA-26354/1.000000...</td>\n",
       "    </tr>\n",
       "    <tr>\n",
       "      <th>2</th>\n",
       "      <td>D2-0003</td>\n",
       "      <td>L</td>\n",
       "      <td>44</td>\n",
       "      <td>calcification</td>\n",
       "      <td>Luminal B</td>\n",
       "      <td>./CMMD/D2-0003/07-18-2010-NA-NA-57046/1.000000...</td>\n",
       "    </tr>\n",
       "    <tr>\n",
       "      <th>3</th>\n",
       "      <td>D2-0004</td>\n",
       "      <td>L</td>\n",
       "      <td>38</td>\n",
       "      <td>calcification</td>\n",
       "      <td>Luminal B</td>\n",
       "      <td>./CMMD/D2-0004/07-18-2010-NA-NA-29234/1.000000...</td>\n",
       "    </tr>\n",
       "    <tr>\n",
       "      <th>4</th>\n",
       "      <td>D2-0005</td>\n",
       "      <td>R</td>\n",
       "      <td>41</td>\n",
       "      <td>calcification</td>\n",
       "      <td>HER2-enriched</td>\n",
       "      <td>./CMMD/D2-0005/07-18-2010-NA-NA-26051/1.000000...</td>\n",
       "    </tr>\n",
       "  </tbody>\n",
       "</table>\n",
       "</div>"
      ]
     },
     "execution_count": 8,
     "metadata": {},
     "output_type": "execute_result"
    }
   ],
   "execution_count": 8
  },
  {
   "cell_type": "code",
   "metadata": {
    "ExecuteTime": {
     "end_time": "2025-03-24T21:15:58.053978Z",
     "start_time": "2025-03-24T21:15:58.051471Z"
    }
   },
   "source": [
    "data_df.rename(columns={'ID1': 'patientId', 'LeftRight': 'malignantSide', 'Age': 'age', 'File Location': 'originalPath'}, inplace=True)"
   ],
   "outputs": [],
   "execution_count": 9
  },
  {
   "cell_type": "code",
   "metadata": {
    "ExecuteTime": {
     "end_time": "2025-03-24T21:15:58.075047Z",
     "start_time": "2025-03-24T21:15:58.071703Z"
    }
   },
   "source": [
    "data_df['subtype'].value_counts()"
   ],
   "outputs": [
    {
     "data": {
      "text/plain": [
       "subtype\n",
       "Luminal B          376\n",
       "Luminal A          152\n",
       "HER2-enriched      135\n",
       "triple negative     86\n",
       "Name: count, dtype: int64"
      ]
     },
     "execution_count": 10,
     "metadata": {},
     "output_type": "execute_result"
    }
   ],
   "execution_count": 10
  },
  {
   "cell_type": "code",
   "metadata": {
    "ExecuteTime": {
     "end_time": "2025-03-24T21:15:58.101898Z",
     "start_time": "2025-03-24T21:15:58.098799Z"
    }
   },
   "source": [
    "data_df['subtype'] = data_df['subtype'].map({'Luminal B': 'luminal-b', 'Luminal A': 'luminal-a', 'HER2-enriched': 'her2-enriched', 'triple negative': 'triple-negative'})"
   ],
   "outputs": [],
   "execution_count": 11
  },
  {
   "cell_type": "code",
   "metadata": {
    "ExecuteTime": {
     "end_time": "2025-03-24T21:15:58.158921Z",
     "start_time": "2025-03-24T21:15:58.155028Z"
    }
   },
   "source": [
    "data_df.head()"
   ],
   "outputs": [
    {
     "data": {
      "text/plain": [
       "  patientId malignantSide  age    abnormality        subtype  \\\n",
       "0   D2-0001             L   64  calcification      luminal-b   \n",
       "1   D2-0002             R   69  calcification      luminal-b   \n",
       "2   D2-0003             L   44  calcification      luminal-b   \n",
       "3   D2-0004             L   38  calcification      luminal-b   \n",
       "4   D2-0005             R   41  calcification  her2-enriched   \n",
       "\n",
       "                                        originalPath  \n",
       "0  ./CMMD/D2-0001/07-18-2011-NA-NA-75485/1.000000...  \n",
       "1  ./CMMD/D2-0002/07-18-2010-NA-NA-26354/1.000000...  \n",
       "2  ./CMMD/D2-0003/07-18-2010-NA-NA-57046/1.000000...  \n",
       "3  ./CMMD/D2-0004/07-18-2010-NA-NA-29234/1.000000...  \n",
       "4  ./CMMD/D2-0005/07-18-2010-NA-NA-26051/1.000000...  "
      ],
      "text/html": [
       "<div>\n",
       "<style scoped>\n",
       "    .dataframe tbody tr th:only-of-type {\n",
       "        vertical-align: middle;\n",
       "    }\n",
       "\n",
       "    .dataframe tbody tr th {\n",
       "        vertical-align: top;\n",
       "    }\n",
       "\n",
       "    .dataframe thead th {\n",
       "        text-align: right;\n",
       "    }\n",
       "</style>\n",
       "<table border=\"1\" class=\"dataframe\">\n",
       "  <thead>\n",
       "    <tr style=\"text-align: right;\">\n",
       "      <th></th>\n",
       "      <th>patientId</th>\n",
       "      <th>malignantSide</th>\n",
       "      <th>age</th>\n",
       "      <th>abnormality</th>\n",
       "      <th>subtype</th>\n",
       "      <th>originalPath</th>\n",
       "    </tr>\n",
       "  </thead>\n",
       "  <tbody>\n",
       "    <tr>\n",
       "      <th>0</th>\n",
       "      <td>D2-0001</td>\n",
       "      <td>L</td>\n",
       "      <td>64</td>\n",
       "      <td>calcification</td>\n",
       "      <td>luminal-b</td>\n",
       "      <td>./CMMD/D2-0001/07-18-2011-NA-NA-75485/1.000000...</td>\n",
       "    </tr>\n",
       "    <tr>\n",
       "      <th>1</th>\n",
       "      <td>D2-0002</td>\n",
       "      <td>R</td>\n",
       "      <td>69</td>\n",
       "      <td>calcification</td>\n",
       "      <td>luminal-b</td>\n",
       "      <td>./CMMD/D2-0002/07-18-2010-NA-NA-26354/1.000000...</td>\n",
       "    </tr>\n",
       "    <tr>\n",
       "      <th>2</th>\n",
       "      <td>D2-0003</td>\n",
       "      <td>L</td>\n",
       "      <td>44</td>\n",
       "      <td>calcification</td>\n",
       "      <td>luminal-b</td>\n",
       "      <td>./CMMD/D2-0003/07-18-2010-NA-NA-57046/1.000000...</td>\n",
       "    </tr>\n",
       "    <tr>\n",
       "      <th>3</th>\n",
       "      <td>D2-0004</td>\n",
       "      <td>L</td>\n",
       "      <td>38</td>\n",
       "      <td>calcification</td>\n",
       "      <td>luminal-b</td>\n",
       "      <td>./CMMD/D2-0004/07-18-2010-NA-NA-29234/1.000000...</td>\n",
       "    </tr>\n",
       "    <tr>\n",
       "      <th>4</th>\n",
       "      <td>D2-0005</td>\n",
       "      <td>R</td>\n",
       "      <td>41</td>\n",
       "      <td>calcification</td>\n",
       "      <td>her2-enriched</td>\n",
       "      <td>./CMMD/D2-0005/07-18-2010-NA-NA-26051/1.000000...</td>\n",
       "    </tr>\n",
       "  </tbody>\n",
       "</table>\n",
       "</div>"
      ]
     },
     "execution_count": 12,
     "metadata": {},
     "output_type": "execute_result"
    }
   ],
   "execution_count": 12
  },
  {
   "cell_type": "code",
   "metadata": {
    "ExecuteTime": {
     "end_time": "2025-03-24T21:15:58.191833Z",
     "start_time": "2025-03-24T21:15:58.188855Z"
    }
   },
   "source": [
    "data_df['originalPath'] = data_df['originalPath'].str.replace('./CMMD/', 'images/')"
   ],
   "outputs": [],
   "execution_count": 13
  },
  {
   "cell_type": "code",
   "metadata": {
    "ExecuteTime": {
     "end_time": "2025-03-24T21:15:58.244319Z",
     "start_time": "2025-03-24T21:15:58.240017Z"
    }
   },
   "source": [
    "data_df.head()"
   ],
   "outputs": [
    {
     "data": {
      "text/plain": [
       "  patientId malignantSide  age    abnormality        subtype  \\\n",
       "0   D2-0001             L   64  calcification      luminal-b   \n",
       "1   D2-0002             R   69  calcification      luminal-b   \n",
       "2   D2-0003             L   44  calcification      luminal-b   \n",
       "3   D2-0004             L   38  calcification      luminal-b   \n",
       "4   D2-0005             R   41  calcification  her2-enriched   \n",
       "\n",
       "                                        originalPath  \n",
       "0  images/D2-0001/07-18-2011-NA-NA-75485/1.000000...  \n",
       "1  images/D2-0002/07-18-2010-NA-NA-26354/1.000000...  \n",
       "2  images/D2-0003/07-18-2010-NA-NA-57046/1.000000...  \n",
       "3  images/D2-0004/07-18-2010-NA-NA-29234/1.000000...  \n",
       "4  images/D2-0005/07-18-2010-NA-NA-26051/1.000000...  "
      ],
      "text/html": [
       "<div>\n",
       "<style scoped>\n",
       "    .dataframe tbody tr th:only-of-type {\n",
       "        vertical-align: middle;\n",
       "    }\n",
       "\n",
       "    .dataframe tbody tr th {\n",
       "        vertical-align: top;\n",
       "    }\n",
       "\n",
       "    .dataframe thead th {\n",
       "        text-align: right;\n",
       "    }\n",
       "</style>\n",
       "<table border=\"1\" class=\"dataframe\">\n",
       "  <thead>\n",
       "    <tr style=\"text-align: right;\">\n",
       "      <th></th>\n",
       "      <th>patientId</th>\n",
       "      <th>malignantSide</th>\n",
       "      <th>age</th>\n",
       "      <th>abnormality</th>\n",
       "      <th>subtype</th>\n",
       "      <th>originalPath</th>\n",
       "    </tr>\n",
       "  </thead>\n",
       "  <tbody>\n",
       "    <tr>\n",
       "      <th>0</th>\n",
       "      <td>D2-0001</td>\n",
       "      <td>L</td>\n",
       "      <td>64</td>\n",
       "      <td>calcification</td>\n",
       "      <td>luminal-b</td>\n",
       "      <td>images/D2-0001/07-18-2011-NA-NA-75485/1.000000...</td>\n",
       "    </tr>\n",
       "    <tr>\n",
       "      <th>1</th>\n",
       "      <td>D2-0002</td>\n",
       "      <td>R</td>\n",
       "      <td>69</td>\n",
       "      <td>calcification</td>\n",
       "      <td>luminal-b</td>\n",
       "      <td>images/D2-0002/07-18-2010-NA-NA-26354/1.000000...</td>\n",
       "    </tr>\n",
       "    <tr>\n",
       "      <th>2</th>\n",
       "      <td>D2-0003</td>\n",
       "      <td>L</td>\n",
       "      <td>44</td>\n",
       "      <td>calcification</td>\n",
       "      <td>luminal-b</td>\n",
       "      <td>images/D2-0003/07-18-2010-NA-NA-57046/1.000000...</td>\n",
       "    </tr>\n",
       "    <tr>\n",
       "      <th>3</th>\n",
       "      <td>D2-0004</td>\n",
       "      <td>L</td>\n",
       "      <td>38</td>\n",
       "      <td>calcification</td>\n",
       "      <td>luminal-b</td>\n",
       "      <td>images/D2-0004/07-18-2010-NA-NA-29234/1.000000...</td>\n",
       "    </tr>\n",
       "    <tr>\n",
       "      <th>4</th>\n",
       "      <td>D2-0005</td>\n",
       "      <td>R</td>\n",
       "      <td>41</td>\n",
       "      <td>calcification</td>\n",
       "      <td>her2-enriched</td>\n",
       "      <td>images/D2-0005/07-18-2010-NA-NA-26051/1.000000...</td>\n",
       "    </tr>\n",
       "  </tbody>\n",
       "</table>\n",
       "</div>"
      ]
     },
     "execution_count": 14,
     "metadata": {},
     "output_type": "execute_result"
    }
   ],
   "execution_count": 14
  },
  {
   "cell_type": "code",
   "metadata": {
    "ExecuteTime": {
     "end_time": "2025-03-24T21:15:58.279507Z",
     "start_time": "2025-03-24T21:15:58.277561Z"
    }
   },
   "source": [
    "data_df['originalPath'] = data_df['originalPath'].str.replace('images/', '../data/raw/CMMD/images/')"
   ],
   "outputs": [],
   "execution_count": 15
  },
  {
   "cell_type": "code",
   "metadata": {
    "ExecuteTime": {
     "end_time": "2025-03-24T21:15:58.335414Z",
     "start_time": "2025-03-24T21:15:58.331053Z"
    }
   },
   "source": [
    "data_df.head()"
   ],
   "outputs": [
    {
     "data": {
      "text/plain": [
       "  patientId malignantSide  age    abnormality        subtype  \\\n",
       "0   D2-0001             L   64  calcification      luminal-b   \n",
       "1   D2-0002             R   69  calcification      luminal-b   \n",
       "2   D2-0003             L   44  calcification      luminal-b   \n",
       "3   D2-0004             L   38  calcification      luminal-b   \n",
       "4   D2-0005             R   41  calcification  her2-enriched   \n",
       "\n",
       "                                        originalPath  \n",
       "0  ../data/raw/CMMD/images/D2-0001/07-18-2011-NA-...  \n",
       "1  ../data/raw/CMMD/images/D2-0002/07-18-2010-NA-...  \n",
       "2  ../data/raw/CMMD/images/D2-0003/07-18-2010-NA-...  \n",
       "3  ../data/raw/CMMD/images/D2-0004/07-18-2010-NA-...  \n",
       "4  ../data/raw/CMMD/images/D2-0005/07-18-2010-NA-...  "
      ],
      "text/html": [
       "<div>\n",
       "<style scoped>\n",
       "    .dataframe tbody tr th:only-of-type {\n",
       "        vertical-align: middle;\n",
       "    }\n",
       "\n",
       "    .dataframe tbody tr th {\n",
       "        vertical-align: top;\n",
       "    }\n",
       "\n",
       "    .dataframe thead th {\n",
       "        text-align: right;\n",
       "    }\n",
       "</style>\n",
       "<table border=\"1\" class=\"dataframe\">\n",
       "  <thead>\n",
       "    <tr style=\"text-align: right;\">\n",
       "      <th></th>\n",
       "      <th>patientId</th>\n",
       "      <th>malignantSide</th>\n",
       "      <th>age</th>\n",
       "      <th>abnormality</th>\n",
       "      <th>subtype</th>\n",
       "      <th>originalPath</th>\n",
       "    </tr>\n",
       "  </thead>\n",
       "  <tbody>\n",
       "    <tr>\n",
       "      <th>0</th>\n",
       "      <td>D2-0001</td>\n",
       "      <td>L</td>\n",
       "      <td>64</td>\n",
       "      <td>calcification</td>\n",
       "      <td>luminal-b</td>\n",
       "      <td>../data/raw/CMMD/images/D2-0001/07-18-2011-NA-...</td>\n",
       "    </tr>\n",
       "    <tr>\n",
       "      <th>1</th>\n",
       "      <td>D2-0002</td>\n",
       "      <td>R</td>\n",
       "      <td>69</td>\n",
       "      <td>calcification</td>\n",
       "      <td>luminal-b</td>\n",
       "      <td>../data/raw/CMMD/images/D2-0002/07-18-2010-NA-...</td>\n",
       "    </tr>\n",
       "    <tr>\n",
       "      <th>2</th>\n",
       "      <td>D2-0003</td>\n",
       "      <td>L</td>\n",
       "      <td>44</td>\n",
       "      <td>calcification</td>\n",
       "      <td>luminal-b</td>\n",
       "      <td>../data/raw/CMMD/images/D2-0003/07-18-2010-NA-...</td>\n",
       "    </tr>\n",
       "    <tr>\n",
       "      <th>3</th>\n",
       "      <td>D2-0004</td>\n",
       "      <td>L</td>\n",
       "      <td>38</td>\n",
       "      <td>calcification</td>\n",
       "      <td>luminal-b</td>\n",
       "      <td>../data/raw/CMMD/images/D2-0004/07-18-2010-NA-...</td>\n",
       "    </tr>\n",
       "    <tr>\n",
       "      <th>4</th>\n",
       "      <td>D2-0005</td>\n",
       "      <td>R</td>\n",
       "      <td>41</td>\n",
       "      <td>calcification</td>\n",
       "      <td>her2-enriched</td>\n",
       "      <td>../data/raw/CMMD/images/D2-0005/07-18-2010-NA-...</td>\n",
       "    </tr>\n",
       "  </tbody>\n",
       "</table>\n",
       "</div>"
      ]
     },
     "execution_count": 16,
     "metadata": {},
     "output_type": "execute_result"
    }
   ],
   "execution_count": 16
  },
  {
   "cell_type": "code",
   "metadata": {
    "ExecuteTime": {
     "end_time": "2025-03-24T21:15:58.379148Z",
     "start_time": "2025-03-24T21:15:58.364167Z"
    }
   },
   "source": [
    "data_df_11 = data_df.copy()\n",
    "data_df_11['originalPath'] = data_df_11['originalPath'] + '/1-1.dcm'\n",
    "data_df_11 = data_df_11[data_df_11['originalPath'].apply(os.path.exists)]\n",
    "data_df_11['view'] = 'CC'\n",
    "\n",
    "data_df_12 = data_df.copy()\n",
    "data_df_12['originalPath'] = data_df_12['originalPath'] + '/1-2.dcm'\n",
    "data_df_12 = data_df_12[data_df_12['originalPath'].apply(os.path.exists)]\n",
    "data_df_12['view'] = 'MLO'\n",
    "\n",
    "data_df_13 = data_df.copy()\n",
    "data_df_13['originalPath'] = data_df_13['originalPath'] + '/1-3.dcm'\n",
    "data_df_13 = data_df_13[data_df_13['originalPath'].apply(os.path.exists)]\n",
    "data_df_13['view'] = 'CC'\n",
    "\n",
    "data_df_14 = data_df.copy()\n",
    "data_df_14['originalPath'] = data_df_14['originalPath'] + '/1-4.dcm'\n",
    "data_df_14 = data_df_14[data_df_14['originalPath'].apply(os.path.exists)]\n",
    "data_df_14['view'] = 'MLO'\n",
    "\n",
    "cmmd = pd.concat([data_df_11, data_df_12, data_df_13, data_df_14])"
   ],
   "outputs": [],
   "execution_count": 17
  },
  {
   "cell_type": "code",
   "metadata": {
    "ExecuteTime": {
     "end_time": "2025-03-24T21:15:58.436746Z",
     "start_time": "2025-03-24T21:15:58.432250Z"
    }
   },
   "source": [
    "cmmd.head()"
   ],
   "outputs": [
    {
     "data": {
      "text/plain": [
       "  patientId malignantSide  age    abnormality        subtype  \\\n",
       "0   D2-0001             L   64  calcification      luminal-b   \n",
       "1   D2-0002             R   69  calcification      luminal-b   \n",
       "2   D2-0003             L   44  calcification      luminal-b   \n",
       "3   D2-0004             L   38  calcification      luminal-b   \n",
       "4   D2-0005             R   41  calcification  her2-enriched   \n",
       "\n",
       "                                        originalPath view  \n",
       "0  ../data/raw/CMMD/images/D2-0001/07-18-2011-NA-...   CC  \n",
       "1  ../data/raw/CMMD/images/D2-0002/07-18-2010-NA-...   CC  \n",
       "2  ../data/raw/CMMD/images/D2-0003/07-18-2010-NA-...   CC  \n",
       "3  ../data/raw/CMMD/images/D2-0004/07-18-2010-NA-...   CC  \n",
       "4  ../data/raw/CMMD/images/D2-0005/07-18-2010-NA-...   CC  "
      ],
      "text/html": [
       "<div>\n",
       "<style scoped>\n",
       "    .dataframe tbody tr th:only-of-type {\n",
       "        vertical-align: middle;\n",
       "    }\n",
       "\n",
       "    .dataframe tbody tr th {\n",
       "        vertical-align: top;\n",
       "    }\n",
       "\n",
       "    .dataframe thead th {\n",
       "        text-align: right;\n",
       "    }\n",
       "</style>\n",
       "<table border=\"1\" class=\"dataframe\">\n",
       "  <thead>\n",
       "    <tr style=\"text-align: right;\">\n",
       "      <th></th>\n",
       "      <th>patientId</th>\n",
       "      <th>malignantSide</th>\n",
       "      <th>age</th>\n",
       "      <th>abnormality</th>\n",
       "      <th>subtype</th>\n",
       "      <th>originalPath</th>\n",
       "      <th>view</th>\n",
       "    </tr>\n",
       "  </thead>\n",
       "  <tbody>\n",
       "    <tr>\n",
       "      <th>0</th>\n",
       "      <td>D2-0001</td>\n",
       "      <td>L</td>\n",
       "      <td>64</td>\n",
       "      <td>calcification</td>\n",
       "      <td>luminal-b</td>\n",
       "      <td>../data/raw/CMMD/images/D2-0001/07-18-2011-NA-...</td>\n",
       "      <td>CC</td>\n",
       "    </tr>\n",
       "    <tr>\n",
       "      <th>1</th>\n",
       "      <td>D2-0002</td>\n",
       "      <td>R</td>\n",
       "      <td>69</td>\n",
       "      <td>calcification</td>\n",
       "      <td>luminal-b</td>\n",
       "      <td>../data/raw/CMMD/images/D2-0002/07-18-2010-NA-...</td>\n",
       "      <td>CC</td>\n",
       "    </tr>\n",
       "    <tr>\n",
       "      <th>2</th>\n",
       "      <td>D2-0003</td>\n",
       "      <td>L</td>\n",
       "      <td>44</td>\n",
       "      <td>calcification</td>\n",
       "      <td>luminal-b</td>\n",
       "      <td>../data/raw/CMMD/images/D2-0003/07-18-2010-NA-...</td>\n",
       "      <td>CC</td>\n",
       "    </tr>\n",
       "    <tr>\n",
       "      <th>3</th>\n",
       "      <td>D2-0004</td>\n",
       "      <td>L</td>\n",
       "      <td>38</td>\n",
       "      <td>calcification</td>\n",
       "      <td>luminal-b</td>\n",
       "      <td>../data/raw/CMMD/images/D2-0004/07-18-2010-NA-...</td>\n",
       "      <td>CC</td>\n",
       "    </tr>\n",
       "    <tr>\n",
       "      <th>4</th>\n",
       "      <td>D2-0005</td>\n",
       "      <td>R</td>\n",
       "      <td>41</td>\n",
       "      <td>calcification</td>\n",
       "      <td>her2-enriched</td>\n",
       "      <td>../data/raw/CMMD/images/D2-0005/07-18-2010-NA-...</td>\n",
       "      <td>CC</td>\n",
       "    </tr>\n",
       "  </tbody>\n",
       "</table>\n",
       "</div>"
      ]
     },
     "execution_count": 18,
     "metadata": {},
     "output_type": "execute_result"
    }
   ],
   "execution_count": 18
  },
  {
   "cell_type": "code",
   "metadata": {
    "ExecuteTime": {
     "end_time": "2025-03-24T21:16:03.330424Z",
     "start_time": "2025-03-24T21:15:58.475978Z"
    }
   },
   "source": [
    "# Fix laterality and view\n",
    "for i, row in cmmd.iterrows():\n",
    "    if '1-3.dcm' in row['originalPath']:\n",
    "        patientID = row['patientId']\n",
    "        cmmd.loc[(cmmd['patientId'] == patientID) & (cmmd['originalPath'].str.contains('1-1.dcm')), 'laterality'] = 'L'\n",
    "        cmmd.loc[(cmmd['patientId'] == patientID) & (\n",
    "            cmmd['originalPath'].str.contains('1-2.dcm')), 'laterality'] = 'L'\n",
    "        cmmd.loc[(cmmd['patientId'] == patientID) & (\n",
    "            cmmd['originalPath'].str.contains('1-1.dcm')), 'view'] = 'CC'\n",
    "        cmmd.loc[(cmmd['patientId'] == patientID) & (\n",
    "            cmmd['originalPath'].str.contains('1-2.dcm')), 'view'] = 'MLO'\n",
    "        cmmd.loc[(cmmd['patientId'] == patientID) & (\n",
    "            cmmd['originalPath'].str.contains('1-3.dcm')), 'laterality'] = 'R'\n",
    "        cmmd.loc[(cmmd['patientId'] == patientID) & (\n",
    "            cmmd['originalPath'].str.contains('1-3.dcm')), 'view'] = 'CC'\n",
    "        cmmd.loc[(cmmd['patientId'] == patientID) & (\n",
    "            cmmd['originalPath'].str.contains('1-4.dcm')), 'laterality'] = 'R'\n",
    "        cmmd.loc[(cmmd['patientId'] == patientID) & (\n",
    "            cmmd['originalPath'].str.contains('1-4.dcm')), 'view'] = 'MLO'"
   ],
   "outputs": [],
   "execution_count": 19
  },
  {
   "metadata": {
    "ExecuteTime": {
     "end_time": "2025-03-24T21:16:03.337817Z",
     "start_time": "2025-03-24T21:16:03.335282Z"
    }
   },
   "cell_type": "code",
   "source": "cmmd['laterality'] = cmmd['laterality'].fillna(cmmd['malignantSide'])",
   "outputs": [],
   "execution_count": 20
  },
  {
   "cell_type": "code",
   "metadata": {
    "ExecuteTime": {
     "end_time": "2025-03-24T21:16:03.360374Z",
     "start_time": "2025-03-24T21:16:03.357357Z"
    }
   },
   "source": [
    "cmmd.shape"
   ],
   "outputs": [
    {
     "data": {
      "text/plain": [
       "(2988, 8)"
      ]
     },
     "execution_count": 21,
     "metadata": {},
     "output_type": "execute_result"
    }
   ],
   "execution_count": 21
  },
  {
   "cell_type": "code",
   "metadata": {
    "ExecuteTime": {
     "end_time": "2025-03-24T21:16:03.422110Z",
     "start_time": "2025-03-24T21:16:03.418558Z"
    }
   },
   "source": [
    "cmmd_filtered = cmmd[cmmd['laterality'] == cmmd['malignantSide']]\n",
    "cmmd_filtered.shape"
   ],
   "outputs": [
    {
     "data": {
      "text/plain": [
       "(1498, 8)"
      ]
     },
     "execution_count": 22,
     "metadata": {},
     "output_type": "execute_result"
    }
   ],
   "execution_count": 22
  },
  {
   "cell_type": "code",
   "metadata": {
    "ExecuteTime": {
     "end_time": "2025-03-24T21:16:03.437019Z",
     "start_time": "2025-03-24T21:16:03.431148Z"
    }
   },
   "source": "cmmd_filtered.query('patientId == \"D2-0402\"')",
   "outputs": [
    {
     "data": {
      "text/plain": [
       "    patientId malignantSide  age abnormality    subtype  \\\n",
       "401   D2-0402             R   49        mass  luminal-a   \n",
       "401   D2-0402             R   49        mass  luminal-a   \n",
       "\n",
       "                                          originalPath view laterality  \n",
       "401  ../data/raw/CMMD/images/D2-0402/07-18-2010-NA-...   CC          R  \n",
       "401  ../data/raw/CMMD/images/D2-0402/07-18-2010-NA-...  MLO          R  "
      ],
      "text/html": [
       "<div>\n",
       "<style scoped>\n",
       "    .dataframe tbody tr th:only-of-type {\n",
       "        vertical-align: middle;\n",
       "    }\n",
       "\n",
       "    .dataframe tbody tr th {\n",
       "        vertical-align: top;\n",
       "    }\n",
       "\n",
       "    .dataframe thead th {\n",
       "        text-align: right;\n",
       "    }\n",
       "</style>\n",
       "<table border=\"1\" class=\"dataframe\">\n",
       "  <thead>\n",
       "    <tr style=\"text-align: right;\">\n",
       "      <th></th>\n",
       "      <th>patientId</th>\n",
       "      <th>malignantSide</th>\n",
       "      <th>age</th>\n",
       "      <th>abnormality</th>\n",
       "      <th>subtype</th>\n",
       "      <th>originalPath</th>\n",
       "      <th>view</th>\n",
       "      <th>laterality</th>\n",
       "    </tr>\n",
       "  </thead>\n",
       "  <tbody>\n",
       "    <tr>\n",
       "      <th>401</th>\n",
       "      <td>D2-0402</td>\n",
       "      <td>R</td>\n",
       "      <td>49</td>\n",
       "      <td>mass</td>\n",
       "      <td>luminal-a</td>\n",
       "      <td>../data/raw/CMMD/images/D2-0402/07-18-2010-NA-...</td>\n",
       "      <td>CC</td>\n",
       "      <td>R</td>\n",
       "    </tr>\n",
       "    <tr>\n",
       "      <th>401</th>\n",
       "      <td>D2-0402</td>\n",
       "      <td>R</td>\n",
       "      <td>49</td>\n",
       "      <td>mass</td>\n",
       "      <td>luminal-a</td>\n",
       "      <td>../data/raw/CMMD/images/D2-0402/07-18-2010-NA-...</td>\n",
       "      <td>MLO</td>\n",
       "      <td>R</td>\n",
       "    </tr>\n",
       "  </tbody>\n",
       "</table>\n",
       "</div>"
      ]
     },
     "execution_count": 23,
     "metadata": {},
     "output_type": "execute_result"
    }
   ],
   "execution_count": 23
  },
  {
   "cell_type": "code",
   "metadata": {
    "ExecuteTime": {
     "end_time": "2025-03-24T21:16:03.474062Z",
     "start_time": "2025-03-24T21:16:03.469200Z"
    }
   },
   "source": [
    "patient = cmmd_filtered.query('patientId == \"D2-0026\"')\n",
    "patient"
   ],
   "outputs": [
    {
     "data": {
      "text/plain": [
       "   patientId malignantSide  age    abnormality    subtype  \\\n",
       "25   D2-0026             L   46  calcification  luminal-b   \n",
       "25   D2-0026             L   46  calcification  luminal-b   \n",
       "\n",
       "                                         originalPath view laterality  \n",
       "25  ../data/raw/CMMD/images/D2-0026/07-18-2010-NA-...   CC          L  \n",
       "25  ../data/raw/CMMD/images/D2-0026/07-18-2010-NA-...  MLO          L  "
      ],
      "text/html": [
       "<div>\n",
       "<style scoped>\n",
       "    .dataframe tbody tr th:only-of-type {\n",
       "        vertical-align: middle;\n",
       "    }\n",
       "\n",
       "    .dataframe tbody tr th {\n",
       "        vertical-align: top;\n",
       "    }\n",
       "\n",
       "    .dataframe thead th {\n",
       "        text-align: right;\n",
       "    }\n",
       "</style>\n",
       "<table border=\"1\" class=\"dataframe\">\n",
       "  <thead>\n",
       "    <tr style=\"text-align: right;\">\n",
       "      <th></th>\n",
       "      <th>patientId</th>\n",
       "      <th>malignantSide</th>\n",
       "      <th>age</th>\n",
       "      <th>abnormality</th>\n",
       "      <th>subtype</th>\n",
       "      <th>originalPath</th>\n",
       "      <th>view</th>\n",
       "      <th>laterality</th>\n",
       "    </tr>\n",
       "  </thead>\n",
       "  <tbody>\n",
       "    <tr>\n",
       "      <th>25</th>\n",
       "      <td>D2-0026</td>\n",
       "      <td>L</td>\n",
       "      <td>46</td>\n",
       "      <td>calcification</td>\n",
       "      <td>luminal-b</td>\n",
       "      <td>../data/raw/CMMD/images/D2-0026/07-18-2010-NA-...</td>\n",
       "      <td>CC</td>\n",
       "      <td>L</td>\n",
       "    </tr>\n",
       "    <tr>\n",
       "      <th>25</th>\n",
       "      <td>D2-0026</td>\n",
       "      <td>L</td>\n",
       "      <td>46</td>\n",
       "      <td>calcification</td>\n",
       "      <td>luminal-b</td>\n",
       "      <td>../data/raw/CMMD/images/D2-0026/07-18-2010-NA-...</td>\n",
       "      <td>MLO</td>\n",
       "      <td>L</td>\n",
       "    </tr>\n",
       "  </tbody>\n",
       "</table>\n",
       "</div>"
      ]
     },
     "execution_count": 24,
     "metadata": {},
     "output_type": "execute_result"
    }
   ],
   "execution_count": 24
  },
  {
   "cell_type": "code",
   "metadata": {
    "ExecuteTime": {
     "end_time": "2025-03-24T21:16:03.507415Z",
     "start_time": "2025-03-24T21:16:03.501084Z"
    }
   },
   "source": [
    "dcm = pydicom.dcmread(patient.iloc[0]['originalPath'])\n",
    "dcm.ImageLaterality"
   ],
   "outputs": [
    {
     "data": {
      "text/plain": [
       "'L'"
      ]
     },
     "execution_count": 25,
     "metadata": {},
     "output_type": "execute_result"
    }
   ],
   "execution_count": 25
  },
  {
   "cell_type": "code",
   "metadata": {
    "ExecuteTime": {
     "end_time": "2025-03-24T21:16:04.216360Z",
     "start_time": "2025-03-24T21:16:03.570430Z"
    }
   },
   "source": [
    "first_patient = cmmd_filtered.query('patientId == \"D2-0402\"')\n",
    "# subplot for each view\n",
    "fig, axs = plt.subplots(1, 2, figsize=(15, 5))\n",
    "index = 0\n",
    "for i, row in first_patient.iterrows():\n",
    "    dcm = pydicom.dcmread(row['originalPath'])\n",
    "\n",
    "    axs[index].imshow(dcm.pixel_array, cmap='gray')\n",
    "    axs[index].set_title(f'{row[\"view\"]} - {row[\"laterality\"]}')\n",
    "    axs[index].axis('off')\n",
    "    index += 1\n",
    "plt.show()"
   ],
   "outputs": [
    {
     "data": {
      "text/plain": [
       "<Figure size 1500x500 with 2 Axes>"
      ],
      "image/png": "[encoded data removed]"
     },
     "metadata": {},
     "output_type": "display_data"
    }
   ],
   "execution_count": 26
  },
  {
   "cell_type": "code",
   "metadata": {
    "ExecuteTime": {
     "end_time": "2025-03-24T21:16:04.237023Z",
     "start_time": "2025-03-24T21:16:04.234800Z"
    }
   },
   "source": [
    "cmmd_converted = cmmd_filtered.copy()\n",
    "cmmd_converted['convertedPath'] = ''"
   ],
   "outputs": [],
   "execution_count": 27
  },
  {
   "cell_type": "code",
   "metadata": {
    "ExecuteTime": {
     "end_time": "2025-03-24T21:18:23.410320Z",
     "start_time": "2025-03-24T21:17:54.781441Z"
    }
   },
   "source": [
    "import cv2\n",
    "import numpy as np\n",
    "import os\n",
    "import shutil\n",
    "from src.preprocessing import crop_image_roi, apply_clahe\n",
    "\n",
    "output_folder = '../data/processed/converted/'\n",
    "\n",
    "if os.path.exists(output_folder):\n",
    "    shutil.rmtree(output_folder)\n",
    "\n",
    "index = 0\n",
    "for i, row in cmmd_converted.iterrows():\n",
    "    dcm = pydicom.dcmread(row['originalPath'])\n",
    "    img = dcm.pixel_array\n",
    "    img = cv2.normalize(img, None, 0, 255, cv2.NORM_MINMAX)\n",
    "    img = np.uint8(img)\n",
    "    cropped_img = crop_image_roi(img)\n",
    "    processed_img = apply_clahe(cropped_img)\n",
    "    patient_folder = os.path.join(output_folder, row['patientId'])\n",
    "    os.makedirs(patient_folder, exist_ok=True)\n",
    "    image_name = f'{row[\"view\"]}-{row[\"malignantSide\"]}.png'\n",
    "    cmmd_converted.iloc[index, cmmd_converted.columns.get_loc('convertedPath')] = os.path.join(patient_folder, image_name)\n",
    "    cv2.imwrite(os.path.join(patient_folder, image_name), processed_img)\n",
    "    index += 1"
   ],
   "outputs": [],
   "execution_count": 33
  },
  {
   "cell_type": "code",
   "metadata": {
    "ExecuteTime": {
     "end_time": "2025-03-24T21:16:29.141754Z",
     "start_time": "2025-03-24T21:16:29.137770Z"
    }
   },
   "source": [
    "cmmd_filtered.head()"
   ],
   "outputs": [
    {
     "data": {
      "text/plain": [
       "   patientId malignantSide  age    abnormality          subtype  \\\n",
       "0    D2-0001             L   64  calcification        luminal-b   \n",
       "2    D2-0003             L   44  calcification        luminal-b   \n",
       "3    D2-0004             L   38  calcification        luminal-b   \n",
       "11   D2-0012             L   32  calcification    her2-enriched   \n",
       "12   D2-0013             L   57  calcification  triple-negative   \n",
       "\n",
       "                                         originalPath view laterality  \n",
       "0   ../data/raw/CMMD/images/D2-0001/07-18-2011-NA-...   CC          L  \n",
       "2   ../data/raw/CMMD/images/D2-0003/07-18-2010-NA-...   CC          L  \n",
       "3   ../data/raw/CMMD/images/D2-0004/07-18-2010-NA-...   CC          L  \n",
       "11  ../data/raw/CMMD/images/D2-0012/07-18-2010-NA-...   CC          L  \n",
       "12  ../data/raw/CMMD/images/D2-0013/07-18-2010-NA-...   CC          L  "
      ],
      "text/html": [
       "<div>\n",
       "<style scoped>\n",
       "    .dataframe tbody tr th:only-of-type {\n",
       "        vertical-align: middle;\n",
       "    }\n",
       "\n",
       "    .dataframe tbody tr th {\n",
       "        vertical-align: top;\n",
       "    }\n",
       "\n",
       "    .dataframe thead th {\n",
       "        text-align: right;\n",
       "    }\n",
       "</style>\n",
       "<table border=\"1\" class=\"dataframe\">\n",
       "  <thead>\n",
       "    <tr style=\"text-align: right;\">\n",
       "      <th></th>\n",
       "      <th>patientId</th>\n",
       "      <th>malignantSide</th>\n",
       "      <th>age</th>\n",
       "      <th>abnormality</th>\n",
       "      <th>subtype</th>\n",
       "      <th>originalPath</th>\n",
       "      <th>view</th>\n",
       "      <th>laterality</th>\n",
       "    </tr>\n",
       "  </thead>\n",
       "  <tbody>\n",
       "    <tr>\n",
       "      <th>0</th>\n",
       "      <td>D2-0001</td>\n",
       "      <td>L</td>\n",
       "      <td>64</td>\n",
       "      <td>calcification</td>\n",
       "      <td>luminal-b</td>\n",
       "      <td>../data/raw/CMMD/images/D2-0001/07-18-2011-NA-...</td>\n",
       "      <td>CC</td>\n",
       "      <td>L</td>\n",
       "    </tr>\n",
       "    <tr>\n",
       "      <th>2</th>\n",
       "      <td>D2-0003</td>\n",
       "      <td>L</td>\n",
       "      <td>44</td>\n",
       "      <td>calcification</td>\n",
       "      <td>luminal-b</td>\n",
       "      <td>../data/raw/CMMD/images/D2-0003/07-18-2010-NA-...</td>\n",
       "      <td>CC</td>\n",
       "      <td>L</td>\n",
       "    </tr>\n",
       "    <tr>\n",
       "      <th>3</th>\n",
       "      <td>D2-0004</td>\n",
       "      <td>L</td>\n",
       "      <td>38</td>\n",
       "      <td>calcification</td>\n",
       "      <td>luminal-b</td>\n",
       "      <td>../data/raw/CMMD/images/D2-0004/07-18-2010-NA-...</td>\n",
       "      <td>CC</td>\n",
       "      <td>L</td>\n",
       "    </tr>\n",
       "    <tr>\n",
       "      <th>11</th>\n",
       "      <td>D2-0012</td>\n",
       "      <td>L</td>\n",
       "      <td>32</td>\n",
       "      <td>calcification</td>\n",
       "      <td>her2-enriched</td>\n",
       "      <td>../data/raw/CMMD/images/D2-0012/07-18-2010-NA-...</td>\n",
       "      <td>CC</td>\n",
       "      <td>L</td>\n",
       "    </tr>\n",
       "    <tr>\n",
       "      <th>12</th>\n",
       "      <td>D2-0013</td>\n",
       "      <td>L</td>\n",
       "      <td>57</td>\n",
       "      <td>calcification</td>\n",
       "      <td>triple-negative</td>\n",
       "      <td>../data/raw/CMMD/images/D2-0013/07-18-2010-NA-...</td>\n",
       "      <td>CC</td>\n",
       "      <td>L</td>\n",
       "    </tr>\n",
       "  </tbody>\n",
       "</table>\n",
       "</div>"
      ]
     },
     "execution_count": 29,
     "metadata": {},
     "output_type": "execute_result"
    }
   ],
   "execution_count": 29
  },
  {
   "cell_type": "code",
   "metadata": {
    "ExecuteTime": {
     "end_time": "2025-03-24T21:16:29.185779Z",
     "start_time": "2025-03-24T21:16:29.180799Z"
    }
   },
   "source": [
    "cmmd_converted.head()"
   ],
   "outputs": [
    {
     "data": {
      "text/plain": [
       "   patientId malignantSide  age    abnormality          subtype  \\\n",
       "0    D2-0001             L   64  calcification        luminal-b   \n",
       "2    D2-0003             L   44  calcification        luminal-b   \n",
       "3    D2-0004             L   38  calcification        luminal-b   \n",
       "11   D2-0012             L   32  calcification    her2-enriched   \n",
       "12   D2-0013             L   57  calcification  triple-negative   \n",
       "\n",
       "                                         originalPath view laterality  \\\n",
       "0   ../data/raw/CMMD/images/D2-0001/07-18-2011-NA-...   CC          L   \n",
       "2   ../data/raw/CMMD/images/D2-0003/07-18-2010-NA-...   CC          L   \n",
       "3   ../data/raw/CMMD/images/D2-0004/07-18-2010-NA-...   CC          L   \n",
       "11  ../data/raw/CMMD/images/D2-0012/07-18-2010-NA-...   CC          L   \n",
       "12  ../data/raw/CMMD/images/D2-0013/07-18-2010-NA-...   CC          L   \n",
       "\n",
       "                                   convertedPath  \n",
       "0   ../data/processed/converted/D2-0001/CC-L.png  \n",
       "2   ../data/processed/converted/D2-0003/CC-L.png  \n",
       "3   ../data/processed/converted/D2-0004/CC-L.png  \n",
       "11  ../data/processed/converted/D2-0012/CC-L.png  \n",
       "12  ../data/processed/converted/D2-0013/CC-L.png  "
      ],
      "text/html": [
       "<div>\n",
       "<style scoped>\n",
       "    .dataframe tbody tr th:only-of-type {\n",
       "        vertical-align: middle;\n",
       "    }\n",
       "\n",
       "    .dataframe tbody tr th {\n",
       "        vertical-align: top;\n",
       "    }\n",
       "\n",
       "    .dataframe thead th {\n",
       "        text-align: right;\n",
       "    }\n",
       "</style>\n",
       "<table border=\"1\" class=\"dataframe\">\n",
       "  <thead>\n",
       "    <tr style=\"text-align: right;\">\n",
       "      <th></th>\n",
       "      <th>patientId</th>\n",
       "      <th>malignantSide</th>\n",
       "      <th>age</th>\n",
       "      <th>abnormality</th>\n",
       "      <th>subtype</th>\n",
       "      <th>originalPath</th>\n",
       "      <th>view</th>\n",
       "      <th>laterality</th>\n",
       "      <th>convertedPath</th>\n",
       "    </tr>\n",
       "  </thead>\n",
       "  <tbody>\n",
       "    <tr>\n",
       "      <th>0</th>\n",
       "      <td>D2-0001</td>\n",
       "      <td>L</td>\n",
       "      <td>64</td>\n",
       "      <td>calcification</td>\n",
       "      <td>luminal-b</td>\n",
       "      <td>../data/raw/CMMD/images/D2-0001/07-18-2011-NA-...</td>\n",
       "      <td>CC</td>\n",
       "      <td>L</td>\n",
       "      <td>../data/processed/converted/D2-0001/CC-L.png</td>\n",
       "    </tr>\n",
       "    <tr>\n",
       "      <th>2</th>\n",
       "      <td>D2-0003</td>\n",
       "      <td>L</td>\n",
       "      <td>44</td>\n",
       "      <td>calcification</td>\n",
       "      <td>luminal-b</td>\n",
       "      <td>../data/raw/CMMD/images/D2-0003/07-18-2010-NA-...</td>\n",
       "      <td>CC</td>\n",
       "      <td>L</td>\n",
       "      <td>../data/processed/converted/D2-0003/CC-L.png</td>\n",
       "    </tr>\n",
       "    <tr>\n",
       "      <th>3</th>\n",
       "      <td>D2-0004</td>\n",
       "      <td>L</td>\n",
       "      <td>38</td>\n",
       "      <td>calcification</td>\n",
       "      <td>luminal-b</td>\n",
       "      <td>../data/raw/CMMD/images/D2-0004/07-18-2010-NA-...</td>\n",
       "      <td>CC</td>\n",
       "      <td>L</td>\n",
       "      <td>../data/processed/converted/D2-0004/CC-L.png</td>\n",
       "    </tr>\n",
       "    <tr>\n",
       "      <th>11</th>\n",
       "      <td>D2-0012</td>\n",
       "      <td>L</td>\n",
       "      <td>32</td>\n",
       "      <td>calcification</td>\n",
       "      <td>her2-enriched</td>\n",
       "      <td>../data/raw/CMMD/images/D2-0012/07-18-2010-NA-...</td>\n",
       "      <td>CC</td>\n",
       "      <td>L</td>\n",
       "      <td>../data/processed/converted/D2-0012/CC-L.png</td>\n",
       "    </tr>\n",
       "    <tr>\n",
       "      <th>12</th>\n",
       "      <td>D2-0013</td>\n",
       "      <td>L</td>\n",
       "      <td>57</td>\n",
       "      <td>calcification</td>\n",
       "      <td>triple-negative</td>\n",
       "      <td>../data/raw/CMMD/images/D2-0013/07-18-2010-NA-...</td>\n",
       "      <td>CC</td>\n",
       "      <td>L</td>\n",
       "      <td>../data/processed/converted/D2-0013/CC-L.png</td>\n",
       "    </tr>\n",
       "  </tbody>\n",
       "</table>\n",
       "</div>"
      ]
     },
     "execution_count": 30,
     "metadata": {},
     "output_type": "execute_result"
    }
   ],
   "execution_count": 30
  },
  {
   "cell_type": "code",
   "metadata": {
    "ExecuteTime": {
     "end_time": "2025-03-24T21:16:29.227504Z",
     "start_time": "2025-03-24T21:16:29.217651Z"
    }
   },
   "source": [
    "cmmd_converted.to_csv('../data/processed/cmmd_converted.csv', index=False)"
   ],
   "outputs": [],
   "execution_count": 31
  },
  {
   "cell_type": "code",
   "metadata": {
    "ExecuteTime": {
     "end_time": "2025-03-24T21:16:29.272661Z",
     "start_time": "2025-03-24T21:16:29.270749Z"
    }
   },
   "source": [],
   "outputs": [],
   "execution_count": null
  }
 ],
 "metadata": {
  "kernelspec": {
   "display_name": ".venv",
   "language": "python",
   "name": "python3"
  },
  "language_info": {
   "codemirror_mode": {
    "name": "ipython",
    "version": 3
   },
   "file_extension": ".py",
   "mimetype": "text/x-python",
   "name": "python",
   "nbconvert_exporter": "python",
   "pygments_lexer": "ipython3",
   "version": "3.12.2"
  }
 },
 "nbformat": 4,
 "nbformat_minor": 2
}
