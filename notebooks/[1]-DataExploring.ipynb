{
 "cells": [
  {
   "cell_type": "markdown",
   "metadata": {},
   "source": [
    "# Data Exploring Notebook\n",
    "The purpose of this notebook is the exploration of the CMMD Dataset (Chinese Mammography Database). With this exploration, we can then preprocess and split the data for training and experimentation.\n",
    "\n",
    "The main objective is to classify the molecular subtypes of breast cancer using only mammographic images, and for that reason, the main focus will be in the \"malignant\" labeled cases."
   ]
  },
  {
   "cell_type": "markdown",
   "metadata": {},
   "source": [
    "# 0. Imports"
   ]
  },
  {
   "metadata": {
    "ExecuteTime": {
     "end_time": "2025-05-26T10:18:36.382725Z",
     "start_time": "2025-05-26T10:18:36.321419Z"
    }
   },
   "cell_type": "code",
   "source": [
    "%load_ext autoreload\n",
    "%autoreload 2"
   ],
   "outputs": [],
   "execution_count": 2
  },
  {
   "cell_type": "code",
   "metadata": {
    "ExecuteTime": {
     "end_time": "2025-05-26T10:27:48.167217Z",
     "start_time": "2025-05-26T10:27:48.143552Z"
    }
   },
   "source": [
    "import pandas as pd\n",
    "import seaborn as sns\n",
    "from config import RAW_DATA_DIR\n",
    "import matplotlib.pyplot as plt"
   ],
   "outputs": [],
   "execution_count": 20
  },
  {
   "metadata": {},
   "cell_type": "markdown",
   "source": "# 1. CMMD Dataset"
  },
  {
   "cell_type": "markdown",
   "metadata": {},
   "source": "## 1.1 Load data"
  },
  {
   "cell_type": "code",
   "metadata": {
    "ExecuteTime": {
     "end_time": "2025-05-26T10:18:57.199566Z",
     "start_time": "2025-05-26T10:18:56.941306Z"
    }
   },
   "source": [
    "clinical_data_df = pd.read_excel(f'{RAW_DATA_DIR}/CMMD/CMMD_clinicaldata_revision.xlsx')\n",
    "metadata_df = pd.read_csv(f'{RAW_DATA_DIR}/CMMD/metadata.csv')"
   ],
   "outputs": [],
   "execution_count": 5
  },
  {
   "cell_type": "code",
   "metadata": {
    "ExecuteTime": {
     "end_time": "2025-05-26T10:18:57.642340Z",
     "start_time": "2025-05-26T10:18:57.622044Z"
    }
   },
   "source": "clinical_data_df.columns",
   "outputs": [
    {
     "data": {
      "text/plain": [
       "Index(['ID1', 'LeftRight', 'Age', 'number', 'abnormality', 'classification',\n",
       "       'subtype'],\n",
       "      dtype='object')"
      ]
     },
     "execution_count": 6,
     "metadata": {},
     "output_type": "execute_result"
    }
   ],
   "execution_count": 6
  },
  {
   "cell_type": "code",
   "metadata": {
    "ExecuteTime": {
     "end_time": "2025-05-26T10:18:58.122108Z",
     "start_time": "2025-05-26T10:18:58.096650Z"
    }
   },
   "source": [
    "metadata_df.head(5)"
   ],
   "outputs": [
    {
     "data": {
      "text/plain": [
       "                                          Series UID Collection  \\\n",
       "0  1.3.6.1.4.1.14519.5.2.1.1239.1759.623006463861...       CMMD   \n",
       "1  1.3.6.1.4.1.14519.5.2.1.1239.1759.610823649257...       CMMD   \n",
       "2  1.3.6.1.4.1.14519.5.2.1.1239.1759.292560899611...       CMMD   \n",
       "3  1.3.6.1.4.1.14519.5.2.1.1239.1759.328825651506...       CMMD   \n",
       "4  1.3.6.1.4.1.14519.5.2.1.1239.1759.148395128205...       CMMD   \n",
       "\n",
       "  3rd Party Analysis                   Data Description URI Subject ID  \\\n",
       "0                 NO  https://doi.org/10.7937/tcia.eqde4b16    D1-0001   \n",
       "1                 NO  https://doi.org/10.7937/tcia.eqde4b16    D1-0002   \n",
       "2                 NO  https://doi.org/10.7937/tcia.eqde4b16    D1-0003   \n",
       "3                 NO  https://doi.org/10.7937/tcia.eqde4b16    D1-0004   \n",
       "4                 NO  https://doi.org/10.7937/tcia.eqde4b16    D1-0007   \n",
       "\n",
       "                                           Study UID  Study Description  \\\n",
       "0  1.3.6.1.4.1.14519.5.2.1.1239.1759.335790956129...                NaN   \n",
       "1  1.3.6.1.4.1.14519.5.2.1.1239.1759.241519791051...                NaN   \n",
       "2  1.3.6.1.4.1.14519.5.2.1.1239.1759.113089024322...                NaN   \n",
       "3  1.3.6.1.4.1.14519.5.2.1.1239.1759.132173027545...                NaN   \n",
       "4  1.3.6.1.4.1.14519.5.2.1.1239.1759.225080655188...                NaN   \n",
       "\n",
       "   Study Date  Series Description  Manufacturer Modality  \\\n",
       "0  07-18-2010                 NaN           NaN       MG   \n",
       "1  07-18-2010                 NaN           NaN       MG   \n",
       "2  07-18-2011                 NaN           NaN       MG   \n",
       "3  07-18-2011                 NaN           NaN       MG   \n",
       "4  07-18-2010                 NaN           NaN       MG   \n",
       "\n",
       "                                      SOP Class Name  \\\n",
       "0  Digital Mammography X-Ray Image Storage - For ...   \n",
       "1  Digital Mammography X-Ray Image Storage - For ...   \n",
       "2  Digital Mammography X-Ray Image Storage - For ...   \n",
       "3  Digital Mammography X-Ray Image Storage - For ...   \n",
       "4  Digital Mammography X-Ray Image Storage - For ...   \n",
       "\n",
       "                 SOP Class UID  Number of Images File Size  \\\n",
       "0  1.2.840.10008.5.1.4.1.1.1.2                 2   8.79 MB   \n",
       "1  1.2.840.10008.5.1.4.1.1.1.2                 2   8.79 MB   \n",
       "2  1.2.840.10008.5.1.4.1.1.1.2                 2   8.79 MB   \n",
       "3  1.2.840.10008.5.1.4.1.1.1.2                 2   8.79 MB   \n",
       "4  1.2.840.10008.5.1.4.1.1.1.2                 2   8.79 MB   \n",
       "\n",
       "                                       File Location       Download Timestamp  \n",
       "0  .\\CMMD\\D1-0001\\07-18-2010-NA-NA-79377\\1.000000...  2022-04-06T19:50:58.958  \n",
       "1  .\\CMMD\\D1-0002\\07-18-2010-NA-NA-49231\\1.000000...  2022-04-06T19:50:59.081  \n",
       "2  .\\CMMD\\D1-0003\\07-18-2011-NA-NA-25491\\1.000000...   2022-04-06T19:50:59.25  \n",
       "3  .\\CMMD\\D1-0004\\07-18-2011-NA-NA-14914\\1.000000...  2022-04-06T19:51:00.622  \n",
       "4  .\\CMMD\\D1-0007\\07-18-2010-NA-NA-58107\\1.000000...  2022-04-06T19:51:02.192  "
      ],
      "text/html": [
       "<div>\n",
       "<style scoped>\n",
       "    .dataframe tbody tr th:only-of-type {\n",
       "        vertical-align: middle;\n",
       "    }\n",
       "\n",
       "    .dataframe tbody tr th {\n",
       "        vertical-align: top;\n",
       "    }\n",
       "\n",
       "    .dataframe thead th {\n",
       "        text-align: right;\n",
       "    }\n",
       "</style>\n",
       "<table border=\"1\" class=\"dataframe\">\n",
       "  <thead>\n",
       "    <tr style=\"text-align: right;\">\n",
       "      <th></th>\n",
       "      <th>Series UID</th>\n",
       "      <th>Collection</th>\n",
       "      <th>3rd Party Analysis</th>\n",
       "      <th>Data Description URI</th>\n",
       "      <th>Subject ID</th>\n",
       "      <th>Study UID</th>\n",
       "      <th>Study Description</th>\n",
       "      <th>Study Date</th>\n",
       "      <th>Series Description</th>\n",
       "      <th>Manufacturer</th>\n",
       "      <th>Modality</th>\n",
       "      <th>SOP Class Name</th>\n",
       "      <th>SOP Class UID</th>\n",
       "      <th>Number of Images</th>\n",
       "      <th>File Size</th>\n",
       "      <th>File Location</th>\n",
       "      <th>Download Timestamp</th>\n",
       "    </tr>\n",
       "  </thead>\n",
       "  <tbody>\n",
       "    <tr>\n",
       "      <th>0</th>\n",
       "      <td>1.3.6.1.4.1.14519.5.2.1.1239.1759.623006463861...</td>\n",
       "      <td>CMMD</td>\n",
       "      <td>NO</td>\n",
       "      <td>https://doi.org/10.7937/tcia.eqde4b16</td>\n",
       "      <td>D1-0001</td>\n",
       "      <td>1.3.6.1.4.1.14519.5.2.1.1239.1759.335790956129...</td>\n",
       "      <td>NaN</td>\n",
       "      <td>07-18-2010</td>\n",
       "      <td>NaN</td>\n",
       "      <td>NaN</td>\n",
       "      <td>MG</td>\n",
       "      <td>Digital Mammography X-Ray Image Storage - For ...</td>\n",
       "      <td>1.2.840.10008.5.1.4.1.1.1.2</td>\n",
       "      <td>2</td>\n",
       "      <td>8.79 MB</td>\n",
       "      <td>.\\CMMD\\D1-0001\\07-18-2010-NA-NA-79377\\1.000000...</td>\n",
       "      <td>2022-04-06T19:50:58.958</td>\n",
       "    </tr>\n",
       "    <tr>\n",
       "      <th>1</th>\n",
       "      <td>1.3.6.1.4.1.14519.5.2.1.1239.1759.610823649257...</td>\n",
       "      <td>CMMD</td>\n",
       "      <td>NO</td>\n",
       "      <td>https://doi.org/10.7937/tcia.eqde4b16</td>\n",
       "      <td>D1-0002</td>\n",
       "      <td>1.3.6.1.4.1.14519.5.2.1.1239.1759.241519791051...</td>\n",
       "      <td>NaN</td>\n",
       "      <td>07-18-2010</td>\n",
       "      <td>NaN</td>\n",
       "      <td>NaN</td>\n",
       "      <td>MG</td>\n",
       "      <td>Digital Mammography X-Ray Image Storage - For ...</td>\n",
       "      <td>1.2.840.10008.5.1.4.1.1.1.2</td>\n",
       "      <td>2</td>\n",
       "      <td>8.79 MB</td>\n",
       "      <td>.\\CMMD\\D1-0002\\07-18-2010-NA-NA-49231\\1.000000...</td>\n",
       "      <td>2022-04-06T19:50:59.081</td>\n",
       "    </tr>\n",
       "    <tr>\n",
       "      <th>2</th>\n",
       "      <td>1.3.6.1.4.1.14519.5.2.1.1239.1759.292560899611...</td>\n",
       "      <td>CMMD</td>\n",
       "      <td>NO</td>\n",
       "      <td>https://doi.org/10.7937/tcia.eqde4b16</td>\n",
       "      <td>D1-0003</td>\n",
       "      <td>1.3.6.1.4.1.14519.5.2.1.1239.1759.113089024322...</td>\n",
       "      <td>NaN</td>\n",
       "      <td>07-18-2011</td>\n",
       "      <td>NaN</td>\n",
       "      <td>NaN</td>\n",
       "      <td>MG</td>\n",
       "      <td>Digital Mammography X-Ray Image Storage - For ...</td>\n",
       "      <td>1.2.840.10008.5.1.4.1.1.1.2</td>\n",
       "      <td>2</td>\n",
       "      <td>8.79 MB</td>\n",
       "      <td>.\\CMMD\\D1-0003\\07-18-2011-NA-NA-25491\\1.000000...</td>\n",
       "      <td>2022-04-06T19:50:59.25</td>\n",
       "    </tr>\n",
       "    <tr>\n",
       "      <th>3</th>\n",
       "      <td>1.3.6.1.4.1.14519.5.2.1.1239.1759.328825651506...</td>\n",
       "      <td>CMMD</td>\n",
       "      <td>NO</td>\n",
       "      <td>https://doi.org/10.7937/tcia.eqde4b16</td>\n",
       "      <td>D1-0004</td>\n",
       "      <td>1.3.6.1.4.1.14519.5.2.1.1239.1759.132173027545...</td>\n",
       "      <td>NaN</td>\n",
       "      <td>07-18-2011</td>\n",
       "      <td>NaN</td>\n",
       "      <td>NaN</td>\n",
       "      <td>MG</td>\n",
       "      <td>Digital Mammography X-Ray Image Storage - For ...</td>\n",
       "      <td>1.2.840.10008.5.1.4.1.1.1.2</td>\n",
       "      <td>2</td>\n",
       "      <td>8.79 MB</td>\n",
       "      <td>.\\CMMD\\D1-0004\\07-18-2011-NA-NA-14914\\1.000000...</td>\n",
       "      <td>2022-04-06T19:51:00.622</td>\n",
       "    </tr>\n",
       "    <tr>\n",
       "      <th>4</th>\n",
       "      <td>1.3.6.1.4.1.14519.5.2.1.1239.1759.148395128205...</td>\n",
       "      <td>CMMD</td>\n",
       "      <td>NO</td>\n",
       "      <td>https://doi.org/10.7937/tcia.eqde4b16</td>\n",
       "      <td>D1-0007</td>\n",
       "      <td>1.3.6.1.4.1.14519.5.2.1.1239.1759.225080655188...</td>\n",
       "      <td>NaN</td>\n",
       "      <td>07-18-2010</td>\n",
       "      <td>NaN</td>\n",
       "      <td>NaN</td>\n",
       "      <td>MG</td>\n",
       "      <td>Digital Mammography X-Ray Image Storage - For ...</td>\n",
       "      <td>1.2.840.10008.5.1.4.1.1.1.2</td>\n",
       "      <td>2</td>\n",
       "      <td>8.79 MB</td>\n",
       "      <td>.\\CMMD\\D1-0007\\07-18-2010-NA-NA-58107\\1.000000...</td>\n",
       "      <td>2022-04-06T19:51:02.192</td>\n",
       "    </tr>\n",
       "  </tbody>\n",
       "</table>\n",
       "</div>"
      ]
     },
     "execution_count": 7,
     "metadata": {},
     "output_type": "execute_result"
    }
   ],
   "execution_count": 7
  },
  {
   "cell_type": "code",
   "metadata": {
    "ExecuteTime": {
     "end_time": "2025-05-26T10:18:58.624547Z",
     "start_time": "2025-05-26T10:18:58.603833Z"
    }
   },
   "source": [
    "clinical_data_df.info()"
   ],
   "outputs": [
    {
     "name": "stdout",
     "output_type": "stream",
     "text": [
      "<class 'pandas.core.frame.DataFrame'>\n",
      "RangeIndex: 1872 entries, 0 to 1871\n",
      "Data columns (total 7 columns):\n",
      " #   Column          Non-Null Count  Dtype \n",
      "---  ------          --------------  ----- \n",
      " 0   ID1             1872 non-null   object\n",
      " 1   LeftRight       1872 non-null   object\n",
      " 2   Age             1872 non-null   int64 \n",
      " 3   number          1872 non-null   int64 \n",
      " 4   abnormality     1872 non-null   object\n",
      " 5   classification  1872 non-null   object\n",
      " 6   subtype         749 non-null    object\n",
      "dtypes: int64(2), object(5)\n",
      "memory usage: 102.5+ KB\n"
     ]
    }
   ],
   "execution_count": 8
  },
  {
   "cell_type": "code",
   "metadata": {
    "ExecuteTime": {
     "end_time": "2025-05-26T10:18:58.923430Z",
     "start_time": "2025-05-26T10:18:58.904249Z"
    }
   },
   "source": [
    "metadata_df.info()"
   ],
   "outputs": [
    {
     "name": "stdout",
     "output_type": "stream",
     "text": [
      "<class 'pandas.core.frame.DataFrame'>\n",
      "RangeIndex: 1775 entries, 0 to 1774\n",
      "Data columns (total 17 columns):\n",
      " #   Column                Non-Null Count  Dtype  \n",
      "---  ------                --------------  -----  \n",
      " 0   Series UID            1775 non-null   object \n",
      " 1   Collection            1775 non-null   object \n",
      " 2   3rd Party Analysis    1775 non-null   object \n",
      " 3   Data Description URI  1775 non-null   object \n",
      " 4   Subject ID            1775 non-null   object \n",
      " 5   Study UID             1775 non-null   object \n",
      " 6   Study Description     0 non-null      float64\n",
      " 7   Study Date            1775 non-null   object \n",
      " 8   Series Description    0 non-null      float64\n",
      " 9   Manufacturer          0 non-null      float64\n",
      " 10  Modality              1775 non-null   object \n",
      " 11  SOP Class Name        1775 non-null   object \n",
      " 12  SOP Class UID         1775 non-null   object \n",
      " 13  Number of Images      1775 non-null   int64  \n",
      " 14  File Size             1775 non-null   object \n",
      " 15  File Location         1775 non-null   object \n",
      " 16  Download Timestamp    1775 non-null   object \n",
      "dtypes: float64(3), int64(1), object(13)\n",
      "memory usage: 235.9+ KB\n"
     ]
    }
   ],
   "execution_count": 9
  },
  {
   "cell_type": "markdown",
   "metadata": {},
   "source": "## 1.2. Exploratory Data Analysis"
  },
  {
   "cell_type": "markdown",
   "metadata": {},
   "source": [
    "### 1.2.1 Clinical Data Analysis\n",
    "For the main objective we are going to filter only the rows with molecular subtype annotation."
   ]
  },
  {
   "metadata": {
    "ExecuteTime": {
     "end_time": "2025-05-26T10:19:01.379547Z",
     "start_time": "2025-05-26T10:19:01.363878Z"
    }
   },
   "cell_type": "code",
   "source": "len(clinical_data_df)",
   "outputs": [
    {
     "data": {
      "text/plain": [
       "1872"
      ]
     },
     "execution_count": 10,
     "metadata": {},
     "output_type": "execute_result"
    }
   ],
   "execution_count": 10
  },
  {
   "cell_type": "code",
   "metadata": {
    "ExecuteTime": {
     "end_time": "2025-05-26T10:19:02.380958Z",
     "start_time": "2025-05-26T10:19:02.362530Z"
    }
   },
   "source": [
    "clinical_data_df_filtered = clinical_data_df[clinical_data_df['subtype'].notnull()]\n",
    "print(f'Original clinical data shape: {clinical_data_df.shape}')\n",
    "print(f'Filtered clinical data shape: {clinical_data_df_filtered.shape}')"
   ],
   "outputs": [
    {
     "name": "stdout",
     "output_type": "stream",
     "text": [
      "Original clinical data shape: (1872, 7)\n",
      "Filtered clinical data shape: (749, 7)\n"
     ]
    }
   ],
   "execution_count": 11
  },
  {
   "cell_type": "markdown",
   "metadata": {},
   "source": [
    "There are 749 rows with molecular subtype annotation"
   ]
  },
  {
   "cell_type": "code",
   "metadata": {
    "ExecuteTime": {
     "end_time": "2025-05-26T10:19:06.729674Z",
     "start_time": "2025-05-26T10:19:06.709559Z"
    }
   },
   "source": [
    "clinical_data_df_filtered.info()"
   ],
   "outputs": [
    {
     "name": "stdout",
     "output_type": "stream",
     "text": [
      "<class 'pandas.core.frame.DataFrame'>\n",
      "Index: 749 entries, 1107 to 1871\n",
      "Data columns (total 7 columns):\n",
      " #   Column          Non-Null Count  Dtype \n",
      "---  ------          --------------  ----- \n",
      " 0   ID1             749 non-null    object\n",
      " 1   LeftRight       749 non-null    object\n",
      " 2   Age             749 non-null    int64 \n",
      " 3   number          749 non-null    int64 \n",
      " 4   abnormality     749 non-null    object\n",
      " 5   classification  749 non-null    object\n",
      " 6   subtype         749 non-null    object\n",
      "dtypes: int64(2), object(5)\n",
      "memory usage: 46.8+ KB\n"
     ]
    }
   ],
   "execution_count": 12
  },
  {
   "cell_type": "code",
   "metadata": {
    "ExecuteTime": {
     "end_time": "2025-05-26T10:19:08.477521Z",
     "start_time": "2025-05-26T10:19:08.456337Z"
    }
   },
   "source": [
    "clinical_data_df_filtered.head(5)\n",
    "clinical_data_df_filtered.sort_values(by='Age')"
   ],
   "outputs": [
    {
     "data": {
      "text/plain": [
       "          ID1 LeftRight  Age  number    abnormality classification  \\\n",
       "1355  D2-0241         L   21       2           both      Malignant   \n",
       "1167  D2-0059         R   25       2  calcification      Malignant   \n",
       "1526  D2-0409         R   27       2           mass      Malignant   \n",
       "1543  D2-0426         R   27       2           mass      Malignant   \n",
       "1381  D2-0265         R   27       2           both      Malignant   \n",
       "...       ...       ...  ...     ...            ...            ...   \n",
       "1619  D2-0502         L   83       2           mass      Malignant   \n",
       "1535  D2-0418         L   83       2           mass      Malignant   \n",
       "1449  D2-0333         R   85       2           mass      Malignant   \n",
       "1773  D2-0654         L   85       2           mass      Malignant   \n",
       "1237  D2-0125         R   87       2           both      Malignant   \n",
       "\n",
       "              subtype  \n",
       "1355        Luminal B  \n",
       "1167        Luminal A  \n",
       "1526        Luminal B  \n",
       "1543        Luminal B  \n",
       "1381        Luminal B  \n",
       "...               ...  \n",
       "1619        Luminal A  \n",
       "1535        Luminal B  \n",
       "1449        Luminal B  \n",
       "1773  triple negative  \n",
       "1237    HER2-enriched  \n",
       "\n",
       "[749 rows x 7 columns]"
      ],
      "text/html": [
       "<div>\n",
       "<style scoped>\n",
       "    .dataframe tbody tr th:only-of-type {\n",
       "        vertical-align: middle;\n",
       "    }\n",
       "\n",
       "    .dataframe tbody tr th {\n",
       "        vertical-align: top;\n",
       "    }\n",
       "\n",
       "    .dataframe thead th {\n",
       "        text-align: right;\n",
       "    }\n",
       "</style>\n",
       "<table border=\"1\" class=\"dataframe\">\n",
       "  <thead>\n",
       "    <tr style=\"text-align: right;\">\n",
       "      <th></th>\n",
       "      <th>ID1</th>\n",
       "      <th>LeftRight</th>\n",
       "      <th>Age</th>\n",
       "      <th>number</th>\n",
       "      <th>abnormality</th>\n",
       "      <th>classification</th>\n",
       "      <th>subtype</th>\n",
       "    </tr>\n",
       "  </thead>\n",
       "  <tbody>\n",
       "    <tr>\n",
       "      <th>1355</th>\n",
       "      <td>D2-0241</td>\n",
       "      <td>L</td>\n",
       "      <td>21</td>\n",
       "      <td>2</td>\n",
       "      <td>both</td>\n",
       "      <td>Malignant</td>\n",
       "      <td>Luminal B</td>\n",
       "    </tr>\n",
       "    <tr>\n",
       "      <th>1167</th>\n",
       "      <td>D2-0059</td>\n",
       "      <td>R</td>\n",
       "      <td>25</td>\n",
       "      <td>2</td>\n",
       "      <td>calcification</td>\n",
       "      <td>Malignant</td>\n",
       "      <td>Luminal A</td>\n",
       "    </tr>\n",
       "    <tr>\n",
       "      <th>1526</th>\n",
       "      <td>D2-0409</td>\n",
       "      <td>R</td>\n",
       "      <td>27</td>\n",
       "      <td>2</td>\n",
       "      <td>mass</td>\n",
       "      <td>Malignant</td>\n",
       "      <td>Luminal B</td>\n",
       "    </tr>\n",
       "    <tr>\n",
       "      <th>1543</th>\n",
       "      <td>D2-0426</td>\n",
       "      <td>R</td>\n",
       "      <td>27</td>\n",
       "      <td>2</td>\n",
       "      <td>mass</td>\n",
       "      <td>Malignant</td>\n",
       "      <td>Luminal B</td>\n",
       "    </tr>\n",
       "    <tr>\n",
       "      <th>1381</th>\n",
       "      <td>D2-0265</td>\n",
       "      <td>R</td>\n",
       "      <td>27</td>\n",
       "      <td>2</td>\n",
       "      <td>both</td>\n",
       "      <td>Malignant</td>\n",
       "      <td>Luminal B</td>\n",
       "    </tr>\n",
       "    <tr>\n",
       "      <th>...</th>\n",
       "      <td>...</td>\n",
       "      <td>...</td>\n",
       "      <td>...</td>\n",
       "      <td>...</td>\n",
       "      <td>...</td>\n",
       "      <td>...</td>\n",
       "      <td>...</td>\n",
       "    </tr>\n",
       "    <tr>\n",
       "      <th>1619</th>\n",
       "      <td>D2-0502</td>\n",
       "      <td>L</td>\n",
       "      <td>83</td>\n",
       "      <td>2</td>\n",
       "      <td>mass</td>\n",
       "      <td>Malignant</td>\n",
       "      <td>Luminal A</td>\n",
       "    </tr>\n",
       "    <tr>\n",
       "      <th>1535</th>\n",
       "      <td>D2-0418</td>\n",
       "      <td>L</td>\n",
       "      <td>83</td>\n",
       "      <td>2</td>\n",
       "      <td>mass</td>\n",
       "      <td>Malignant</td>\n",
       "      <td>Luminal B</td>\n",
       "    </tr>\n",
       "    <tr>\n",
       "      <th>1449</th>\n",
       "      <td>D2-0333</td>\n",
       "      <td>R</td>\n",
       "      <td>85</td>\n",
       "      <td>2</td>\n",
       "      <td>mass</td>\n",
       "      <td>Malignant</td>\n",
       "      <td>Luminal B</td>\n",
       "    </tr>\n",
       "    <tr>\n",
       "      <th>1773</th>\n",
       "      <td>D2-0654</td>\n",
       "      <td>L</td>\n",
       "      <td>85</td>\n",
       "      <td>2</td>\n",
       "      <td>mass</td>\n",
       "      <td>Malignant</td>\n",
       "      <td>triple negative</td>\n",
       "    </tr>\n",
       "    <tr>\n",
       "      <th>1237</th>\n",
       "      <td>D2-0125</td>\n",
       "      <td>R</td>\n",
       "      <td>87</td>\n",
       "      <td>2</td>\n",
       "      <td>both</td>\n",
       "      <td>Malignant</td>\n",
       "      <td>HER2-enriched</td>\n",
       "    </tr>\n",
       "  </tbody>\n",
       "</table>\n",
       "<p>749 rows × 7 columns</p>\n",
       "</div>"
      ]
     },
     "execution_count": 13,
     "metadata": {},
     "output_type": "execute_result"
    }
   ],
   "execution_count": 13
  },
  {
   "cell_type": "code",
   "metadata": {
    "ExecuteTime": {
     "end_time": "2025-05-26T10:19:09.058905Z",
     "start_time": "2025-05-26T10:19:09.044061Z"
    }
   },
   "source": "clinical_data_df_filtered['classification'].value_counts()",
   "outputs": [
    {
     "data": {
      "text/plain": [
       "classification\n",
       "Malignant    749\n",
       "Name: count, dtype: int64"
      ]
     },
     "execution_count": 14,
     "metadata": {},
     "output_type": "execute_result"
    }
   ],
   "execution_count": 14
  },
  {
   "metadata": {
    "ExecuteTime": {
     "end_time": "2025-05-26T10:19:09.478750Z",
     "start_time": "2025-05-26T10:19:09.460774Z"
    }
   },
   "cell_type": "code",
   "source": "clinical_data_df_filtered.query('ID1 == \"D2-0678\"')",
   "outputs": [
    {
     "data": {
      "text/plain": [
       "          ID1 LeftRight  Age  number abnormality classification    subtype\n",
       "1798  D2-0678         L   74       2        mass      Malignant  Luminal B"
      ],
      "text/html": [
       "<div>\n",
       "<style scoped>\n",
       "    .dataframe tbody tr th:only-of-type {\n",
       "        vertical-align: middle;\n",
       "    }\n",
       "\n",
       "    .dataframe tbody tr th {\n",
       "        vertical-align: top;\n",
       "    }\n",
       "\n",
       "    .dataframe thead th {\n",
       "        text-align: right;\n",
       "    }\n",
       "</style>\n",
       "<table border=\"1\" class=\"dataframe\">\n",
       "  <thead>\n",
       "    <tr style=\"text-align: right;\">\n",
       "      <th></th>\n",
       "      <th>ID1</th>\n",
       "      <th>LeftRight</th>\n",
       "      <th>Age</th>\n",
       "      <th>number</th>\n",
       "      <th>abnormality</th>\n",
       "      <th>classification</th>\n",
       "      <th>subtype</th>\n",
       "    </tr>\n",
       "  </thead>\n",
       "  <tbody>\n",
       "    <tr>\n",
       "      <th>1798</th>\n",
       "      <td>D2-0678</td>\n",
       "      <td>L</td>\n",
       "      <td>74</td>\n",
       "      <td>2</td>\n",
       "      <td>mass</td>\n",
       "      <td>Malignant</td>\n",
       "      <td>Luminal B</td>\n",
       "    </tr>\n",
       "  </tbody>\n",
       "</table>\n",
       "</div>"
      ]
     },
     "execution_count": 15,
     "metadata": {},
     "output_type": "execute_result"
    }
   ],
   "execution_count": 15
  },
  {
   "cell_type": "markdown",
   "metadata": {},
   "source": "### 1.2.2 ID1 (Patient ID)"
  },
  {
   "cell_type": "code",
   "metadata": {
    "ExecuteTime": {
     "end_time": "2025-05-26T10:19:12.002217Z",
     "start_time": "2025-05-26T10:19:11.984039Z"
    }
   },
   "source": [
    "clinical_data_df_filtered['ID1'].nunique()"
   ],
   "outputs": [
    {
     "data": {
      "text/plain": [
       "749"
      ]
     },
     "execution_count": 16,
     "metadata": {},
     "output_type": "execute_result"
    }
   ],
   "execution_count": 16
  },
  {
   "cell_type": "code",
   "metadata": {
    "ExecuteTime": {
     "end_time": "2025-05-26T10:19:12.425513Z",
     "start_time": "2025-05-26T10:19:12.405934Z"
    }
   },
   "source": [
    "clinical_data_df_filtered['ID1'].duplicated().sum()"
   ],
   "outputs": [
    {
     "data": {
      "text/plain": [
       "np.int64(0)"
      ]
     },
     "execution_count": 17,
     "metadata": {},
     "output_type": "execute_result"
    }
   ],
   "execution_count": 17
  },
  {
   "cell_type": "markdown",
   "metadata": {},
   "source": "### 1.2.3 LeftRight"
  },
  {
   "cell_type": "code",
   "metadata": {
    "ExecuteTime": {
     "end_time": "2025-05-26T10:19:14.502907Z",
     "start_time": "2025-05-26T10:19:14.482597Z"
    }
   },
   "source": [
    "clinical_data_df_filtered['LeftRight'].value_counts()"
   ],
   "outputs": [
    {
     "data": {
      "text/plain": [
       "LeftRight\n",
       "L    385\n",
       "R    364\n",
       "Name: count, dtype: int64"
      ]
     },
     "execution_count": 18,
     "metadata": {},
     "output_type": "execute_result"
    }
   ],
   "execution_count": 18
  },
  {
   "cell_type": "code",
   "metadata": {
    "ExecuteTime": {
     "end_time": "2025-05-26T10:34:50.863447Z",
     "start_time": "2025-05-26T10:34:50.820498Z"
    }
   },
   "source": [
    "counts = clinical_data_df_filtered['LeftRight'].value_counts()\n",
    "\n",
    "# Graficar el pie plot\n",
    "plt.figure(figsize=(6,6))\n",
    "plt.pie(counts, labels=counts.index, autopct='%1.1f%%', startangle=90, colors=['#66c2a5', '#fc8d62'])\n",
    "plt.title('Distribución de LeftRight')\n",
    "plt.show()"
   ],
   "outputs": [
    {
     "data": {
      "text/plain": [
       "<Figure size 600x600 with 1 Axes>"
      ],
      "image/png": "[encoded data removed]"
     },
     "metadata": {},
     "output_type": "display_data"
    }
   ],
   "execution_count": 36
  },
  {
   "cell_type": "markdown",
   "metadata": {},
   "source": "### 1.2.4 Age"
  },
  {
   "cell_type": "code",
   "metadata": {
    "ExecuteTime": {
     "end_time": "2025-05-26T10:29:18.577646Z",
     "start_time": "2025-05-26T10:29:18.558168Z"
    }
   },
   "source": [
    "clinical_data_df_filtered['Age'].describe()"
   ],
   "outputs": [
    {
     "data": {
      "text/plain": [
       "count    749.000000\n",
       "mean      49.818425\n",
       "std       10.798179\n",
       "min       21.000000\n",
       "25%       43.000000\n",
       "50%       49.000000\n",
       "75%       57.000000\n",
       "max       87.000000\n",
       "Name: Age, dtype: float64"
      ]
     },
     "execution_count": 24,
     "metadata": {},
     "output_type": "execute_result"
    }
   ],
   "execution_count": 24
  },
  {
   "cell_type": "code",
   "metadata": {
    "ExecuteTime": {
     "end_time": "2025-05-26T10:30:03.363269Z",
     "start_time": "2025-05-26T10:30:03.235167Z"
    }
   },
   "source": [
    "plt.figure(figsize=(8, 6))\n",
    "sns.histplot(\n",
    "    data=clinical_data_df_filtered,\n",
    "    x='Age',\n",
    "    hue='subtype',\n",
    "    multiple='stack',\n",
    "    palette='Set2',\n",
    "    edgecolor='black'\n",
    ")\n",
    "plt.title('Age distribution')\n",
    "plt.xlabel('Age')\n",
    "plt.ylabel('Count')\n",
    "plt.tight_layout()\n",
    "plt.show()"
   ],
   "outputs": [
    {
     "data": {
      "text/plain": [
       "<Figure size 800x600 with 1 Axes>"
      ],
      "image/png": "[encoded data removed]"
     },
     "metadata": {},
     "output_type": "display_data"
    }
   ],
   "execution_count": 25
  },
  {
   "cell_type": "code",
   "metadata": {
    "ExecuteTime": {
     "end_time": "2025-05-26T10:33:37.775606Z",
     "start_time": "2025-05-26T10:33:37.688419Z"
    }
   },
   "source": [
    "plt.figure(figsize=(8, 6))\n",
    "sns.histplot(data=clinical_data_df_filtered, x='Age', kde=True, edgecolor='black')\n",
    "plt.title('Age Dist')\n",
    "plt.xlabel('Age')\n",
    "plt.ylabel('Count')\n",
    "plt.tight_layout()\n",
    "plt.show()"
   ],
   "outputs": [
    {
     "data": {
      "text/plain": [
       "<Figure size 800x600 with 1 Axes>"
      ],
      "image/png": "[encoded data removed]"
     },
     "metadata": {},
     "output_type": "display_data"
    }
   ],
   "execution_count": 32
  },
  {
   "cell_type": "markdown",
   "metadata": {},
   "source": "### 1.2.5 Abnormality"
  },
  {
   "cell_type": "code",
   "metadata": {
    "ExecuteTime": {
     "end_time": "2025-05-26T10:33:02.421821Z",
     "start_time": "2025-05-26T10:33:02.329718Z"
    }
   },
   "source": [
    "plt.figure(figsize=(8, 6))\n",
    "sns.histplot(\n",
    "    data=clinical_data_df_filtered,\n",
    "    x='abnormality',\n",
    "    hue='subtype',\n",
    "    multiple='stack',\n",
    "    palette='Set2',\n",
    "    edgecolor='black'\n",
    ")\n",
    "plt.title('Abnormality distribution')\n",
    "plt.xlabel('Abnormality')\n",
    "plt.ylabel('Count')\n",
    "plt.tight_layout()\n",
    "plt.show()"
   ],
   "outputs": [
    {
     "data": {
      "text/plain": [
       "<Figure size 800x600 with 1 Axes>"
      ],
      "image/png": "[encoded data removed]"
     },
     "metadata": {},
     "output_type": "display_data"
    }
   ],
   "execution_count": 29
  },
  {
   "cell_type": "markdown",
   "metadata": {},
   "source": "### 1.2.6 Subtype"
  },
  {
   "cell_type": "code",
   "metadata": {
    "ExecuteTime": {
     "end_time": "2025-05-26T10:34:29.737507Z",
     "start_time": "2025-05-26T10:34:29.635325Z"
    }
   },
   "source": [
    "plt.figure(figsize=(8, 6))\n",
    "sns.histplot(\n",
    "    data=clinical_data_df_filtered,\n",
    "    x='subtype',\n",
    "    hue='subtype',\n",
    "    palette='Set2',\n",
    "    edgecolor='black'\n",
    ")\n",
    "plt.title('Subtype distribution')\n",
    "plt.xlabel('Subtype')\n",
    "plt.ylabel('Count')\n",
    "plt.tight_layout()\n",
    "plt.show()"
   ],
   "outputs": [
    {
     "data": {
      "text/plain": [
       "<Figure size 800x600 with 1 Axes>"
      ],
      "image/png": "[encoded data removed]"
     },
     "metadata": {},
     "output_type": "display_data"
    }
   ],
   "execution_count": 35
  },
  {
   "cell_type": "code",
   "metadata": {
    "ExecuteTime": {
     "end_time": "2025-05-26T10:35:40.459647Z",
     "start_time": "2025-05-26T10:35:40.410727Z"
    }
   },
   "source": [
    "counts = clinical_data_df_filtered['subtype'].value_counts()\n",
    "plt.figure(figsize=(6,6))\n",
    "plt.pie(counts, labels=counts.index, autopct='%1.1f%%', startangle=90, colors=['#66c2a5', '#fc8d62', '#8da0cb', '#e78ac3'])\n",
    "plt.title('Subtype distribution')\n",
    "plt.show()"
   ],
   "outputs": [
    {
     "data": {
      "text/plain": [
       "<Figure size 600x600 with 1 Axes>"
      ],
      "image/png": "[encoded data removed]"
     },
     "metadata": {},
     "output_type": "display_data"
    }
   ],
   "execution_count": 38
  },
  {
   "metadata": {},
   "cell_type": "markdown",
   "source": "### 1.2.7 Resume"
  },
  {
   "metadata": {
    "ExecuteTime": {
     "end_time": "2025-05-26T11:22:59.667372Z",
     "start_time": "2025-05-26T11:22:59.649125Z"
    }
   },
   "cell_type": "code",
   "source": [
    "print(f'Number of records with subtype annotation: {len(clinical_data_df_filtered)}')\n",
    "print(f'Number of unique patients with subtype annotation: {clinical_data_df_filtered[\"ID1\"].nunique()}')\n",
    "print(f'Molecular subtypes: {clinical_data_df_filtered[\"subtype\"].unique()}')\n",
    "print(f'Molecular subtypes distribution:\\n{clinical_data_df_filtered[\"subtype\"].value_counts()}')"
   ],
   "outputs": [
    {
     "name": "stdout",
     "output_type": "stream",
     "text": [
      "Number of records with subtype annotation: 749\n",
      "Number of unique patients with subtype annotation: 749\n",
      "Molecular subtypes: ['Luminal B' 'HER2-enriched' 'Luminal A' 'triple negative']\n",
      "Molecular subtypes distribution:\n",
      "subtype\n",
      "Luminal B          376\n",
      "Luminal A          152\n",
      "HER2-enriched      135\n",
      "triple negative     86\n",
      "Name: count, dtype: int64\n"
     ]
    }
   ],
   "execution_count": 63
  },
  {
   "cell_type": "markdown",
   "metadata": {},
   "source": "## 1.3 Metadata review"
  },
  {
   "cell_type": "code",
   "metadata": {
    "ExecuteTime": {
     "end_time": "2025-05-26T10:35:43.409111Z",
     "start_time": "2025-05-26T10:35:43.386750Z"
    }
   },
   "source": [
    "metadata_df"
   ],
   "outputs": [
    {
     "data": {
      "text/plain": [
       "                                             Series UID Collection  \\\n",
       "0     1.3.6.1.4.1.14519.5.2.1.1239.1759.623006463861...       CMMD   \n",
       "1     1.3.6.1.4.1.14519.5.2.1.1239.1759.610823649257...       CMMD   \n",
       "2     1.3.6.1.4.1.14519.5.2.1.1239.1759.292560899611...       CMMD   \n",
       "3     1.3.6.1.4.1.14519.5.2.1.1239.1759.328825651506...       CMMD   \n",
       "4     1.3.6.1.4.1.14519.5.2.1.1239.1759.148395128205...       CMMD   \n",
       "...                                                 ...        ...   \n",
       "1770  1.3.6.1.4.1.14519.5.2.1.1239.1759.254393425808...       CMMD   \n",
       "1771  1.3.6.1.4.1.14519.5.2.1.1239.1759.240741173543...       CMMD   \n",
       "1772  1.3.6.1.4.1.14519.5.2.1.1239.1759.972296336858...       CMMD   \n",
       "1773  1.3.6.1.4.1.14519.5.2.1.1239.1759.242283723072...       CMMD   \n",
       "1774  1.3.6.1.4.1.14519.5.2.1.1239.1759.311460119741...       CMMD   \n",
       "\n",
       "     3rd Party Analysis                   Data Description URI Subject ID  \\\n",
       "0                    NO  https://doi.org/10.7937/tcia.eqde4b16    D1-0001   \n",
       "1                    NO  https://doi.org/10.7937/tcia.eqde4b16    D1-0002   \n",
       "2                    NO  https://doi.org/10.7937/tcia.eqde4b16    D1-0003   \n",
       "3                    NO  https://doi.org/10.7937/tcia.eqde4b16    D1-0004   \n",
       "4                    NO  https://doi.org/10.7937/tcia.eqde4b16    D1-0007   \n",
       "...                 ...                                    ...        ...   \n",
       "1770                 NO  https://doi.org/10.7937/tcia.eqde4b16    D2-0745   \n",
       "1771                 NO  https://doi.org/10.7937/tcia.eqde4b16    D2-0747   \n",
       "1772                 NO  https://doi.org/10.7937/tcia.eqde4b16    D2-0746   \n",
       "1773                 NO  https://doi.org/10.7937/tcia.eqde4b16    D2-0748   \n",
       "1774                 NO  https://doi.org/10.7937/tcia.eqde4b16    D2-0749   \n",
       "\n",
       "                                              Study UID  Study Description  \\\n",
       "0     1.3.6.1.4.1.14519.5.2.1.1239.1759.335790956129...                NaN   \n",
       "1     1.3.6.1.4.1.14519.5.2.1.1239.1759.241519791051...                NaN   \n",
       "2     1.3.6.1.4.1.14519.5.2.1.1239.1759.113089024322...                NaN   \n",
       "3     1.3.6.1.4.1.14519.5.2.1.1239.1759.132173027545...                NaN   \n",
       "4     1.3.6.1.4.1.14519.5.2.1.1239.1759.225080655188...                NaN   \n",
       "...                                                 ...                ...   \n",
       "1770  1.3.6.1.4.1.14519.5.2.1.1239.1759.829075352788...                NaN   \n",
       "1771  1.3.6.1.4.1.14519.5.2.1.1239.1759.240317944400...                NaN   \n",
       "1772  1.3.6.1.4.1.14519.5.2.1.1239.1759.291758813596...                NaN   \n",
       "1773  1.3.6.1.4.1.14519.5.2.1.1239.1759.194867387180...                NaN   \n",
       "1774  1.3.6.1.4.1.14519.5.2.1.1239.1759.134277145908...                NaN   \n",
       "\n",
       "      Study Date  Series Description  Manufacturer Modality  \\\n",
       "0     07-18-2010                 NaN           NaN       MG   \n",
       "1     07-18-2010                 NaN           NaN       MG   \n",
       "2     07-18-2011                 NaN           NaN       MG   \n",
       "3     07-18-2011                 NaN           NaN       MG   \n",
       "4     07-18-2010                 NaN           NaN       MG   \n",
       "...          ...                 ...           ...      ...   \n",
       "1770  07-18-2011                 NaN           NaN       MG   \n",
       "1771  07-18-2011                 NaN           NaN       MG   \n",
       "1772  07-18-2011                 NaN           NaN       MG   \n",
       "1773  07-18-2011                 NaN           NaN       MG   \n",
       "1774  07-17-2012                 NaN           NaN       MG   \n",
       "\n",
       "                                         SOP Class Name  \\\n",
       "0     Digital Mammography X-Ray Image Storage - For ...   \n",
       "1     Digital Mammography X-Ray Image Storage - For ...   \n",
       "2     Digital Mammography X-Ray Image Storage - For ...   \n",
       "3     Digital Mammography X-Ray Image Storage - For ...   \n",
       "4     Digital Mammography X-Ray Image Storage - For ...   \n",
       "...                                                 ...   \n",
       "1770  Digital Mammography X-Ray Image Storage - For ...   \n",
       "1771  Digital Mammography X-Ray Image Storage - For ...   \n",
       "1772  Digital Mammography X-Ray Image Storage - For ...   \n",
       "1773  Digital Mammography X-Ray Image Storage - For ...   \n",
       "1774  Digital Mammography X-Ray Image Storage - For ...   \n",
       "\n",
       "                    SOP Class UID  Number of Images File Size  \\\n",
       "0     1.2.840.10008.5.1.4.1.1.1.2                 2   8.79 MB   \n",
       "1     1.2.840.10008.5.1.4.1.1.1.2                 2   8.79 MB   \n",
       "2     1.2.840.10008.5.1.4.1.1.1.2                 2   8.79 MB   \n",
       "3     1.2.840.10008.5.1.4.1.1.1.2                 2   8.79 MB   \n",
       "4     1.2.840.10008.5.1.4.1.1.1.2                 2   8.79 MB   \n",
       "...                           ...               ...       ...   \n",
       "1770  1.2.840.10008.5.1.4.1.1.1.2                 4  17.57 MB   \n",
       "1771  1.2.840.10008.5.1.4.1.1.1.2                 4  17.57 MB   \n",
       "1772  1.2.840.10008.5.1.4.1.1.1.2                 4  17.57 MB   \n",
       "1773  1.2.840.10008.5.1.4.1.1.1.2                 4  17.57 MB   \n",
       "1774  1.2.840.10008.5.1.4.1.1.1.2                 4  17.57 MB   \n",
       "\n",
       "                                          File Location  \\\n",
       "0     .\\CMMD\\D1-0001\\07-18-2010-NA-NA-79377\\1.000000...   \n",
       "1     .\\CMMD\\D1-0002\\07-18-2010-NA-NA-49231\\1.000000...   \n",
       "2     .\\CMMD\\D1-0003\\07-18-2011-NA-NA-25491\\1.000000...   \n",
       "3     .\\CMMD\\D1-0004\\07-18-2011-NA-NA-14914\\1.000000...   \n",
       "4     .\\CMMD\\D1-0007\\07-18-2010-NA-NA-58107\\1.000000...   \n",
       "...                                                 ...   \n",
       "1770  .\\CMMD\\D2-0745\\07-18-2011-NA-NA-87264\\1.000000...   \n",
       "1771  .\\CMMD\\D2-0747\\07-18-2011-NA-NA-07955\\1.000000...   \n",
       "1772  .\\CMMD\\D2-0746\\07-18-2011-NA-NA-61307\\1.000000...   \n",
       "1773  .\\CMMD\\D2-0748\\07-18-2011-NA-NA-50416\\1.000000...   \n",
       "1774  .\\CMMD\\D2-0749\\07-17-2012-NA-NA-85032\\1.000000...   \n",
       "\n",
       "           Download Timestamp  \n",
       "0     2022-04-06T19:50:58.958  \n",
       "1     2022-04-06T19:50:59.081  \n",
       "2      2022-04-06T19:50:59.25  \n",
       "3     2022-04-06T19:51:00.622  \n",
       "4     2022-04-06T19:51:02.192  \n",
       "...                       ...  \n",
       "1770  2022-04-06T20:14:09.525  \n",
       "1771  2022-04-06T20:14:10.074  \n",
       "1772  2022-04-06T20:14:10.517  \n",
       "1773  2022-04-06T20:14:12.582  \n",
       "1774  2022-04-06T20:14:13.547  \n",
       "\n",
       "[1775 rows x 17 columns]"
      ],
      "text/html": [
       "<div>\n",
       "<style scoped>\n",
       "    .dataframe tbody tr th:only-of-type {\n",
       "        vertical-align: middle;\n",
       "    }\n",
       "\n",
       "    .dataframe tbody tr th {\n",
       "        vertical-align: top;\n",
       "    }\n",
       "\n",
       "    .dataframe thead th {\n",
       "        text-align: right;\n",
       "    }\n",
       "</style>\n",
       "<table border=\"1\" class=\"dataframe\">\n",
       "  <thead>\n",
       "    <tr style=\"text-align: right;\">\n",
       "      <th></th>\n",
       "      <th>Series UID</th>\n",
       "      <th>Collection</th>\n",
       "      <th>3rd Party Analysis</th>\n",
       "      <th>Data Description URI</th>\n",
       "      <th>Subject ID</th>\n",
       "      <th>Study UID</th>\n",
       "      <th>Study Description</th>\n",
       "      <th>Study Date</th>\n",
       "      <th>Series Description</th>\n",
       "      <th>Manufacturer</th>\n",
       "      <th>Modality</th>\n",
       "      <th>SOP Class Name</th>\n",
       "      <th>SOP Class UID</th>\n",
       "      <th>Number of Images</th>\n",
       "      <th>File Size</th>\n",
       "      <th>File Location</th>\n",
       "      <th>Download Timestamp</th>\n",
       "    </tr>\n",
       "  </thead>\n",
       "  <tbody>\n",
       "    <tr>\n",
       "      <th>0</th>\n",
       "      <td>1.3.6.1.4.1.14519.5.2.1.1239.1759.623006463861...</td>\n",
       "      <td>CMMD</td>\n",
       "      <td>NO</td>\n",
       "      <td>https://doi.org/10.7937/tcia.eqde4b16</td>\n",
       "      <td>D1-0001</td>\n",
       "      <td>1.3.6.1.4.1.14519.5.2.1.1239.1759.335790956129...</td>\n",
       "      <td>NaN</td>\n",
       "      <td>07-18-2010</td>\n",
       "      <td>NaN</td>\n",
       "      <td>NaN</td>\n",
       "      <td>MG</td>\n",
       "      <td>Digital Mammography X-Ray Image Storage - For ...</td>\n",
       "      <td>1.2.840.10008.5.1.4.1.1.1.2</td>\n",
       "      <td>2</td>\n",
       "      <td>8.79 MB</td>\n",
       "      <td>.\\CMMD\\D1-0001\\07-18-2010-NA-NA-79377\\1.000000...</td>\n",
       "      <td>2022-04-06T19:50:58.958</td>\n",
       "    </tr>\n",
       "    <tr>\n",
       "      <th>1</th>\n",
       "      <td>1.3.6.1.4.1.14519.5.2.1.1239.1759.610823649257...</td>\n",
       "      <td>CMMD</td>\n",
       "      <td>NO</td>\n",
       "      <td>https://doi.org/10.7937/tcia.eqde4b16</td>\n",
       "      <td>D1-0002</td>\n",
       "      <td>1.3.6.1.4.1.14519.5.2.1.1239.1759.241519791051...</td>\n",
       "      <td>NaN</td>\n",
       "      <td>07-18-2010</td>\n",
       "      <td>NaN</td>\n",
       "      <td>NaN</td>\n",
       "      <td>MG</td>\n",
       "      <td>Digital Mammography X-Ray Image Storage - For ...</td>\n",
       "      <td>1.2.840.10008.5.1.4.1.1.1.2</td>\n",
       "      <td>2</td>\n",
       "      <td>8.79 MB</td>\n",
       "      <td>.\\CMMD\\D1-0002\\07-18-2010-NA-NA-49231\\1.000000...</td>\n",
       "      <td>2022-04-06T19:50:59.081</td>\n",
       "    </tr>\n",
       "    <tr>\n",
       "      <th>2</th>\n",
       "      <td>1.3.6.1.4.1.14519.5.2.1.1239.1759.292560899611...</td>\n",
       "      <td>CMMD</td>\n",
       "      <td>NO</td>\n",
       "      <td>https://doi.org/10.7937/tcia.eqde4b16</td>\n",
       "      <td>D1-0003</td>\n",
       "      <td>1.3.6.1.4.1.14519.5.2.1.1239.1759.113089024322...</td>\n",
       "      <td>NaN</td>\n",
       "      <td>07-18-2011</td>\n",
       "      <td>NaN</td>\n",
       "      <td>NaN</td>\n",
       "      <td>MG</td>\n",
       "      <td>Digital Mammography X-Ray Image Storage - For ...</td>\n",
       "      <td>1.2.840.10008.5.1.4.1.1.1.2</td>\n",
       "      <td>2</td>\n",
       "      <td>8.79 MB</td>\n",
       "      <td>.\\CMMD\\D1-0003\\07-18-2011-NA-NA-25491\\1.000000...</td>\n",
       "      <td>2022-04-06T19:50:59.25</td>\n",
       "    </tr>\n",
       "    <tr>\n",
       "      <th>3</th>\n",
       "      <td>1.3.6.1.4.1.14519.5.2.1.1239.1759.328825651506...</td>\n",
       "      <td>CMMD</td>\n",
       "      <td>NO</td>\n",
       "      <td>https://doi.org/10.7937/tcia.eqde4b16</td>\n",
       "      <td>D1-0004</td>\n",
       "      <td>1.3.6.1.4.1.14519.5.2.1.1239.1759.132173027545...</td>\n",
       "      <td>NaN</td>\n",
       "      <td>07-18-2011</td>\n",
       "      <td>NaN</td>\n",
       "      <td>NaN</td>\n",
       "      <td>MG</td>\n",
       "      <td>Digital Mammography X-Ray Image Storage - For ...</td>\n",
       "      <td>1.2.840.10008.5.1.4.1.1.1.2</td>\n",
       "      <td>2</td>\n",
       "      <td>8.79 MB</td>\n",
       "      <td>.\\CMMD\\D1-0004\\07-18-2011-NA-NA-14914\\1.000000...</td>\n",
       "      <td>2022-04-06T19:51:00.622</td>\n",
       "    </tr>\n",
       "    <tr>\n",
       "      <th>4</th>\n",
       "      <td>1.3.6.1.4.1.14519.5.2.1.1239.1759.148395128205...</td>\n",
       "      <td>CMMD</td>\n",
       "      <td>NO</td>\n",
       "      <td>https://doi.org/10.7937/tcia.eqde4b16</td>\n",
       "      <td>D1-0007</td>\n",
       "      <td>1.3.6.1.4.1.14519.5.2.1.1239.1759.225080655188...</td>\n",
       "      <td>NaN</td>\n",
       "      <td>07-18-2010</td>\n",
       "      <td>NaN</td>\n",
       "      <td>NaN</td>\n",
       "      <td>MG</td>\n",
       "      <td>Digital Mammography X-Ray Image Storage - For ...</td>\n",
       "      <td>1.2.840.10008.5.1.4.1.1.1.2</td>\n",
       "      <td>2</td>\n",
       "      <td>8.79 MB</td>\n",
       "      <td>.\\CMMD\\D1-0007\\07-18-2010-NA-NA-58107\\1.000000...</td>\n",
       "      <td>2022-04-06T19:51:02.192</td>\n",
       "    </tr>\n",
       "    <tr>\n",
       "      <th>...</th>\n",
       "      <td>...</td>\n",
       "      <td>...</td>\n",
       "      <td>...</td>\n",
       "      <td>...</td>\n",
       "      <td>...</td>\n",
       "      <td>...</td>\n",
       "      <td>...</td>\n",
       "      <td>...</td>\n",
       "      <td>...</td>\n",
       "      <td>...</td>\n",
       "      <td>...</td>\n",
       "      <td>...</td>\n",
       "      <td>...</td>\n",
       "      <td>...</td>\n",
       "      <td>...</td>\n",
       "      <td>...</td>\n",
       "      <td>...</td>\n",
       "    </tr>\n",
       "    <tr>\n",
       "      <th>1770</th>\n",
       "      <td>1.3.6.1.4.1.14519.5.2.1.1239.1759.254393425808...</td>\n",
       "      <td>CMMD</td>\n",
       "      <td>NO</td>\n",
       "      <td>https://doi.org/10.7937/tcia.eqde4b16</td>\n",
       "      <td>D2-0745</td>\n",
       "      <td>1.3.6.1.4.1.14519.5.2.1.1239.1759.829075352788...</td>\n",
       "      <td>NaN</td>\n",
       "      <td>07-18-2011</td>\n",
       "      <td>NaN</td>\n",
       "      <td>NaN</td>\n",
       "      <td>MG</td>\n",
       "      <td>Digital Mammography X-Ray Image Storage - For ...</td>\n",
       "      <td>1.2.840.10008.5.1.4.1.1.1.2</td>\n",
       "      <td>4</td>\n",
       "      <td>17.57 MB</td>\n",
       "      <td>.\\CMMD\\D2-0745\\07-18-2011-NA-NA-87264\\1.000000...</td>\n",
       "      <td>2022-04-06T20:14:09.525</td>\n",
       "    </tr>\n",
       "    <tr>\n",
       "      <th>1771</th>\n",
       "      <td>1.3.6.1.4.1.14519.5.2.1.1239.1759.240741173543...</td>\n",
       "      <td>CMMD</td>\n",
       "      <td>NO</td>\n",
       "      <td>https://doi.org/10.7937/tcia.eqde4b16</td>\n",
       "      <td>D2-0747</td>\n",
       "      <td>1.3.6.1.4.1.14519.5.2.1.1239.1759.240317944400...</td>\n",
       "      <td>NaN</td>\n",
       "      <td>07-18-2011</td>\n",
       "      <td>NaN</td>\n",
       "      <td>NaN</td>\n",
       "      <td>MG</td>\n",
       "      <td>Digital Mammography X-Ray Image Storage - For ...</td>\n",
       "      <td>1.2.840.10008.5.1.4.1.1.1.2</td>\n",
       "      <td>4</td>\n",
       "      <td>17.57 MB</td>\n",
       "      <td>.\\CMMD\\D2-0747\\07-18-2011-NA-NA-07955\\1.000000...</td>\n",
       "      <td>2022-04-06T20:14:10.074</td>\n",
       "    </tr>\n",
       "    <tr>\n",
       "      <th>1772</th>\n",
       "      <td>1.3.6.1.4.1.14519.5.2.1.1239.1759.972296336858...</td>\n",
       "      <td>CMMD</td>\n",
       "      <td>NO</td>\n",
       "      <td>https://doi.org/10.7937/tcia.eqde4b16</td>\n",
       "      <td>D2-0746</td>\n",
       "      <td>1.3.6.1.4.1.14519.5.2.1.1239.1759.291758813596...</td>\n",
       "      <td>NaN</td>\n",
       "      <td>07-18-2011</td>\n",
       "      <td>NaN</td>\n",
       "      <td>NaN</td>\n",
       "      <td>MG</td>\n",
       "      <td>Digital Mammography X-Ray Image Storage - For ...</td>\n",
       "      <td>1.2.840.10008.5.1.4.1.1.1.2</td>\n",
       "      <td>4</td>\n",
       "      <td>17.57 MB</td>\n",
       "      <td>.\\CMMD\\D2-0746\\07-18-2011-NA-NA-61307\\1.000000...</td>\n",
       "      <td>2022-04-06T20:14:10.517</td>\n",
       "    </tr>\n",
       "    <tr>\n",
       "      <th>1773</th>\n",
       "      <td>1.3.6.1.4.1.14519.5.2.1.1239.1759.242283723072...</td>\n",
       "      <td>CMMD</td>\n",
       "      <td>NO</td>\n",
       "      <td>https://doi.org/10.7937/tcia.eqde4b16</td>\n",
       "      <td>D2-0748</td>\n",
       "      <td>1.3.6.1.4.1.14519.5.2.1.1239.1759.194867387180...</td>\n",
       "      <td>NaN</td>\n",
       "      <td>07-18-2011</td>\n",
       "      <td>NaN</td>\n",
       "      <td>NaN</td>\n",
       "      <td>MG</td>\n",
       "      <td>Digital Mammography X-Ray Image Storage - For ...</td>\n",
       "      <td>1.2.840.10008.5.1.4.1.1.1.2</td>\n",
       "      <td>4</td>\n",
       "      <td>17.57 MB</td>\n",
       "      <td>.\\CMMD\\D2-0748\\07-18-2011-NA-NA-50416\\1.000000...</td>\n",
       "      <td>2022-04-06T20:14:12.582</td>\n",
       "    </tr>\n",
       "    <tr>\n",
       "      <th>1774</th>\n",
       "      <td>1.3.6.1.4.1.14519.5.2.1.1239.1759.311460119741...</td>\n",
       "      <td>CMMD</td>\n",
       "      <td>NO</td>\n",
       "      <td>https://doi.org/10.7937/tcia.eqde4b16</td>\n",
       "      <td>D2-0749</td>\n",
       "      <td>1.3.6.1.4.1.14519.5.2.1.1239.1759.134277145908...</td>\n",
       "      <td>NaN</td>\n",
       "      <td>07-17-2012</td>\n",
       "      <td>NaN</td>\n",
       "      <td>NaN</td>\n",
       "      <td>MG</td>\n",
       "      <td>Digital Mammography X-Ray Image Storage - For ...</td>\n",
       "      <td>1.2.840.10008.5.1.4.1.1.1.2</td>\n",
       "      <td>4</td>\n",
       "      <td>17.57 MB</td>\n",
       "      <td>.\\CMMD\\D2-0749\\07-17-2012-NA-NA-85032\\1.000000...</td>\n",
       "      <td>2022-04-06T20:14:13.547</td>\n",
       "    </tr>\n",
       "  </tbody>\n",
       "</table>\n",
       "<p>1775 rows × 17 columns</p>\n",
       "</div>"
      ]
     },
     "execution_count": 39,
     "metadata": {},
     "output_type": "execute_result"
    }
   ],
   "execution_count": 39
  },
  {
   "metadata": {
    "ExecuteTime": {
     "end_time": "2025-05-26T11:14:55.143847Z",
     "start_time": "2025-05-26T11:14:55.124245Z"
    }
   },
   "cell_type": "code",
   "source": [
    "metadata_filtered = metadata_df[metadata_df['Subject ID'].isin(clinical_data_df_filtered['ID1'])]\n",
    "\n",
    "# Number of images\n",
    "metadata_filtered['Number of Images'].value_counts()"
   ],
   "outputs": [
    {
     "data": {
      "text/plain": [
       "Number of Images\n",
       "4    745\n",
       "2      4\n",
       "Name: count, dtype: int64"
      ]
     },
     "execution_count": 54,
     "metadata": {},
     "output_type": "execute_result"
    }
   ],
   "execution_count": 54
  },
  {
   "metadata": {},
   "cell_type": "markdown",
   "source": [
    "# 2. TOMPEI-CMMD Revision\n",
    "\n",
    "Here we are introducing reviewed data from the TOMPEI-CMMD revision, which includes additional annotations, exclusions and corrections to the original CMMD dataset. This revision aims to enhance the quality and reliability of the data for breast cancer research.\n",
    "\n",
    "More info [here](https://www.cancerimagingarchive.net/analysis-result/tompei-cmmd/)"
   ]
  },
  {
   "metadata": {
    "ExecuteTime": {
     "end_time": "2025-05-26T10:54:47.568283Z",
     "start_time": "2025-05-26T10:54:47.548561Z"
    }
   },
   "cell_type": "code",
   "source": "tompei_cmmd = pd.read_csv(f'{RAW_DATA_DIR}/CMMD/tompei-cmmd.csv', delimiter=';')",
   "outputs": [],
   "execution_count": 44
  },
  {
   "metadata": {
    "ExecuteTime": {
     "end_time": "2025-05-26T10:54:55.096816Z",
     "start_time": "2025-05-26T10:54:55.074535Z"
    }
   },
   "cell_type": "code",
   "source": "tompei_cmmd.info()",
   "outputs": [
    {
     "name": "stdout",
     "output_type": "stream",
     "text": [
      "<class 'pandas.core.frame.DataFrame'>\n",
      "RangeIndex: 674 entries, 0 to 673\n",
      "Data columns (total 3 columns):\n",
      " #   Column     Non-Null Count  Dtype \n",
      "---  ------     --------------  ----- \n",
      " 0   ID         674 non-null    object\n",
      " 1   LeftRight  674 non-null    object\n",
      " 2   Age        674 non-null    int64 \n",
      "dtypes: int64(1), object(2)\n",
      "memory usage: 15.9+ KB\n"
     ]
    }
   ],
   "execution_count": 45
  },
  {
   "metadata": {
    "ExecuteTime": {
     "end_time": "2025-05-26T10:55:29.231336Z",
     "start_time": "2025-05-26T10:55:29.208164Z"
    }
   },
   "cell_type": "code",
   "source": "merged_clinical_data = clinical_data_df_filtered.merge(tompei_cmmd, left_on='ID1', right_on='ID')",
   "outputs": [],
   "execution_count": 46
  },
  {
   "metadata": {
    "ExecuteTime": {
     "end_time": "2025-05-26T10:55:42.849931Z",
     "start_time": "2025-05-26T10:55:42.827740Z"
    }
   },
   "cell_type": "code",
   "source": "merged_clinical_data.info()\n",
   "outputs": [
    {
     "name": "stdout",
     "output_type": "stream",
     "text": [
      "<class 'pandas.core.frame.DataFrame'>\n",
      "RangeIndex: 674 entries, 0 to 673\n",
      "Data columns (total 10 columns):\n",
      " #   Column          Non-Null Count  Dtype \n",
      "---  ------          --------------  ----- \n",
      " 0   ID1             674 non-null    object\n",
      " 1   LeftRight_x     674 non-null    object\n",
      " 2   Age_x           674 non-null    int64 \n",
      " 3   number          674 non-null    int64 \n",
      " 4   abnormality     674 non-null    object\n",
      " 5   classification  674 non-null    object\n",
      " 6   subtype         674 non-null    object\n",
      " 7   ID              674 non-null    object\n",
      " 8   LeftRight_y     674 non-null    object\n",
      " 9   Age_y           674 non-null    int64 \n",
      "dtypes: int64(3), object(7)\n",
      "memory usage: 52.8+ KB\n"
     ]
    }
   ],
   "execution_count": 48
  },
  {
   "metadata": {
    "ExecuteTime": {
     "end_time": "2025-05-26T10:56:28.087295Z",
     "start_time": "2025-05-26T10:56:28.064697Z"
    }
   },
   "cell_type": "code",
   "source": "merged_clinical_data.query('LeftRight_x != LeftRight_y')",
   "outputs": [
    {
     "data": {
      "text/plain": [
       "         ID1 LeftRight_x  Age_x  number    abnormality classification  \\\n",
       "43   D2-0048           L     54       2  calcification      Malignant   \n",
       "121  D2-0132           R     49       2           both      Malignant   \n",
       "196  D2-0212           R     54       2           both      Malignant   \n",
       "204  D2-0220           R     49       2           both      Malignant   \n",
       "261  D2-0282           R     30       2           both      Malignant   \n",
       "419  D2-0458           R     57       2           mass      Malignant   \n",
       "509  D2-0565           R     75       2           mass      Malignant   \n",
       "575  D2-0637           L     36       2           mass      Malignant   \n",
       "635  D2-0706           R     44       2           mass      Malignant   \n",
       "\n",
       "           subtype       ID LeftRight_y  Age_y  \n",
       "43   HER2-enriched  D2-0048           R     54  \n",
       "121      Luminal A  D2-0132           L     49  \n",
       "196      Luminal A  D2-0212           L     54  \n",
       "204      Luminal B  D2-0220           L     49  \n",
       "261      Luminal B  D2-0282           L     30  \n",
       "419      Luminal A  D2-0458           L     57  \n",
       "509      Luminal A  D2-0565           L     75  \n",
       "575      Luminal A  D2-0637           R     36  \n",
       "635      Luminal B  D2-0706           L     44  "
      ],
      "text/html": [
       "<div>\n",
       "<style scoped>\n",
       "    .dataframe tbody tr th:only-of-type {\n",
       "        vertical-align: middle;\n",
       "    }\n",
       "\n",
       "    .dataframe tbody tr th {\n",
       "        vertical-align: top;\n",
       "    }\n",
       "\n",
       "    .dataframe thead th {\n",
       "        text-align: right;\n",
       "    }\n",
       "</style>\n",
       "<table border=\"1\" class=\"dataframe\">\n",
       "  <thead>\n",
       "    <tr style=\"text-align: right;\">\n",
       "      <th></th>\n",
       "      <th>ID1</th>\n",
       "      <th>LeftRight_x</th>\n",
       "      <th>Age_x</th>\n",
       "      <th>number</th>\n",
       "      <th>abnormality</th>\n",
       "      <th>classification</th>\n",
       "      <th>subtype</th>\n",
       "      <th>ID</th>\n",
       "      <th>LeftRight_y</th>\n",
       "      <th>Age_y</th>\n",
       "    </tr>\n",
       "  </thead>\n",
       "  <tbody>\n",
       "    <tr>\n",
       "      <th>43</th>\n",
       "      <td>D2-0048</td>\n",
       "      <td>L</td>\n",
       "      <td>54</td>\n",
       "      <td>2</td>\n",
       "      <td>calcification</td>\n",
       "      <td>Malignant</td>\n",
       "      <td>HER2-enriched</td>\n",
       "      <td>D2-0048</td>\n",
       "      <td>R</td>\n",
       "      <td>54</td>\n",
       "    </tr>\n",
       "    <tr>\n",
       "      <th>121</th>\n",
       "      <td>D2-0132</td>\n",
       "      <td>R</td>\n",
       "      <td>49</td>\n",
       "      <td>2</td>\n",
       "      <td>both</td>\n",
       "      <td>Malignant</td>\n",
       "      <td>Luminal A</td>\n",
       "      <td>D2-0132</td>\n",
       "      <td>L</td>\n",
       "      <td>49</td>\n",
       "    </tr>\n",
       "    <tr>\n",
       "      <th>196</th>\n",
       "      <td>D2-0212</td>\n",
       "      <td>R</td>\n",
       "      <td>54</td>\n",
       "      <td>2</td>\n",
       "      <td>both</td>\n",
       "      <td>Malignant</td>\n",
       "      <td>Luminal A</td>\n",
       "      <td>D2-0212</td>\n",
       "      <td>L</td>\n",
       "      <td>54</td>\n",
       "    </tr>\n",
       "    <tr>\n",
       "      <th>204</th>\n",
       "      <td>D2-0220</td>\n",
       "      <td>R</td>\n",
       "      <td>49</td>\n",
       "      <td>2</td>\n",
       "      <td>both</td>\n",
       "      <td>Malignant</td>\n",
       "      <td>Luminal B</td>\n",
       "      <td>D2-0220</td>\n",
       "      <td>L</td>\n",
       "      <td>49</td>\n",
       "    </tr>\n",
       "    <tr>\n",
       "      <th>261</th>\n",
       "      <td>D2-0282</td>\n",
       "      <td>R</td>\n",
       "      <td>30</td>\n",
       "      <td>2</td>\n",
       "      <td>both</td>\n",
       "      <td>Malignant</td>\n",
       "      <td>Luminal B</td>\n",
       "      <td>D2-0282</td>\n",
       "      <td>L</td>\n",
       "      <td>30</td>\n",
       "    </tr>\n",
       "    <tr>\n",
       "      <th>419</th>\n",
       "      <td>D2-0458</td>\n",
       "      <td>R</td>\n",
       "      <td>57</td>\n",
       "      <td>2</td>\n",
       "      <td>mass</td>\n",
       "      <td>Malignant</td>\n",
       "      <td>Luminal A</td>\n",
       "      <td>D2-0458</td>\n",
       "      <td>L</td>\n",
       "      <td>57</td>\n",
       "    </tr>\n",
       "    <tr>\n",
       "      <th>509</th>\n",
       "      <td>D2-0565</td>\n",
       "      <td>R</td>\n",
       "      <td>75</td>\n",
       "      <td>2</td>\n",
       "      <td>mass</td>\n",
       "      <td>Malignant</td>\n",
       "      <td>Luminal A</td>\n",
       "      <td>D2-0565</td>\n",
       "      <td>L</td>\n",
       "      <td>75</td>\n",
       "    </tr>\n",
       "    <tr>\n",
       "      <th>575</th>\n",
       "      <td>D2-0637</td>\n",
       "      <td>L</td>\n",
       "      <td>36</td>\n",
       "      <td>2</td>\n",
       "      <td>mass</td>\n",
       "      <td>Malignant</td>\n",
       "      <td>Luminal A</td>\n",
       "      <td>D2-0637</td>\n",
       "      <td>R</td>\n",
       "      <td>36</td>\n",
       "    </tr>\n",
       "    <tr>\n",
       "      <th>635</th>\n",
       "      <td>D2-0706</td>\n",
       "      <td>R</td>\n",
       "      <td>44</td>\n",
       "      <td>2</td>\n",
       "      <td>mass</td>\n",
       "      <td>Malignant</td>\n",
       "      <td>Luminal B</td>\n",
       "      <td>D2-0706</td>\n",
       "      <td>L</td>\n",
       "      <td>44</td>\n",
       "    </tr>\n",
       "  </tbody>\n",
       "</table>\n",
       "</div>"
      ]
     },
     "execution_count": 49,
     "metadata": {},
     "output_type": "execute_result"
    }
   ],
   "execution_count": 49
  },
  {
   "metadata": {
    "ExecuteTime": {
     "end_time": "2025-05-26T11:25:01.233070Z",
     "start_time": "2025-05-26T11:25:01.215395Z"
    }
   },
   "cell_type": "code",
   "source": "curated_df = merged_clinical_data[['ID', 'LeftRight_y', 'Age_y', 'abnormality', 'classification', 'subtype']]",
   "outputs": [],
   "execution_count": 66
  },
  {
   "metadata": {
    "ExecuteTime": {
     "end_time": "2025-05-26T11:25:01.444040Z",
     "start_time": "2025-05-26T11:25:01.425888Z"
    }
   },
   "cell_type": "code",
   "source": [
    "curated_df = curated_df.rename(columns={'ID':'patientId', 'Age_y': 'age', 'LeftRight_y': 'malignantSide'})\n",
    "curated_df.info()"
   ],
   "outputs": [
    {
     "name": "stdout",
     "output_type": "stream",
     "text": [
      "<class 'pandas.core.frame.DataFrame'>\n",
      "RangeIndex: 674 entries, 0 to 673\n",
      "Data columns (total 6 columns):\n",
      " #   Column          Non-Null Count  Dtype \n",
      "---  ------          --------------  ----- \n",
      " 0   patientId       674 non-null    object\n",
      " 1   malignantSide   674 non-null    object\n",
      " 2   age             674 non-null    int64 \n",
      " 3   abnormality     674 non-null    object\n",
      " 4   classification  674 non-null    object\n",
      " 5   subtype         674 non-null    object\n",
      "dtypes: int64(1), object(5)\n",
      "memory usage: 31.7+ KB\n"
     ]
    }
   ],
   "execution_count": 67
  },
  {
   "metadata": {},
   "cell_type": "markdown",
   "source": "## 2.1 MalignantSide"
  },
  {
   "metadata": {
    "ExecuteTime": {
     "end_time": "2025-05-26T11:25:03.109750Z",
     "start_time": "2025-05-26T11:25:03.068276Z"
    }
   },
   "cell_type": "code",
   "source": [
    "counts = curated_df['malignantSide'].value_counts()\n",
    "\n",
    "# Graficar el pie plot\n",
    "plt.figure(figsize=(6,6))\n",
    "plt.pie(counts, labels=counts.index, autopct='%1.1f%%', startangle=90, colors=['#66c2a5', '#fc8d62'])\n",
    "plt.title('Malignant Side Distribution')\n",
    "plt.show()"
   ],
   "outputs": [
    {
     "data": {
      "text/plain": [
       "<Figure size 600x600 with 1 Axes>"
      ],
      "image/png": "[encoded data removed]"
     },
     "metadata": {},
     "output_type": "display_data"
    }
   ],
   "execution_count": 68
  },
  {
   "metadata": {},
   "cell_type": "markdown",
   "source": "## 2.2 Subtypes"
  },
  {
   "metadata": {
    "ExecuteTime": {
     "end_time": "2025-05-26T11:25:06.232892Z",
     "start_time": "2025-05-26T11:25:06.187374Z"
    }
   },
   "cell_type": "code",
   "source": [
    "counts = curated_df['subtype'].value_counts()\n",
    "plt.figure(figsize=(6,6))\n",
    "plt.pie(counts, labels=counts.index, autopct='%1.1f%%', startangle=90, colors=['#66c2a5', '#fc8d62', '#8da0cb', '#e78ac3'])\n",
    "plt.title('Subtype distribution')\n",
    "plt.show()"
   ],
   "outputs": [
    {
     "data": {
      "text/plain": [
       "<Figure size 600x600 with 1 Axes>"
      ],
      "image/png": "[encoded data removed]"
     },
     "metadata": {},
     "output_type": "display_data"
    }
   ],
   "execution_count": 69
  },
  {
   "metadata": {},
   "cell_type": "markdown",
   "source": "## 2.3 Resume"
  },
  {
   "metadata": {
    "ExecuteTime": {
     "end_time": "2025-05-26T11:25:11.458444Z",
     "start_time": "2025-05-26T11:25:11.439840Z"
    }
   },
   "cell_type": "code",
   "source": [
    "print(f'Number of records with subtype annotation: {len(curated_df)}')\n",
    "print(f'Number of unique patients with subtype annotation: {curated_df[\"patientId\"].nunique()}')\n",
    "print(f'Molecular subtypes: {curated_df[\"subtype\"].unique()}')\n",
    "print(f'Molecular subtypes distribution:\\n{curated_df[\"subtype\"].value_counts()}')"
   ],
   "outputs": [
    {
     "name": "stdout",
     "output_type": "stream",
     "text": [
      "Number of records with subtype annotation: 674\n",
      "Number of unique patients with subtype annotation: 672\n",
      "Molecular subtypes: ['Luminal B' 'HER2-enriched' 'Luminal A' 'triple negative']\n",
      "Molecular subtypes distribution:\n",
      "subtype\n",
      "Luminal B          337\n",
      "Luminal A          141\n",
      "HER2-enriched      126\n",
      "triple negative     70\n",
      "Name: count, dtype: int64\n"
     ]
    }
   ],
   "execution_count": 70
  },
  {
   "metadata": {},
   "cell_type": "markdown",
   "source": "# 3. Persist final dataframe"
  },
  {
   "metadata": {
    "ExecuteTime": {
     "end_time": "2025-05-26T11:25:16.840135Z",
     "start_time": "2025-05-26T11:25:16.822860Z"
    }
   },
   "cell_type": "code",
   "source": "curated_df.to_csv(f'{RAW_DATA_DIR}/CMMD/curated_df.csv', index=False)",
   "outputs": [],
   "execution_count": 71
  }
 ],
 "metadata": {
  "kernelspec": {
   "display_name": ".venv",
   "language": "python",
   "name": "python3"
  },
  "language_info": {
   "codemirror_mode": {
    "name": "ipython",
    "version": 3
   },
   "file_extension": ".py",
   "mimetype": "text/x-python",
   "name": "python",
   "nbconvert_exporter": "python",
   "pygments_lexer": "ipython3",
   "version": "3.12.2"
  }
 },
 "nbformat": 4,
 "nbformat_minor": 2
}
