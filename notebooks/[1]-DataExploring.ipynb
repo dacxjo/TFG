{
 "cells": [
  {
   "cell_type": "markdown",
   "metadata": {},
   "source": [
    "# Data Exploring Notebook\n",
    "The purpose of this notebook is the exploration of the CMMD Dataset (Chinese Mammography Database). With this exploration, we can then preprocess and split the data for training and experimentation.\n",
    "\n",
    "The main objective is to classify the molecular subtypes of breast cancer using only mammographic images, and for that reason, the main focus will be in the \"malignant\" labeled cases."
   ]
  },
  {
   "cell_type": "markdown",
   "metadata": {},
   "source": [
    "# 0. Imports"
   ]
  },
  {
   "cell_type": "code",
   "metadata": {
    "ExecuteTime": {
     "end_time": "2025-03-24T17:55:53.334345Z",
     "start_time": "2025-03-24T17:55:52.697456Z"
    }
   },
   "source": [
    "import pandas as pd\n",
    "import plotly.express as px\n"
   ],
   "outputs": [],
   "execution_count": 1
  },
  {
   "cell_type": "markdown",
   "metadata": {},
   "source": [
    "# 1. Load data"
   ]
  },
  {
   "cell_type": "code",
   "execution_count": 17,
   "metadata": {},
   "outputs": [],
   "source": [
    "clinical_data_df = pd.read_excel('../data/raw/CMMD/CMMD_clinicaldata_revision.xlsx')\n",
    "metadata_df = pd.read_csv('../data/raw/CMMD/metadata.csv')"
   ]
  },
  {
   "cell_type": "code",
   "execution_count": 18,
   "metadata": {},
   "outputs": [
    {
     "data": {
      "text/html": [
       "<div>\n",
       "<style scoped>\n",
       "    .dataframe tbody tr th:only-of-type {\n",
       "        vertical-align: middle;\n",
       "    }\n",
       "\n",
       "    .dataframe tbody tr th {\n",
       "        vertical-align: top;\n",
       "    }\n",
       "\n",
       "    .dataframe thead th {\n",
       "        text-align: right;\n",
       "    }\n",
       "</style>\n",
       "<table border=\"1\" class=\"dataframe\">\n",
       "  <thead>\n",
       "    <tr style=\"text-align: right;\">\n",
       "      <th></th>\n",
       "      <th>ID1</th>\n",
       "      <th>LeftRight</th>\n",
       "      <th>Age</th>\n",
       "      <th>number</th>\n",
       "      <th>abnormality</th>\n",
       "      <th>classification</th>\n",
       "      <th>subtype</th>\n",
       "    </tr>\n",
       "  </thead>\n",
       "  <tbody>\n",
       "    <tr>\n",
       "      <th>0</th>\n",
       "      <td>D1-0001</td>\n",
       "      <td>R</td>\n",
       "      <td>44</td>\n",
       "      <td>2</td>\n",
       "      <td>calcification</td>\n",
       "      <td>Benign</td>\n",
       "      <td>NaN</td>\n",
       "    </tr>\n",
       "    <tr>\n",
       "      <th>1</th>\n",
       "      <td>D1-0002</td>\n",
       "      <td>L</td>\n",
       "      <td>40</td>\n",
       "      <td>2</td>\n",
       "      <td>calcification</td>\n",
       "      <td>Benign</td>\n",
       "      <td>NaN</td>\n",
       "    </tr>\n",
       "    <tr>\n",
       "      <th>2</th>\n",
       "      <td>D1-0003</td>\n",
       "      <td>L</td>\n",
       "      <td>39</td>\n",
       "      <td>2</td>\n",
       "      <td>calcification</td>\n",
       "      <td>Benign</td>\n",
       "      <td>NaN</td>\n",
       "    </tr>\n",
       "    <tr>\n",
       "      <th>3</th>\n",
       "      <td>D1-0004</td>\n",
       "      <td>L</td>\n",
       "      <td>41</td>\n",
       "      <td>2</td>\n",
       "      <td>calcification</td>\n",
       "      <td>Benign</td>\n",
       "      <td>NaN</td>\n",
       "    </tr>\n",
       "    <tr>\n",
       "      <th>4</th>\n",
       "      <td>D1-0005</td>\n",
       "      <td>R</td>\n",
       "      <td>42</td>\n",
       "      <td>2</td>\n",
       "      <td>calcification</td>\n",
       "      <td>Benign</td>\n",
       "      <td>NaN</td>\n",
       "    </tr>\n",
       "  </tbody>\n",
       "</table>\n",
       "</div>"
      ],
      "text/plain": [
       "       ID1 LeftRight  Age  number    abnormality classification subtype\n",
       "0  D1-0001         R   44       2  calcification         Benign     NaN\n",
       "1  D1-0002         L   40       2  calcification         Benign     NaN\n",
       "2  D1-0003         L   39       2  calcification         Benign     NaN\n",
       "3  D1-0004         L   41       2  calcification         Benign     NaN\n",
       "4  D1-0005         R   42       2  calcification         Benign     NaN"
      ]
     },
     "execution_count": 18,
     "metadata": {},
     "output_type": "execute_result"
    }
   ],
   "source": [
    "clinical_data_df.head(5)"
   ]
  },
  {
   "cell_type": "code",
   "execution_count": 19,
   "metadata": {},
   "outputs": [
    {
     "data": {
      "text/html": [
       "<div>\n",
       "<style scoped>\n",
       "    .dataframe tbody tr th:only-of-type {\n",
       "        vertical-align: middle;\n",
       "    }\n",
       "\n",
       "    .dataframe tbody tr th {\n",
       "        vertical-align: top;\n",
       "    }\n",
       "\n",
       "    .dataframe thead th {\n",
       "        text-align: right;\n",
       "    }\n",
       "</style>\n",
       "<table border=\"1\" class=\"dataframe\">\n",
       "  <thead>\n",
       "    <tr style=\"text-align: right;\">\n",
       "      <th></th>\n",
       "      <th>Series UID</th>\n",
       "      <th>Collection</th>\n",
       "      <th>3rd Party Analysis</th>\n",
       "      <th>Data Description URI</th>\n",
       "      <th>Subject ID</th>\n",
       "      <th>Study UID</th>\n",
       "      <th>Study Description</th>\n",
       "      <th>Study Date</th>\n",
       "      <th>Series Description</th>\n",
       "      <th>Manufacturer</th>\n",
       "      <th>Modality</th>\n",
       "      <th>SOP Class Name</th>\n",
       "      <th>SOP Class UID</th>\n",
       "      <th>Number of Images</th>\n",
       "      <th>File Size</th>\n",
       "      <th>File Location</th>\n",
       "      <th>Download Timestamp</th>\n",
       "    </tr>\n",
       "  </thead>\n",
       "  <tbody>\n",
       "    <tr>\n",
       "      <th>1.3.6.1.4.1.14519.5.2.1.1239.1759.623006463861567934606116970244</th>\n",
       "      <td>CMMD</td>\n",
       "      <td>NO</td>\n",
       "      <td>https://doi.org/10.7937/tcia.eqde4b16</td>\n",
       "      <td>D1-0001</td>\n",
       "      <td>1.3.6.1.4.1.14519.5.2.1.1239.1759.335790956129...</td>\n",
       "      <td>NaN</td>\n",
       "      <td>07-18-2010</td>\n",
       "      <td>NaN</td>\n",
       "      <td>NaN</td>\n",
       "      <td>MG</td>\n",
       "      <td>Digital Mammography X-Ray Image Storage - For ...</td>\n",
       "      <td>1.2.840.10008.5.1.4.1.1.1.2</td>\n",
       "      <td>2</td>\n",
       "      <td>8</td>\n",
       "      <td>79 MB</td>\n",
       "      <td>./CMMD/D1-0001/07-18-2010-NA-NA-79377/1.000000...</td>\n",
       "      <td>2025-02-27T01:22:03.4</td>\n",
       "    </tr>\n",
       "    <tr>\n",
       "      <th>1.3.6.1.4.1.14519.5.2.1.1239.1759.610823649257711756778765445313</th>\n",
       "      <td>CMMD</td>\n",
       "      <td>NO</td>\n",
       "      <td>https://doi.org/10.7937/tcia.eqde4b16</td>\n",
       "      <td>D1-0002</td>\n",
       "      <td>1.3.6.1.4.1.14519.5.2.1.1239.1759.241519791051...</td>\n",
       "      <td>NaN</td>\n",
       "      <td>07-18-2010</td>\n",
       "      <td>NaN</td>\n",
       "      <td>NaN</td>\n",
       "      <td>MG</td>\n",
       "      <td>Digital Mammography X-Ray Image Storage - For ...</td>\n",
       "      <td>1.2.840.10008.5.1.4.1.1.1.2</td>\n",
       "      <td>2</td>\n",
       "      <td>8</td>\n",
       "      <td>79 MB</td>\n",
       "      <td>./CMMD/D1-0002/07-18-2010-NA-NA-49231/1.000000...</td>\n",
       "      <td>2025-02-27T01:22:03.4</td>\n",
       "    </tr>\n",
       "    <tr>\n",
       "      <th>1.3.6.1.4.1.14519.5.2.1.1239.1759.292560899611058154484740024283</th>\n",
       "      <td>CMMD</td>\n",
       "      <td>NO</td>\n",
       "      <td>https://doi.org/10.7937/tcia.eqde4b16</td>\n",
       "      <td>D1-0003</td>\n",
       "      <td>1.3.6.1.4.1.14519.5.2.1.1239.1759.113089024322...</td>\n",
       "      <td>NaN</td>\n",
       "      <td>07-18-2011</td>\n",
       "      <td>NaN</td>\n",
       "      <td>NaN</td>\n",
       "      <td>MG</td>\n",
       "      <td>Digital Mammography X-Ray Image Storage - For ...</td>\n",
       "      <td>1.2.840.10008.5.1.4.1.1.1.2</td>\n",
       "      <td>2</td>\n",
       "      <td>8</td>\n",
       "      <td>79 MB</td>\n",
       "      <td>./CMMD/D1-0003/07-18-2011-NA-NA-25491/1.000000...</td>\n",
       "      <td>2025-02-27T01:22:03.447</td>\n",
       "    </tr>\n",
       "    <tr>\n",
       "      <th>1.3.6.1.4.1.14519.5.2.1.1239.1759.202447815325989213972136564676</th>\n",
       "      <td>CMMD</td>\n",
       "      <td>NO</td>\n",
       "      <td>https://doi.org/10.7937/tcia.eqde4b16</td>\n",
       "      <td>D1-0006</td>\n",
       "      <td>1.3.6.1.4.1.14519.5.2.1.1239.1759.241563313733...</td>\n",
       "      <td>NaN</td>\n",
       "      <td>07-18-2010</td>\n",
       "      <td>NaN</td>\n",
       "      <td>NaN</td>\n",
       "      <td>MG</td>\n",
       "      <td>Digital Mammography X-Ray Image Storage - For ...</td>\n",
       "      <td>1.2.840.10008.5.1.4.1.1.1.2</td>\n",
       "      <td>2</td>\n",
       "      <td>8</td>\n",
       "      <td>79 MB</td>\n",
       "      <td>./CMMD/D1-0006/07-18-2010-NA-NA-16802/1.000000...</td>\n",
       "      <td>2025-02-27T01:22:07.503</td>\n",
       "    </tr>\n",
       "    <tr>\n",
       "      <th>1.3.6.1.4.1.14519.5.2.1.1239.1759.328825651506038448195218436301</th>\n",
       "      <td>CMMD</td>\n",
       "      <td>NO</td>\n",
       "      <td>https://doi.org/10.7937/tcia.eqde4b16</td>\n",
       "      <td>D1-0004</td>\n",
       "      <td>1.3.6.1.4.1.14519.5.2.1.1239.1759.132173027545...</td>\n",
       "      <td>NaN</td>\n",
       "      <td>07-18-2011</td>\n",
       "      <td>NaN</td>\n",
       "      <td>NaN</td>\n",
       "      <td>MG</td>\n",
       "      <td>Digital Mammography X-Ray Image Storage - For ...</td>\n",
       "      <td>1.2.840.10008.5.1.4.1.1.1.2</td>\n",
       "      <td>2</td>\n",
       "      <td>8</td>\n",
       "      <td>79 MB</td>\n",
       "      <td>./CMMD/D1-0004/07-18-2011-NA-NA-14914/1.000000...</td>\n",
       "      <td>2025-02-27T01:22:07.681</td>\n",
       "    </tr>\n",
       "  </tbody>\n",
       "</table>\n",
       "</div>"
      ],
      "text/plain": [
       "                                                   Series UID Collection  \\\n",
       "1.3.6.1.4.1.14519.5.2.1.1239.1759.6230064638615...       CMMD         NO   \n",
       "1.3.6.1.4.1.14519.5.2.1.1239.1759.6108236492577...       CMMD         NO   \n",
       "1.3.6.1.4.1.14519.5.2.1.1239.1759.2925608996110...       CMMD         NO   \n",
       "1.3.6.1.4.1.14519.5.2.1.1239.1759.2024478153259...       CMMD         NO   \n",
       "1.3.6.1.4.1.14519.5.2.1.1239.1759.3288256515060...       CMMD         NO   \n",
       "\n",
       "                                                                       3rd Party Analysis  \\\n",
       "1.3.6.1.4.1.14519.5.2.1.1239.1759.6230064638615...  https://doi.org/10.7937/tcia.eqde4b16   \n",
       "1.3.6.1.4.1.14519.5.2.1.1239.1759.6108236492577...  https://doi.org/10.7937/tcia.eqde4b16   \n",
       "1.3.6.1.4.1.14519.5.2.1.1239.1759.2925608996110...  https://doi.org/10.7937/tcia.eqde4b16   \n",
       "1.3.6.1.4.1.14519.5.2.1.1239.1759.2024478153259...  https://doi.org/10.7937/tcia.eqde4b16   \n",
       "1.3.6.1.4.1.14519.5.2.1.1239.1759.3288256515060...  https://doi.org/10.7937/tcia.eqde4b16   \n",
       "\n",
       "                                                   Data Description URI  \\\n",
       "1.3.6.1.4.1.14519.5.2.1.1239.1759.6230064638615...              D1-0001   \n",
       "1.3.6.1.4.1.14519.5.2.1.1239.1759.6108236492577...              D1-0002   \n",
       "1.3.6.1.4.1.14519.5.2.1.1239.1759.2925608996110...              D1-0003   \n",
       "1.3.6.1.4.1.14519.5.2.1.1239.1759.2024478153259...              D1-0006   \n",
       "1.3.6.1.4.1.14519.5.2.1.1239.1759.3288256515060...              D1-0004   \n",
       "\n",
       "                                                                                           Subject ID  \\\n",
       "1.3.6.1.4.1.14519.5.2.1.1239.1759.6230064638615...  1.3.6.1.4.1.14519.5.2.1.1239.1759.335790956129...   \n",
       "1.3.6.1.4.1.14519.5.2.1.1239.1759.6108236492577...  1.3.6.1.4.1.14519.5.2.1.1239.1759.241519791051...   \n",
       "1.3.6.1.4.1.14519.5.2.1.1239.1759.2925608996110...  1.3.6.1.4.1.14519.5.2.1.1239.1759.113089024322...   \n",
       "1.3.6.1.4.1.14519.5.2.1.1239.1759.2024478153259...  1.3.6.1.4.1.14519.5.2.1.1239.1759.241563313733...   \n",
       "1.3.6.1.4.1.14519.5.2.1.1239.1759.3288256515060...  1.3.6.1.4.1.14519.5.2.1.1239.1759.132173027545...   \n",
       "\n",
       "                                                    Study UID  \\\n",
       "1.3.6.1.4.1.14519.5.2.1.1239.1759.6230064638615...        NaN   \n",
       "1.3.6.1.4.1.14519.5.2.1.1239.1759.6108236492577...        NaN   \n",
       "1.3.6.1.4.1.14519.5.2.1.1239.1759.2925608996110...        NaN   \n",
       "1.3.6.1.4.1.14519.5.2.1.1239.1759.2024478153259...        NaN   \n",
       "1.3.6.1.4.1.14519.5.2.1.1239.1759.3288256515060...        NaN   \n",
       "\n",
       "                                                   Study Description  \\\n",
       "1.3.6.1.4.1.14519.5.2.1.1239.1759.6230064638615...        07-18-2010   \n",
       "1.3.6.1.4.1.14519.5.2.1.1239.1759.6108236492577...        07-18-2010   \n",
       "1.3.6.1.4.1.14519.5.2.1.1239.1759.2925608996110...        07-18-2011   \n",
       "1.3.6.1.4.1.14519.5.2.1.1239.1759.2024478153259...        07-18-2010   \n",
       "1.3.6.1.4.1.14519.5.2.1.1239.1759.3288256515060...        07-18-2011   \n",
       "\n",
       "                                                    Study Date  \\\n",
       "1.3.6.1.4.1.14519.5.2.1.1239.1759.6230064638615...         NaN   \n",
       "1.3.6.1.4.1.14519.5.2.1.1239.1759.6108236492577...         NaN   \n",
       "1.3.6.1.4.1.14519.5.2.1.1239.1759.2925608996110...         NaN   \n",
       "1.3.6.1.4.1.14519.5.2.1.1239.1759.2024478153259...         NaN   \n",
       "1.3.6.1.4.1.14519.5.2.1.1239.1759.3288256515060...         NaN   \n",
       "\n",
       "                                                    Series Description  \\\n",
       "1.3.6.1.4.1.14519.5.2.1.1239.1759.6230064638615...                 NaN   \n",
       "1.3.6.1.4.1.14519.5.2.1.1239.1759.6108236492577...                 NaN   \n",
       "1.3.6.1.4.1.14519.5.2.1.1239.1759.2925608996110...                 NaN   \n",
       "1.3.6.1.4.1.14519.5.2.1.1239.1759.2024478153259...                 NaN   \n",
       "1.3.6.1.4.1.14519.5.2.1.1239.1759.3288256515060...                 NaN   \n",
       "\n",
       "                                                   Manufacturer  \\\n",
       "1.3.6.1.4.1.14519.5.2.1.1239.1759.6230064638615...           MG   \n",
       "1.3.6.1.4.1.14519.5.2.1.1239.1759.6108236492577...           MG   \n",
       "1.3.6.1.4.1.14519.5.2.1.1239.1759.2925608996110...           MG   \n",
       "1.3.6.1.4.1.14519.5.2.1.1239.1759.2024478153259...           MG   \n",
       "1.3.6.1.4.1.14519.5.2.1.1239.1759.3288256515060...           MG   \n",
       "\n",
       "                                                                                             Modality  \\\n",
       "1.3.6.1.4.1.14519.5.2.1.1239.1759.6230064638615...  Digital Mammography X-Ray Image Storage - For ...   \n",
       "1.3.6.1.4.1.14519.5.2.1.1239.1759.6108236492577...  Digital Mammography X-Ray Image Storage - For ...   \n",
       "1.3.6.1.4.1.14519.5.2.1.1239.1759.2925608996110...  Digital Mammography X-Ray Image Storage - For ...   \n",
       "1.3.6.1.4.1.14519.5.2.1.1239.1759.2024478153259...  Digital Mammography X-Ray Image Storage - For ...   \n",
       "1.3.6.1.4.1.14519.5.2.1.1239.1759.3288256515060...  Digital Mammography X-Ray Image Storage - For ...   \n",
       "\n",
       "                                                                 SOP Class Name  \\\n",
       "1.3.6.1.4.1.14519.5.2.1.1239.1759.6230064638615...  1.2.840.10008.5.1.4.1.1.1.2   \n",
       "1.3.6.1.4.1.14519.5.2.1.1239.1759.6108236492577...  1.2.840.10008.5.1.4.1.1.1.2   \n",
       "1.3.6.1.4.1.14519.5.2.1.1239.1759.2925608996110...  1.2.840.10008.5.1.4.1.1.1.2   \n",
       "1.3.6.1.4.1.14519.5.2.1.1239.1759.2024478153259...  1.2.840.10008.5.1.4.1.1.1.2   \n",
       "1.3.6.1.4.1.14519.5.2.1.1239.1759.3288256515060...  1.2.840.10008.5.1.4.1.1.1.2   \n",
       "\n",
       "                                                    SOP Class UID  \\\n",
       "1.3.6.1.4.1.14519.5.2.1.1239.1759.6230064638615...              2   \n",
       "1.3.6.1.4.1.14519.5.2.1.1239.1759.6108236492577...              2   \n",
       "1.3.6.1.4.1.14519.5.2.1.1239.1759.2925608996110...              2   \n",
       "1.3.6.1.4.1.14519.5.2.1.1239.1759.2024478153259...              2   \n",
       "1.3.6.1.4.1.14519.5.2.1.1239.1759.3288256515060...              2   \n",
       "\n",
       "                                                    Number of Images  \\\n",
       "1.3.6.1.4.1.14519.5.2.1.1239.1759.6230064638615...                 8   \n",
       "1.3.6.1.4.1.14519.5.2.1.1239.1759.6108236492577...                 8   \n",
       "1.3.6.1.4.1.14519.5.2.1.1239.1759.2925608996110...                 8   \n",
       "1.3.6.1.4.1.14519.5.2.1.1239.1759.2024478153259...                 8   \n",
       "1.3.6.1.4.1.14519.5.2.1.1239.1759.3288256515060...                 8   \n",
       "\n",
       "                                                   File Size  \\\n",
       "1.3.6.1.4.1.14519.5.2.1.1239.1759.6230064638615...     79 MB   \n",
       "1.3.6.1.4.1.14519.5.2.1.1239.1759.6108236492577...     79 MB   \n",
       "1.3.6.1.4.1.14519.5.2.1.1239.1759.2925608996110...     79 MB   \n",
       "1.3.6.1.4.1.14519.5.2.1.1239.1759.2024478153259...     79 MB   \n",
       "1.3.6.1.4.1.14519.5.2.1.1239.1759.3288256515060...     79 MB   \n",
       "\n",
       "                                                                                        File Location  \\\n",
       "1.3.6.1.4.1.14519.5.2.1.1239.1759.6230064638615...  ./CMMD/D1-0001/07-18-2010-NA-NA-79377/1.000000...   \n",
       "1.3.6.1.4.1.14519.5.2.1.1239.1759.6108236492577...  ./CMMD/D1-0002/07-18-2010-NA-NA-49231/1.000000...   \n",
       "1.3.6.1.4.1.14519.5.2.1.1239.1759.2925608996110...  ./CMMD/D1-0003/07-18-2011-NA-NA-25491/1.000000...   \n",
       "1.3.6.1.4.1.14519.5.2.1.1239.1759.2024478153259...  ./CMMD/D1-0006/07-18-2010-NA-NA-16802/1.000000...   \n",
       "1.3.6.1.4.1.14519.5.2.1.1239.1759.3288256515060...  ./CMMD/D1-0004/07-18-2011-NA-NA-14914/1.000000...   \n",
       "\n",
       "                                                         Download Timestamp  \n",
       "1.3.6.1.4.1.14519.5.2.1.1239.1759.6230064638615...    2025-02-27T01:22:03.4  \n",
       "1.3.6.1.4.1.14519.5.2.1.1239.1759.6108236492577...    2025-02-27T01:22:03.4  \n",
       "1.3.6.1.4.1.14519.5.2.1.1239.1759.2925608996110...  2025-02-27T01:22:03.447  \n",
       "1.3.6.1.4.1.14519.5.2.1.1239.1759.2024478153259...  2025-02-27T01:22:07.503  \n",
       "1.3.6.1.4.1.14519.5.2.1.1239.1759.3288256515060...  2025-02-27T01:22:07.681  "
      ]
     },
     "execution_count": 19,
     "metadata": {},
     "output_type": "execute_result"
    }
   ],
   "source": [
    "metadata_df.head(5)"
   ]
  },
  {
   "cell_type": "code",
   "execution_count": 20,
   "metadata": {},
   "outputs": [
    {
     "name": "stdout",
     "output_type": "stream",
     "text": [
      "<class 'pandas.core.frame.DataFrame'>\n",
      "RangeIndex: 1872 entries, 0 to 1871\n",
      "Data columns (total 7 columns):\n",
      " #   Column          Non-Null Count  Dtype \n",
      "---  ------          --------------  ----- \n",
      " 0   ID1             1872 non-null   object\n",
      " 1   LeftRight       1872 non-null   object\n",
      " 2   Age             1872 non-null   int64 \n",
      " 3   number          1872 non-null   int64 \n",
      " 4   abnormality     1872 non-null   object\n",
      " 5   classification  1872 non-null   object\n",
      " 6   subtype         749 non-null    object\n",
      "dtypes: int64(2), object(5)\n",
      "memory usage: 102.5+ KB\n"
     ]
    }
   ],
   "source": [
    "clinical_data_df.info()"
   ]
  },
  {
   "cell_type": "code",
   "execution_count": 21,
   "metadata": {},
   "outputs": [
    {
     "name": "stdout",
     "output_type": "stream",
     "text": [
      "<class 'pandas.core.frame.DataFrame'>\n",
      "Index: 1775 entries, 1.3.6.1.4.1.14519.5.2.1.1239.1759.623006463861567934606116970244 to 1.3.6.1.4.1.14519.5.2.1.1239.1759.311460119741546999437566015082\n",
      "Data columns (total 17 columns):\n",
      " #   Column                Non-Null Count  Dtype  \n",
      "---  ------                --------------  -----  \n",
      " 0   Series UID            1775 non-null   object \n",
      " 1   Collection            1775 non-null   object \n",
      " 2   3rd Party Analysis    1775 non-null   object \n",
      " 3   Data Description URI  1775 non-null   object \n",
      " 4   Subject ID            1775 non-null   object \n",
      " 5   Study UID             0 non-null      float64\n",
      " 6   Study Description     1775 non-null   object \n",
      " 7   Study Date            0 non-null      float64\n",
      " 8   Series Description    0 non-null      float64\n",
      " 9   Manufacturer          1775 non-null   object \n",
      " 10  Modality              1775 non-null   object \n",
      " 11  SOP Class Name        1775 non-null   object \n",
      " 12  SOP Class UID         1775 non-null   int64  \n",
      " 13  Number of Images      1775 non-null   int64  \n",
      " 14  File Size             1775 non-null   object \n",
      " 15  File Location         1775 non-null   object \n",
      " 16  Download Timestamp    1775 non-null   object \n",
      "dtypes: float64(3), int64(2), object(12)\n",
      "memory usage: 249.6+ KB\n"
     ]
    }
   ],
   "source": [
    "metadata_df.info()"
   ]
  },
  {
   "cell_type": "markdown",
   "metadata": {},
   "source": [
    "# 2. Exploratory Data Analysis"
   ]
  },
  {
   "cell_type": "markdown",
   "metadata": {},
   "source": [
    "## 2.1 Clinical Data Analysis\n",
    "For the main objective we are going to filter only the rows with molecular subtype annotation."
   ]
  },
  {
   "cell_type": "code",
   "execution_count": 23,
   "metadata": {},
   "outputs": [
    {
     "name": "stdout",
     "output_type": "stream",
     "text": [
      "Original clinical data shape: (1872, 7)\n",
      "Filtered clinical data shape: (749, 7)\n"
     ]
    }
   ],
   "source": [
    "clinical_data_df_filtered = clinical_data_df[clinical_data_df['subtype'].notnull()]\n",
    "print(f'Original clinical data shape: {clinical_data_df.shape}')\n",
    "print(f'Filtered clinical data shape: {clinical_data_df_filtered.shape}')"
   ]
  },
  {
   "cell_type": "markdown",
   "metadata": {},
   "source": [
    "There are 749 rows with molecular subtype annotation"
   ]
  },
  {
   "cell_type": "code",
   "execution_count": 24,
   "metadata": {},
   "outputs": [
    {
     "name": "stdout",
     "output_type": "stream",
     "text": [
      "<class 'pandas.core.frame.DataFrame'>\n",
      "Index: 749 entries, 1107 to 1871\n",
      "Data columns (total 7 columns):\n",
      " #   Column          Non-Null Count  Dtype \n",
      "---  ------          --------------  ----- \n",
      " 0   ID1             749 non-null    object\n",
      " 1   LeftRight       749 non-null    object\n",
      " 2   Age             749 non-null    int64 \n",
      " 3   number          749 non-null    int64 \n",
      " 4   abnormality     749 non-null    object\n",
      " 5   classification  749 non-null    object\n",
      " 6   subtype         749 non-null    object\n",
      "dtypes: int64(2), object(5)\n",
      "memory usage: 46.8+ KB\n"
     ]
    }
   ],
   "source": [
    "clinical_data_df_filtered.info()"
   ]
  },
  {
   "cell_type": "code",
   "execution_count": 25,
   "metadata": {},
   "outputs": [
    {
     "data": {
      "text/html": [
       "<div>\n",
       "<style scoped>\n",
       "    .dataframe tbody tr th:only-of-type {\n",
       "        vertical-align: middle;\n",
       "    }\n",
       "\n",
       "    .dataframe tbody tr th {\n",
       "        vertical-align: top;\n",
       "    }\n",
       "\n",
       "    .dataframe thead th {\n",
       "        text-align: right;\n",
       "    }\n",
       "</style>\n",
       "<table border=\"1\" class=\"dataframe\">\n",
       "  <thead>\n",
       "    <tr style=\"text-align: right;\">\n",
       "      <th></th>\n",
       "      <th>ID1</th>\n",
       "      <th>LeftRight</th>\n",
       "      <th>Age</th>\n",
       "      <th>number</th>\n",
       "      <th>abnormality</th>\n",
       "      <th>classification</th>\n",
       "      <th>subtype</th>\n",
       "    </tr>\n",
       "  </thead>\n",
       "  <tbody>\n",
       "    <tr>\n",
       "      <th>1355</th>\n",
       "      <td>D2-0241</td>\n",
       "      <td>L</td>\n",
       "      <td>21</td>\n",
       "      <td>2</td>\n",
       "      <td>both</td>\n",
       "      <td>Malignant</td>\n",
       "      <td>Luminal B</td>\n",
       "    </tr>\n",
       "    <tr>\n",
       "      <th>1167</th>\n",
       "      <td>D2-0059</td>\n",
       "      <td>R</td>\n",
       "      <td>25</td>\n",
       "      <td>2</td>\n",
       "      <td>calcification</td>\n",
       "      <td>Malignant</td>\n",
       "      <td>Luminal A</td>\n",
       "    </tr>\n",
       "    <tr>\n",
       "      <th>1526</th>\n",
       "      <td>D2-0409</td>\n",
       "      <td>R</td>\n",
       "      <td>27</td>\n",
       "      <td>2</td>\n",
       "      <td>mass</td>\n",
       "      <td>Malignant</td>\n",
       "      <td>Luminal B</td>\n",
       "    </tr>\n",
       "    <tr>\n",
       "      <th>1543</th>\n",
       "      <td>D2-0426</td>\n",
       "      <td>R</td>\n",
       "      <td>27</td>\n",
       "      <td>2</td>\n",
       "      <td>mass</td>\n",
       "      <td>Malignant</td>\n",
       "      <td>Luminal B</td>\n",
       "    </tr>\n",
       "    <tr>\n",
       "      <th>1381</th>\n",
       "      <td>D2-0265</td>\n",
       "      <td>R</td>\n",
       "      <td>27</td>\n",
       "      <td>2</td>\n",
       "      <td>both</td>\n",
       "      <td>Malignant</td>\n",
       "      <td>Luminal B</td>\n",
       "    </tr>\n",
       "    <tr>\n",
       "      <th>...</th>\n",
       "      <td>...</td>\n",
       "      <td>...</td>\n",
       "      <td>...</td>\n",
       "      <td>...</td>\n",
       "      <td>...</td>\n",
       "      <td>...</td>\n",
       "      <td>...</td>\n",
       "    </tr>\n",
       "    <tr>\n",
       "      <th>1619</th>\n",
       "      <td>D2-0502</td>\n",
       "      <td>L</td>\n",
       "      <td>83</td>\n",
       "      <td>2</td>\n",
       "      <td>mass</td>\n",
       "      <td>Malignant</td>\n",
       "      <td>Luminal A</td>\n",
       "    </tr>\n",
       "    <tr>\n",
       "      <th>1535</th>\n",
       "      <td>D2-0418</td>\n",
       "      <td>L</td>\n",
       "      <td>83</td>\n",
       "      <td>2</td>\n",
       "      <td>mass</td>\n",
       "      <td>Malignant</td>\n",
       "      <td>Luminal B</td>\n",
       "    </tr>\n",
       "    <tr>\n",
       "      <th>1449</th>\n",
       "      <td>D2-0333</td>\n",
       "      <td>R</td>\n",
       "      <td>85</td>\n",
       "      <td>2</td>\n",
       "      <td>mass</td>\n",
       "      <td>Malignant</td>\n",
       "      <td>Luminal B</td>\n",
       "    </tr>\n",
       "    <tr>\n",
       "      <th>1773</th>\n",
       "      <td>D2-0654</td>\n",
       "      <td>L</td>\n",
       "      <td>85</td>\n",
       "      <td>2</td>\n",
       "      <td>mass</td>\n",
       "      <td>Malignant</td>\n",
       "      <td>triple negative</td>\n",
       "    </tr>\n",
       "    <tr>\n",
       "      <th>1237</th>\n",
       "      <td>D2-0125</td>\n",
       "      <td>R</td>\n",
       "      <td>87</td>\n",
       "      <td>2</td>\n",
       "      <td>both</td>\n",
       "      <td>Malignant</td>\n",
       "      <td>HER2-enriched</td>\n",
       "    </tr>\n",
       "  </tbody>\n",
       "</table>\n",
       "<p>749 rows × 7 columns</p>\n",
       "</div>"
      ],
      "text/plain": [
       "          ID1 LeftRight  Age  number    abnormality classification  \\\n",
       "1355  D2-0241         L   21       2           both      Malignant   \n",
       "1167  D2-0059         R   25       2  calcification      Malignant   \n",
       "1526  D2-0409         R   27       2           mass      Malignant   \n",
       "1543  D2-0426         R   27       2           mass      Malignant   \n",
       "1381  D2-0265         R   27       2           both      Malignant   \n",
       "...       ...       ...  ...     ...            ...            ...   \n",
       "1619  D2-0502         L   83       2           mass      Malignant   \n",
       "1535  D2-0418         L   83       2           mass      Malignant   \n",
       "1449  D2-0333         R   85       2           mass      Malignant   \n",
       "1773  D2-0654         L   85       2           mass      Malignant   \n",
       "1237  D2-0125         R   87       2           both      Malignant   \n",
       "\n",
       "              subtype  \n",
       "1355        Luminal B  \n",
       "1167        Luminal A  \n",
       "1526        Luminal B  \n",
       "1543        Luminal B  \n",
       "1381        Luminal B  \n",
       "...               ...  \n",
       "1619        Luminal A  \n",
       "1535        Luminal B  \n",
       "1449        Luminal B  \n",
       "1773  triple negative  \n",
       "1237    HER2-enriched  \n",
       "\n",
       "[749 rows x 7 columns]"
      ]
     },
     "execution_count": 25,
     "metadata": {},
     "output_type": "execute_result"
    }
   ],
   "source": [
    "clinical_data_df_filtered.head(5)\n",
    "clinical_data_df_filtered.sort_values(by='Age')"
   ]
  },
  {
   "cell_type": "code",
   "execution_count": 26,
   "metadata": {},
   "outputs": [
    {
     "data": {
      "text/plain": [
       "classification\n",
       "Malignant    749\n",
       "Name: count, dtype: int64"
      ]
     },
     "execution_count": 26,
     "metadata": {},
     "output_type": "execute_result"
    }
   ],
   "source": [
    "clinical_data_df_filtered['classification'].value_counts()"
   ]
  },
  {
   "cell_type": "markdown",
   "metadata": {},
   "source": [
    "### 2.1.1 ID1 (Patient ID)"
   ]
  },
  {
   "cell_type": "code",
   "execution_count": 27,
   "metadata": {},
   "outputs": [
    {
     "data": {
      "text/plain": [
       "749"
      ]
     },
     "execution_count": 27,
     "metadata": {},
     "output_type": "execute_result"
    }
   ],
   "source": [
    "clinical_data_df_filtered['ID1'].nunique()"
   ]
  },
  {
   "cell_type": "code",
   "execution_count": 28,
   "metadata": {},
   "outputs": [
    {
     "data": {
      "text/plain": [
       "np.int64(0)"
      ]
     },
     "execution_count": 28,
     "metadata": {},
     "output_type": "execute_result"
    }
   ],
   "source": [
    "clinical_data_df_filtered['ID1'].duplicated().sum()"
   ]
  },
  {
   "cell_type": "markdown",
   "metadata": {},
   "source": [
    "### 2.1.2 LeftRight"
   ]
  },
  {
   "cell_type": "code",
   "execution_count": 29,
   "metadata": {},
   "outputs": [
    {
     "data": {
      "text/plain": [
       "LeftRight\n",
       "L    385\n",
       "R    364\n",
       "Name: count, dtype: int64"
      ]
     },
     "execution_count": 29,
     "metadata": {},
     "output_type": "execute_result"
    }
   ],
   "source": [
    "clinical_data_df_filtered['LeftRight'].value_counts()"
   ]
  },
  {
   "cell_type": "code",
   "execution_count": 30,
   "metadata": {},
   "outputs": [
    {
     "data": {
      "application/vnd.plotly.v1+json": {
       "config": {
        "plotlyServerURL": "https://plot.ly"
       },
       "data": [
        {
         "domain": {
          "x": [
           0,
           1
          ],
          "y": [
           0,
           1
          ]
         },
         "hovertemplate": "LeftRight=%{label}<extra></extra>",
         "labels": [
          "L",
          "R",
          "L",
          "L",
          "R",
          "R",
          "R",
          "R",
          "R",
          "R",
          "R",
          "L",
          "L",
          "L",
          "L",
          "L",
          "R",
          "L",
          "L",
          "R",
          "L",
          "R",
          "L",
          "L",
          "L",
          "L",
          "R",
          "L",
          "R",
          "R",
          "R",
          "R",
          "L",
          "L",
          "R",
          "R",
          "L",
          "L",
          "R",
          "L",
          "R",
          "L",
          "L",
          "L",
          "L",
          "L",
          "R",
          "L",
          "R",
          "R",
          "L",
          "L",
          "R",
          "L",
          "R",
          "R",
          "R",
          "L",
          "R",
          "L",
          "R",
          "R",
          "R",
          "L",
          "L",
          "L",
          "R",
          "L",
          "R",
          "R",
          "R",
          "L",
          "L",
          "L",
          "L",
          "L",
          "R",
          "R",
          "R",
          "L",
          "L",
          "R",
          "R",
          "L",
          "L",
          "L",
          "L",
          "L",
          "R",
          "R",
          "R",
          "R",
          "R",
          "R",
          "L",
          "R",
          "L",
          "L",
          "R",
          "L",
          "L",
          "R",
          "L",
          "L",
          "R",
          "L",
          "R",
          "L",
          "L",
          "L",
          "L",
          "R",
          "R",
          "L",
          "L",
          "L",
          "L",
          "R",
          "R",
          "R",
          "L",
          "L",
          "R",
          "L",
          "R",
          "R",
          "R",
          "R",
          "R",
          "L",
          "R",
          "R",
          "R",
          "L",
          "R",
          "L",
          "L",
          "R",
          "L",
          "L",
          "L",
          "R",
          "R",
          "R",
          "L",
          "L",
          "L",
          "L",
          "L",
          "L",
          "R",
          "L",
          "R",
          "R",
          "R",
          "R",
          "L",
          "R",
          "R",
          "L",
          "L",
          "L",
          "R",
          "R",
          "R",
          "R",
          "L",
          "R",
          "R",
          "R",
          "R",
          "R",
          "R",
          "R",
          "R",
          "R",
          "L",
          "L",
          "R",
          "R",
          "L",
          "R",
          "L",
          "R",
          "L",
          "R",
          "L",
          "R",
          "R",
          "L",
          "R",
          "L",
          "R",
          "R",
          "L",
          "R",
          "L",
          "R",
          "L",
          "R",
          "L",
          "L",
          "R",
          "R",
          "L",
          "L",
          "L",
          "L",
          "L",
          "R",
          "L",
          "R",
          "L",
          "L",
          "R",
          "L",
          "R",
          "R",
          "R",
          "R",
          "L",
          "L",
          "R",
          "R",
          "R",
          "R",
          "R",
          "L",
          "R",
          "L",
          "L",
          "R",
          "R",
          "R",
          "R",
          "L",
          "L",
          "L",
          "L",
          "R",
          "L",
          "L",
          "L",
          "L",
          "R",
          "L",
          "R",
          "R",
          "R",
          "R",
          "R",
          "R",
          "L",
          "R",
          "L",
          "R",
          "L",
          "L",
          "R",
          "R",
          "R",
          "L",
          "L",
          "R",
          "R",
          "L",
          "L",
          "R",
          "L",
          "R",
          "L",
          "L",
          "R",
          "R",
          "L",
          "R",
          "L",
          "L",
          "L",
          "R",
          "L",
          "R",
          "L",
          "L",
          "L",
          "L",
          "R",
          "L",
          "L",
          "L",
          "L",
          "R",
          "R",
          "L",
          "R",
          "L",
          "L",
          "L",
          "L",
          "R",
          "L",
          "L",
          "L",
          "R",
          "L",
          "L",
          "R",
          "L",
          "R",
          "L",
          "L",
          "L",
          "R",
          "R",
          "R",
          "R",
          "L",
          "L",
          "L",
          "L",
          "R",
          "R",
          "R",
          "L",
          "L",
          "L",
          "L",
          "L",
          "R",
          "L",
          "R",
          "L",
          "R",
          "L",
          "R",
          "R",
          "R",
          "R",
          "L",
          "R",
          "R",
          "R",
          "R",
          "R",
          "R",
          "R",
          "R",
          "R",
          "R",
          "L",
          "R",
          "L",
          "L",
          "R",
          "R",
          "R",
          "R",
          "R",
          "L",
          "L",
          "L",
          "L",
          "R",
          "L",
          "L",
          "L",
          "R",
          "R",
          "L",
          "L",
          "R",
          "L",
          "L",
          "R",
          "R",
          "L",
          "L",
          "L",
          "L",
          "L",
          "L",
          "R",
          "L",
          "R",
          "R",
          "R",
          "L",
          "L",
          "R",
          "R",
          "L",
          "R",
          "R",
          "L",
          "R",
          "L",
          "L",
          "L",
          "R",
          "L",
          "L",
          "R",
          "L",
          "L",
          "L",
          "R",
          "R",
          "R",
          "R",
          "L",
          "R",
          "R",
          "R",
          "L",
          "L",
          "L",
          "R",
          "L",
          "L",
          "L",
          "L",
          "R",
          "L",
          "L",
          "L",
          "R",
          "L",
          "L",
          "L",
          "L",
          "R",
          "R",
          "L",
          "R",
          "L",
          "L",
          "L",
          "R",
          "L",
          "L",
          "L",
          "L",
          "L",
          "L",
          "R",
          "R",
          "R",
          "L",
          "R",
          "L",
          "L",
          "L",
          "L",
          "R",
          "L",
          "L",
          "R",
          "R",
          "R",
          "R",
          "R",
          "R",
          "R",
          "R",
          "L",
          "R",
          "L",
          "R",
          "L",
          "L",
          "L",
          "R",
          "L",
          "R",
          "R",
          "L",
          "L",
          "L",
          "R",
          "R",
          "L",
          "R",
          "L",
          "R",
          "L",
          "L",
          "R",
          "R",
          "L",
          "R",
          "L",
          "L",
          "R",
          "L",
          "R",
          "R",
          "R",
          "L",
          "R",
          "L",
          "R",
          "L",
          "L",
          "R",
          "L",
          "R",
          "L",
          "R",
          "L",
          "R",
          "L",
          "R",
          "L",
          "R",
          "L",
          "R",
          "L",
          "R",
          "R",
          "R",
          "R",
          "L",
          "R",
          "R",
          "L",
          "L",
          "L",
          "L",
          "R",
          "L",
          "L",
          "L",
          "L",
          "L",
          "R",
          "L",
          "L",
          "R",
          "L",
          "L",
          "L",
          "L",
          "L",
          "R",
          "R",
          "L",
          "R",
          "L",
          "L",
          "R",
          "R",
          "R",
          "R",
          "L",
          "L",
          "R",
          "L",
          "L",
          "R",
          "R",
          "L",
          "L",
          "R",
          "R",
          "R",
          "L",
          "L",
          "R",
          "L",
          "L",
          "L",
          "R",
          "R",
          "R",
          "L",
          "R",
          "L",
          "R",
          "R",
          "L",
          "L",
          "L",
          "R",
          "R",
          "R",
          "L",
          "L",
          "R",
          "R",
          "R",
          "R",
          "L",
          "L",
          "R",
          "R",
          "L",
          "L",
          "L",
          "R",
          "L",
          "R",
          "L",
          "L",
          "L",
          "R",
          "R",
          "R",
          "R",
          "L",
          "L",
          "R",
          "L",
          "L",
          "L",
          "L",
          "L",
          "R",
          "L",
          "R",
          "R",
          "L",
          "R",
          "L",
          "R",
          "R",
          "R",
          "L",
          "R",
          "R",
          "L",
          "R",
          "R",
          "R",
          "L",
          "R",
          "R",
          "L",
          "L",
          "L",
          "L",
          "L",
          "L",
          "L",
          "L",
          "R",
          "L",
          "L",
          "L",
          "R",
          "R",
          "L",
          "L",
          "R",
          "L",
          "L",
          "R",
          "R",
          "L",
          "L",
          "R",
          "R",
          "L",
          "L",
          "R",
          "L",
          "R",
          "L",
          "L",
          "L",
          "L",
          "L",
          "L",
          "L",
          "L",
          "L",
          "R",
          "L",
          "L",
          "L",
          "L",
          "R",
          "L",
          "R",
          "R",
          "R",
          "R",
          "R",
          "L",
          "L",
          "L",
          "L",
          "L",
          "L",
          "L",
          "L",
          "R",
          "L",
          "L",
          "R",
          "R",
          "R",
          "L",
          "L",
          "R",
          "R",
          "R",
          "L",
          "R",
          "L",
          "R",
          "R",
          "R",
          "R",
          "R",
          "R",
          "R",
          "L",
          "R",
          "R",
          "L",
          "R",
          "L",
          "R",
          "L",
          "R",
          "R",
          "L",
          "R",
          "R",
          "R",
          "L",
          "R",
          "R",
          "R",
          "L",
          "R",
          "R",
          "R",
          "R",
          "R",
          "R",
          "L",
          "R",
          "L",
          "L",
          "R",
          "R",
          "R",
          "L"
         ],
         "legendgroup": "",
         "name": "",
         "showlegend": true,
         "type": "pie"
        }
       ],
       "layout": {
        "legend": {
         "tracegroupgap": 0
        },
        "template": {
         "data": {
          "bar": [
           {
            "error_x": {
             "color": "#2a3f5f"
            },
            "error_y": {
             "color": "#2a3f5f"
            },
            "marker": {
             "line": {
              "color": "#E5ECF6",
              "width": 0.5
             },
             "pattern": {
              "fillmode": "overlay",
              "size": 10,
              "solidity": 0.2
             }
            },
            "type": "bar"
           }
          ],
          "barpolar": [
           {
            "marker": {
             "line": {
              "color": "#E5ECF6",
              "width": 0.5
             },
             "pattern": {
              "fillmode": "overlay",
              "size": 10,
              "solidity": 0.2
             }
            },
            "type": "barpolar"
           }
          ],
          "carpet": [
           {
            "aaxis": {
             "endlinecolor": "#2a3f5f",
             "gridcolor": "white",
             "linecolor": "white",
             "minorgridcolor": "white",
             "startlinecolor": "#2a3f5f"
            },
            "baxis": {
             "endlinecolor": "#2a3f5f",
             "gridcolor": "white",
             "linecolor": "white",
             "minorgridcolor": "white",
             "startlinecolor": "#2a3f5f"
            },
            "type": "carpet"
           }
          ],
          "choropleth": [
           {
            "colorbar": {
             "outlinewidth": 0,
             "ticks": ""
            },
            "type": "choropleth"
           }
          ],
          "contour": [
           {
            "colorbar": {
             "outlinewidth": 0,
             "ticks": ""
            },
            "colorscale": [
             [
              0,
              "#0d0887"
             ],
             [
              0.1111111111111111,
              "#46039f"
             ],
             [
              0.2222222222222222,
              "#7201a8"
             ],
             [
              0.3333333333333333,
              "#9c179e"
             ],
             [
              0.4444444444444444,
              "#bd3786"
             ],
             [
              0.5555555555555556,
              "#d8576b"
             ],
             [
              0.6666666666666666,
              "#ed7953"
             ],
             [
              0.7777777777777778,
              "#fb9f3a"
             ],
             [
              0.8888888888888888,
              "#fdca26"
             ],
             [
              1,
              "#f0f921"
             ]
            ],
            "type": "contour"
           }
          ],
          "contourcarpet": [
           {
            "colorbar": {
             "outlinewidth": 0,
             "ticks": ""
            },
            "type": "contourcarpet"
           }
          ],
          "heatmap": [
           {
            "colorbar": {
             "outlinewidth": 0,
             "ticks": ""
            },
            "colorscale": [
             [
              0,
              "#0d0887"
             ],
             [
              0.1111111111111111,
              "#46039f"
             ],
             [
              0.2222222222222222,
              "#7201a8"
             ],
             [
              0.3333333333333333,
              "#9c179e"
             ],
             [
              0.4444444444444444,
              "#bd3786"
             ],
             [
              0.5555555555555556,
              "#d8576b"
             ],
             [
              0.6666666666666666,
              "#ed7953"
             ],
             [
              0.7777777777777778,
              "#fb9f3a"
             ],
             [
              0.8888888888888888,
              "#fdca26"
             ],
             [
              1,
              "#f0f921"
             ]
            ],
            "type": "heatmap"
           }
          ],
          "histogram": [
           {
            "marker": {
             "pattern": {
              "fillmode": "overlay",
              "size": 10,
              "solidity": 0.2
             }
            },
            "type": "histogram"
           }
          ],
          "histogram2d": [
           {
            "colorbar": {
             "outlinewidth": 0,
             "ticks": ""
            },
            "colorscale": [
             [
              0,
              "#0d0887"
             ],
             [
              0.1111111111111111,
              "#46039f"
             ],
             [
              0.2222222222222222,
              "#7201a8"
             ],
             [
              0.3333333333333333,
              "#9c179e"
             ],
             [
              0.4444444444444444,
              "#bd3786"
             ],
             [
              0.5555555555555556,
              "#d8576b"
             ],
             [
              0.6666666666666666,
              "#ed7953"
             ],
             [
              0.7777777777777778,
              "#fb9f3a"
             ],
             [
              0.8888888888888888,
              "#fdca26"
             ],
             [
              1,
              "#f0f921"
             ]
            ],
            "type": "histogram2d"
           }
          ],
          "histogram2dcontour": [
           {
            "colorbar": {
             "outlinewidth": 0,
             "ticks": ""
            },
            "colorscale": [
             [
              0,
              "#0d0887"
             ],
             [
              0.1111111111111111,
              "#46039f"
             ],
             [
              0.2222222222222222,
              "#7201a8"
             ],
             [
              0.3333333333333333,
              "#9c179e"
             ],
             [
              0.4444444444444444,
              "#bd3786"
             ],
             [
              0.5555555555555556,
              "#d8576b"
             ],
             [
              0.6666666666666666,
              "#ed7953"
             ],
             [
              0.7777777777777778,
              "#fb9f3a"
             ],
             [
              0.8888888888888888,
              "#fdca26"
             ],
             [
              1,
              "#f0f921"
             ]
            ],
            "type": "histogram2dcontour"
           }
          ],
          "mesh3d": [
           {
            "colorbar": {
             "outlinewidth": 0,
             "ticks": ""
            },
            "type": "mesh3d"
           }
          ],
          "parcoords": [
           {
            "line": {
             "colorbar": {
              "outlinewidth": 0,
              "ticks": ""
             }
            },
            "type": "parcoords"
           }
          ],
          "pie": [
           {
            "automargin": true,
            "type": "pie"
           }
          ],
          "scatter": [
           {
            "fillpattern": {
             "fillmode": "overlay",
             "size": 10,
             "solidity": 0.2
            },
            "type": "scatter"
           }
          ],
          "scatter3d": [
           {
            "line": {
             "colorbar": {
              "outlinewidth": 0,
              "ticks": ""
             }
            },
            "marker": {
             "colorbar": {
              "outlinewidth": 0,
              "ticks": ""
             }
            },
            "type": "scatter3d"
           }
          ],
          "scattercarpet": [
           {
            "marker": {
             "colorbar": {
              "outlinewidth": 0,
              "ticks": ""
             }
            },
            "type": "scattercarpet"
           }
          ],
          "scattergeo": [
           {
            "marker": {
             "colorbar": {
              "outlinewidth": 0,
              "ticks": ""
             }
            },
            "type": "scattergeo"
           }
          ],
          "scattergl": [
           {
            "marker": {
             "colorbar": {
              "outlinewidth": 0,
              "ticks": ""
             }
            },
            "type": "scattergl"
           }
          ],
          "scattermap": [
           {
            "marker": {
             "colorbar": {
              "outlinewidth": 0,
              "ticks": ""
             }
            },
            "type": "scattermap"
           }
          ],
          "scattermapbox": [
           {
            "marker": {
             "colorbar": {
              "outlinewidth": 0,
              "ticks": ""
             }
            },
            "type": "scattermapbox"
           }
          ],
          "scatterpolar": [
           {
            "marker": {
             "colorbar": {
              "outlinewidth": 0,
              "ticks": ""
             }
            },
            "type": "scatterpolar"
           }
          ],
          "scatterpolargl": [
           {
            "marker": {
             "colorbar": {
              "outlinewidth": 0,
              "ticks": ""
             }
            },
            "type": "scatterpolargl"
           }
          ],
          "scatterternary": [
           {
            "marker": {
             "colorbar": {
              "outlinewidth": 0,
              "ticks": ""
             }
            },
            "type": "scatterternary"
           }
          ],
          "surface": [
           {
            "colorbar": {
             "outlinewidth": 0,
             "ticks": ""
            },
            "colorscale": [
             [
              0,
              "#0d0887"
             ],
             [
              0.1111111111111111,
              "#46039f"
             ],
             [
              0.2222222222222222,
              "#7201a8"
             ],
             [
              0.3333333333333333,
              "#9c179e"
             ],
             [
              0.4444444444444444,
              "#bd3786"
             ],
             [
              0.5555555555555556,
              "#d8576b"
             ],
             [
              0.6666666666666666,
              "#ed7953"
             ],
             [
              0.7777777777777778,
              "#fb9f3a"
             ],
             [
              0.8888888888888888,
              "#fdca26"
             ],
             [
              1,
              "#f0f921"
             ]
            ],
            "type": "surface"
           }
          ],
          "table": [
           {
            "cells": {
             "fill": {
              "color": "#EBF0F8"
             },
             "line": {
              "color": "white"
             }
            },
            "header": {
             "fill": {
              "color": "#C8D4E3"
             },
             "line": {
              "color": "white"
             }
            },
            "type": "table"
           }
          ]
         },
         "layout": {
          "annotationdefaults": {
           "arrowcolor": "#2a3f5f",
           "arrowhead": 0,
           "arrowwidth": 1
          },
          "autotypenumbers": "strict",
          "coloraxis": {
           "colorbar": {
            "outlinewidth": 0,
            "ticks": ""
           }
          },
          "colorscale": {
           "diverging": [
            [
             0,
             "#8e0152"
            ],
            [
             0.1,
             "#c51b7d"
            ],
            [
             0.2,
             "#de77ae"
            ],
            [
             0.3,
             "#f1b6da"
            ],
            [
             0.4,
             "#fde0ef"
            ],
            [
             0.5,
             "#f7f7f7"
            ],
            [
             0.6,
             "#e6f5d0"
            ],
            [
             0.7,
             "#b8e186"
            ],
            [
             0.8,
             "#7fbc41"
            ],
            [
             0.9,
             "#4d9221"
            ],
            [
             1,
             "#276419"
            ]
           ],
           "sequential": [
            [
             0,
             "#0d0887"
            ],
            [
             0.1111111111111111,
             "#46039f"
            ],
            [
             0.2222222222222222,
             "#7201a8"
            ],
            [
             0.3333333333333333,
             "#9c179e"
            ],
            [
             0.4444444444444444,
             "#bd3786"
            ],
            [
             0.5555555555555556,
             "#d8576b"
            ],
            [
             0.6666666666666666,
             "#ed7953"
            ],
            [
             0.7777777777777778,
             "#fb9f3a"
            ],
            [
             0.8888888888888888,
             "#fdca26"
            ],
            [
             1,
             "#f0f921"
            ]
           ],
           "sequentialminus": [
            [
             0,
             "#0d0887"
            ],
            [
             0.1111111111111111,
             "#46039f"
            ],
            [
             0.2222222222222222,
             "#7201a8"
            ],
            [
             0.3333333333333333,
             "#9c179e"
            ],
            [
             0.4444444444444444,
             "#bd3786"
            ],
            [
             0.5555555555555556,
             "#d8576b"
            ],
            [
             0.6666666666666666,
             "#ed7953"
            ],
            [
             0.7777777777777778,
             "#fb9f3a"
            ],
            [
             0.8888888888888888,
             "#fdca26"
            ],
            [
             1,
             "#f0f921"
            ]
           ]
          },
          "colorway": [
           "#636efa",
           "#EF553B",
           "#00cc96",
           "#ab63fa",
           "#FFA15A",
           "#19d3f3",
           "#FF6692",
           "#B6E880",
           "#FF97FF",
           "#FECB52"
          ],
          "font": {
           "color": "#2a3f5f"
          },
          "geo": {
           "bgcolor": "white",
           "lakecolor": "white",
           "landcolor": "#E5ECF6",
           "showlakes": true,
           "showland": true,
           "subunitcolor": "white"
          },
          "hoverlabel": {
           "align": "left"
          },
          "hovermode": "closest",
          "mapbox": {
           "style": "light"
          },
          "paper_bgcolor": "white",
          "plot_bgcolor": "#E5ECF6",
          "polar": {
           "angularaxis": {
            "gridcolor": "white",
            "linecolor": "white",
            "ticks": ""
           },
           "bgcolor": "#E5ECF6",
           "radialaxis": {
            "gridcolor": "white",
            "linecolor": "white",
            "ticks": ""
           }
          },
          "scene": {
           "xaxis": {
            "backgroundcolor": "#E5ECF6",
            "gridcolor": "white",
            "gridwidth": 2,
            "linecolor": "white",
            "showbackground": true,
            "ticks": "",
            "zerolinecolor": "white"
           },
           "yaxis": {
            "backgroundcolor": "#E5ECF6",
            "gridcolor": "white",
            "gridwidth": 2,
            "linecolor": "white",
            "showbackground": true,
            "ticks": "",
            "zerolinecolor": "white"
           },
           "zaxis": {
            "backgroundcolor": "#E5ECF6",
            "gridcolor": "white",
            "gridwidth": 2,
            "linecolor": "white",
            "showbackground": true,
            "ticks": "",
            "zerolinecolor": "white"
           }
          },
          "shapedefaults": {
           "line": {
            "color": "#2a3f5f"
           }
          },
          "ternary": {
           "aaxis": {
            "gridcolor": "white",
            "linecolor": "white",
            "ticks": ""
           },
           "baxis": {
            "gridcolor": "white",
            "linecolor": "white",
            "ticks": ""
           },
           "bgcolor": "#E5ECF6",
           "caxis": {
            "gridcolor": "white",
            "linecolor": "white",
            "ticks": ""
           }
          },
          "title": {
           "x": 0.05
          },
          "xaxis": {
           "automargin": true,
           "gridcolor": "white",
           "linecolor": "white",
           "ticks": "",
           "title": {
            "standoff": 15
           },
           "zerolinecolor": "white",
           "zerolinewidth": 2
          },
          "yaxis": {
           "automargin": true,
           "gridcolor": "white",
           "linecolor": "white",
           "ticks": "",
           "title": {
            "standoff": 15
           },
           "zerolinecolor": "white",
           "zerolinewidth": 2
          }
         }
        },
        "title": {
         "text": "LeftRight distribution"
        }
       }
      }
     },
     "metadata": {},
     "output_type": "display_data"
    }
   ],
   "source": [
    "px.pie(clinical_data_df_filtered, names='LeftRight', title='LeftRight distribution')"
   ]
  },
  {
   "cell_type": "markdown",
   "metadata": {},
   "source": [
    "### 2.1.3 Age"
   ]
  },
  {
   "cell_type": "code",
   "execution_count": null,
   "metadata": {},
   "outputs": [
    {
     "data": {
      "text/plain": [
       "count    749.000000\n",
       "mean      49.818425\n",
       "std       10.798179\n",
       "min       21.000000\n",
       "25%       43.000000\n",
       "50%       49.000000\n",
       "75%       57.000000\n",
       "max       87.000000\n",
       "Name: Age, dtype: float64"
      ]
     },
     "execution_count": 28,
     "metadata": {},
     "output_type": "execute_result"
    }
   ],
   "source": [
    "clinical_data_df_filtered['Age'].describe()"
   ]
  },
  {
   "cell_type": "code",
   "execution_count": null,
   "metadata": {},
   "outputs": [
    {
     "data": {
      "application/vnd.plotly.v1+json": {
       "config": {
        "plotlyServerURL": "https://plot.ly"
       },
       "data": [
        {
         "bingroup": "x",
         "hovertemplate": "subtype=Luminal B<br>Age=%{x}<br>count=%{y}<extra></extra>",
         "legendgroup": "Luminal B",
         "marker": {
          "color": "#636efa",
          "pattern": {
           "shape": ""
          }
         },
         "name": "Luminal B",
         "orientation": "v",
         "showlegend": true,
         "type": "histogram",
         "x": {
          "bdata": "QEUsJiEjMCYsLiwgI0MsKDc5MjczKzEhNTkmNSEnLjwvNC06JC4vJSciKDpIQCsqNDwyGy88LC5CMC1APykvNy86Iio5OD08MTkvOTY7JDAmPkY6Li0uKT07LTM0LyoxKB82MjkxMS4lPDEsHi8nIjEuODE2FSUlMjw6MyQiHxsqMz8uPSwiLR46NSI0MC0zSFIkJC87JCM1PjxCMzE5ISIsVU09QDQpMzIiMEkzKiQvRTFCMjg4MjIoOz4rNDQ+KSgsLyk3ND0/Iy85OzAbKyknMS9TOzAwGzEsQDcnQipJKDM1NTI5MjgpOyIqKkovOj4sMS4uSChBLzNBK0cmJSgwKDQsNC4zMzwqJTwuHy4rRDRCMzEsMikeQT4tLCwxOS0pLS49RDItJiwnLCs3QjtNMy02OCojPS4hQi4vMU4sLUA0QTA6HTYwLTspK0ozJiwxKjEzPDQuLColMy4lLCo/KyAfMzM8NTFARTIhOjAsMTVIJzUdKg==",
          "dtype": "i1"
         },
         "xaxis": "x",
         "yaxis": "y"
        },
        {
         "bingroup": "x",
         "hovertemplate": "subtype=HER2-enriched<br>Age=%{x}<br>count=%{y}<extra></extra>",
         "legendgroup": "HER2-enriched",
         "marker": {
          "color": "#EF553B",
          "pattern": {
           "shape": ""
          }
         },
         "name": "HER2-enriched",
         "orientation": "v",
         "showlegend": true,
         "type": "histogram",
         "x": {
          "bdata": "KSAxLjQpNisjIDA9PS82IS8mLiInKDoyNDg2LC48IzE5KDhXNUU8NisyMB44RCszPzY0ODIoODAfKjwfOT08PTc8Iy86JyoqSjE8MyM/PkQ4ODsrPj0tNzkdPSoyNC8+Ly4yMDguPzgzLiw7KjsyLT0sMzMuNDMyTjk0NyoxIB4hMDUyKyo7",
          "dtype": "i1"
         },
         "xaxis": "x",
         "yaxis": "y"
        },
        {
         "bingroup": "x",
         "hovertemplate": "subtype=Luminal A<br>Age=%{x}<br>count=%{y}<extra></extra>",
         "legendgroup": "Luminal A",
         "marker": {
          "color": "#00cc96",
          "pattern": {
           "shape": ""
          }
         },
         "name": "Luminal A",
         "orientation": "v",
         "showlegend": true,
         "type": "histogram",
         "x": {
          "bdata": "KSMsHy8vLSkpHCguHzwuGTwfPiggOSU4MTwzOS8/SjUyLjc1ODYqMjdCLDcuMSYvQD4yPTU6Myw2UT0rMC5BQUMrJyMnK0MxMzBHMUU6KjM7MTtDKDo5SUwvOTkjPDstMDVTNT8tMiwvOjMyLig5IUsqOC45NTM4ITE0QispJDAsNTpFQEs+RTwuKywmKz8+PicyRSwkMCY=",
          "dtype": "i1"
         },
         "xaxis": "x",
         "yaxis": "y"
        },
        {
         "bingroup": "x",
         "hovertemplate": "subtype=triple negative<br>Age=%{x}<br>count=%{y}<extra></extra>",
         "legendgroup": "triple negative",
         "marker": {
          "color": "#ab63fa",
          "pattern": {
           "shape": ""
          }
         },
         "name": "triple negative",
         "orientation": "v",
         "showlegend": true,
         "type": "histogram",
         "x": {
          "bdata": "OSkoIzIoODM3MDcsNEIxNTQtNScyQDEvOTE4MTs1K0FBIyU6NS4kPCodMzEgMScxKjg9PThGOh1ALC4pHi4tNSkqHCIqKyY7PCgqSyhVITA2NzE0HSs=",
          "dtype": "i1"
         },
         "xaxis": "x",
         "yaxis": "y"
        }
       ],
       "layout": {
        "barmode": "relative",
        "legend": {
         "title": {
          "text": "subtype"
         },
         "tracegroupgap": 0
        },
        "template": {
         "data": {
          "bar": [
           {
            "error_x": {
             "color": "#2a3f5f"
            },
            "error_y": {
             "color": "#2a3f5f"
            },
            "marker": {
             "line": {
              "color": "#E5ECF6",
              "width": 0.5
             },
             "pattern": {
              "fillmode": "overlay",
              "size": 10,
              "solidity": 0.2
             }
            },
            "type": "bar"
           }
          ],
          "barpolar": [
           {
            "marker": {
             "line": {
              "color": "#E5ECF6",
              "width": 0.5
             },
             "pattern": {
              "fillmode": "overlay",
              "size": 10,
              "solidity": 0.2
             }
            },
            "type": "barpolar"
           }
          ],
          "carpet": [
           {
            "aaxis": {
             "endlinecolor": "#2a3f5f",
             "gridcolor": "white",
             "linecolor": "white",
             "minorgridcolor": "white",
             "startlinecolor": "#2a3f5f"
            },
            "baxis": {
             "endlinecolor": "#2a3f5f",
             "gridcolor": "white",
             "linecolor": "white",
             "minorgridcolor": "white",
             "startlinecolor": "#2a3f5f"
            },
            "type": "carpet"
           }
          ],
          "choropleth": [
           {
            "colorbar": {
             "outlinewidth": 0,
             "ticks": ""
            },
            "type": "choropleth"
           }
          ],
          "contour": [
           {
            "colorbar": {
             "outlinewidth": 0,
             "ticks": ""
            },
            "colorscale": [
             [
              0,
              "#0d0887"
             ],
             [
              0.1111111111111111,
              "#46039f"
             ],
             [
              0.2222222222222222,
              "#7201a8"
             ],
             [
              0.3333333333333333,
              "#9c179e"
             ],
             [
              0.4444444444444444,
              "#bd3786"
             ],
             [
              0.5555555555555556,
              "#d8576b"
             ],
             [
              0.6666666666666666,
              "#ed7953"
             ],
             [
              0.7777777777777778,
              "#fb9f3a"
             ],
             [
              0.8888888888888888,
              "#fdca26"
             ],
             [
              1,
              "#f0f921"
             ]
            ],
            "type": "contour"
           }
          ],
          "contourcarpet": [
           {
            "colorbar": {
             "outlinewidth": 0,
             "ticks": ""
            },
            "type": "contourcarpet"
           }
          ],
          "heatmap": [
           {
            "colorbar": {
             "outlinewidth": 0,
             "ticks": ""
            },
            "colorscale": [
             [
              0,
              "#0d0887"
             ],
             [
              0.1111111111111111,
              "#46039f"
             ],
             [
              0.2222222222222222,
              "#7201a8"
             ],
             [
              0.3333333333333333,
              "#9c179e"
             ],
             [
              0.4444444444444444,
              "#bd3786"
             ],
             [
              0.5555555555555556,
              "#d8576b"
             ],
             [
              0.6666666666666666,
              "#ed7953"
             ],
             [
              0.7777777777777778,
              "#fb9f3a"
             ],
             [
              0.8888888888888888,
              "#fdca26"
             ],
             [
              1,
              "#f0f921"
             ]
            ],
            "type": "heatmap"
           }
          ],
          "histogram": [
           {
            "marker": {
             "pattern": {
              "fillmode": "overlay",
              "size": 10,
              "solidity": 0.2
             }
            },
            "type": "histogram"
           }
          ],
          "histogram2d": [
           {
            "colorbar": {
             "outlinewidth": 0,
             "ticks": ""
            },
            "colorscale": [
             [
              0,
              "#0d0887"
             ],
             [
              0.1111111111111111,
              "#46039f"
             ],
             [
              0.2222222222222222,
              "#7201a8"
             ],
             [
              0.3333333333333333,
              "#9c179e"
             ],
             [
              0.4444444444444444,
              "#bd3786"
             ],
             [
              0.5555555555555556,
              "#d8576b"
             ],
             [
              0.6666666666666666,
              "#ed7953"
             ],
             [
              0.7777777777777778,
              "#fb9f3a"
             ],
             [
              0.8888888888888888,
              "#fdca26"
             ],
             [
              1,
              "#f0f921"
             ]
            ],
            "type": "histogram2d"
           }
          ],
          "histogram2dcontour": [
           {
            "colorbar": {
             "outlinewidth": 0,
             "ticks": ""
            },
            "colorscale": [
             [
              0,
              "#0d0887"
             ],
             [
              0.1111111111111111,
              "#46039f"
             ],
             [
              0.2222222222222222,
              "#7201a8"
             ],
             [
              0.3333333333333333,
              "#9c179e"
             ],
             [
              0.4444444444444444,
              "#bd3786"
             ],
             [
              0.5555555555555556,
              "#d8576b"
             ],
             [
              0.6666666666666666,
              "#ed7953"
             ],
             [
              0.7777777777777778,
              "#fb9f3a"
             ],
             [
              0.8888888888888888,
              "#fdca26"
             ],
             [
              1,
              "#f0f921"
             ]
            ],
            "type": "histogram2dcontour"
           }
          ],
          "mesh3d": [
           {
            "colorbar": {
             "outlinewidth": 0,
             "ticks": ""
            },
            "type": "mesh3d"
           }
          ],
          "parcoords": [
           {
            "line": {
             "colorbar": {
              "outlinewidth": 0,
              "ticks": ""
             }
            },
            "type": "parcoords"
           }
          ],
          "pie": [
           {
            "automargin": true,
            "type": "pie"
           }
          ],
          "scatter": [
           {
            "fillpattern": {
             "fillmode": "overlay",
             "size": 10,
             "solidity": 0.2
            },
            "type": "scatter"
           }
          ],
          "scatter3d": [
           {
            "line": {
             "colorbar": {
              "outlinewidth": 0,
              "ticks": ""
             }
            },
            "marker": {
             "colorbar": {
              "outlinewidth": 0,
              "ticks": ""
             }
            },
            "type": "scatter3d"
           }
          ],
          "scattercarpet": [
           {
            "marker": {
             "colorbar": {
              "outlinewidth": 0,
              "ticks": ""
             }
            },
            "type": "scattercarpet"
           }
          ],
          "scattergeo": [
           {
            "marker": {
             "colorbar": {
              "outlinewidth": 0,
              "ticks": ""
             }
            },
            "type": "scattergeo"
           }
          ],
          "scattergl": [
           {
            "marker": {
             "colorbar": {
              "outlinewidth": 0,
              "ticks": ""
             }
            },
            "type": "scattergl"
           }
          ],
          "scattermap": [
           {
            "marker": {
             "colorbar": {
              "outlinewidth": 0,
              "ticks": ""
             }
            },
            "type": "scattermap"
           }
          ],
          "scattermapbox": [
           {
            "marker": {
             "colorbar": {
              "outlinewidth": 0,
              "ticks": ""
             }
            },
            "type": "scattermapbox"
           }
          ],
          "scatterpolar": [
           {
            "marker": {
             "colorbar": {
              "outlinewidth": 0,
              "ticks": ""
             }
            },
            "type": "scatterpolar"
           }
          ],
          "scatterpolargl": [
           {
            "marker": {
             "colorbar": {
              "outlinewidth": 0,
              "ticks": ""
             }
            },
            "type": "scatterpolargl"
           }
          ],
          "scatterternary": [
           {
            "marker": {
             "colorbar": {
              "outlinewidth": 0,
              "ticks": ""
             }
            },
            "type": "scatterternary"
           }
          ],
          "surface": [
           {
            "colorbar": {
             "outlinewidth": 0,
             "ticks": ""
            },
            "colorscale": [
             [
              0,
              "#0d0887"
             ],
             [
              0.1111111111111111,
              "#46039f"
             ],
             [
              0.2222222222222222,
              "#7201a8"
             ],
             [
              0.3333333333333333,
              "#9c179e"
             ],
             [
              0.4444444444444444,
              "#bd3786"
             ],
             [
              0.5555555555555556,
              "#d8576b"
             ],
             [
              0.6666666666666666,
              "#ed7953"
             ],
             [
              0.7777777777777778,
              "#fb9f3a"
             ],
             [
              0.8888888888888888,
              "#fdca26"
             ],
             [
              1,
              "#f0f921"
             ]
            ],
            "type": "surface"
           }
          ],
          "table": [
           {
            "cells": {
             "fill": {
              "color": "#EBF0F8"
             },
             "line": {
              "color": "white"
             }
            },
            "header": {
             "fill": {
              "color": "#C8D4E3"
             },
             "line": {
              "color": "white"
             }
            },
            "type": "table"
           }
          ]
         },
         "layout": {
          "annotationdefaults": {
           "arrowcolor": "#2a3f5f",
           "arrowhead": 0,
           "arrowwidth": 1
          },
          "autotypenumbers": "strict",
          "coloraxis": {
           "colorbar": {
            "outlinewidth": 0,
            "ticks": ""
           }
          },
          "colorscale": {
           "diverging": [
            [
             0,
             "#8e0152"
            ],
            [
             0.1,
             "#c51b7d"
            ],
            [
             0.2,
             "#de77ae"
            ],
            [
             0.3,
             "#f1b6da"
            ],
            [
             0.4,
             "#fde0ef"
            ],
            [
             0.5,
             "#f7f7f7"
            ],
            [
             0.6,
             "#e6f5d0"
            ],
            [
             0.7,
             "#b8e186"
            ],
            [
             0.8,
             "#7fbc41"
            ],
            [
             0.9,
             "#4d9221"
            ],
            [
             1,
             "#276419"
            ]
           ],
           "sequential": [
            [
             0,
             "#0d0887"
            ],
            [
             0.1111111111111111,
             "#46039f"
            ],
            [
             0.2222222222222222,
             "#7201a8"
            ],
            [
             0.3333333333333333,
             "#9c179e"
            ],
            [
             0.4444444444444444,
             "#bd3786"
            ],
            [
             0.5555555555555556,
             "#d8576b"
            ],
            [
             0.6666666666666666,
             "#ed7953"
            ],
            [
             0.7777777777777778,
             "#fb9f3a"
            ],
            [
             0.8888888888888888,
             "#fdca26"
            ],
            [
             1,
             "#f0f921"
            ]
           ],
           "sequentialminus": [
            [
             0,
             "#0d0887"
            ],
            [
             0.1111111111111111,
             "#46039f"
            ],
            [
             0.2222222222222222,
             "#7201a8"
            ],
            [
             0.3333333333333333,
             "#9c179e"
            ],
            [
             0.4444444444444444,
             "#bd3786"
            ],
            [
             0.5555555555555556,
             "#d8576b"
            ],
            [
             0.6666666666666666,
             "#ed7953"
            ],
            [
             0.7777777777777778,
             "#fb9f3a"
            ],
            [
             0.8888888888888888,
             "#fdca26"
            ],
            [
             1,
             "#f0f921"
            ]
           ]
          },
          "colorway": [
           "#636efa",
           "#EF553B",
           "#00cc96",
           "#ab63fa",
           "#FFA15A",
           "#19d3f3",
           "#FF6692",
           "#B6E880",
           "#FF97FF",
           "#FECB52"
          ],
          "font": {
           "color": "#2a3f5f"
          },
          "geo": {
           "bgcolor": "white",
           "lakecolor": "white",
           "landcolor": "#E5ECF6",
           "showlakes": true,
           "showland": true,
           "subunitcolor": "white"
          },
          "hoverlabel": {
           "align": "left"
          },
          "hovermode": "closest",
          "mapbox": {
           "style": "light"
          },
          "paper_bgcolor": "white",
          "plot_bgcolor": "#E5ECF6",
          "polar": {
           "angularaxis": {
            "gridcolor": "white",
            "linecolor": "white",
            "ticks": ""
           },
           "bgcolor": "#E5ECF6",
           "radialaxis": {
            "gridcolor": "white",
            "linecolor": "white",
            "ticks": ""
           }
          },
          "scene": {
           "xaxis": {
            "backgroundcolor": "#E5ECF6",
            "gridcolor": "white",
            "gridwidth": 2,
            "linecolor": "white",
            "showbackground": true,
            "ticks": "",
            "zerolinecolor": "white"
           },
           "yaxis": {
            "backgroundcolor": "#E5ECF6",
            "gridcolor": "white",
            "gridwidth": 2,
            "linecolor": "white",
            "showbackground": true,
            "ticks": "",
            "zerolinecolor": "white"
           },
           "zaxis": {
            "backgroundcolor": "#E5ECF6",
            "gridcolor": "white",
            "gridwidth": 2,
            "linecolor": "white",
            "showbackground": true,
            "ticks": "",
            "zerolinecolor": "white"
           }
          },
          "shapedefaults": {
           "line": {
            "color": "#2a3f5f"
           }
          },
          "ternary": {
           "aaxis": {
            "gridcolor": "white",
            "linecolor": "white",
            "ticks": ""
           },
           "baxis": {
            "gridcolor": "white",
            "linecolor": "white",
            "ticks": ""
           },
           "bgcolor": "#E5ECF6",
           "caxis": {
            "gridcolor": "white",
            "linecolor": "white",
            "ticks": ""
           }
          },
          "title": {
           "x": 0.05
          },
          "xaxis": {
           "automargin": true,
           "gridcolor": "white",
           "linecolor": "white",
           "ticks": "",
           "title": {
            "standoff": 15
           },
           "zerolinecolor": "white",
           "zerolinewidth": 2
          },
          "yaxis": {
           "automargin": true,
           "gridcolor": "white",
           "linecolor": "white",
           "ticks": "",
           "title": {
            "standoff": 15
           },
           "zerolinecolor": "white",
           "zerolinewidth": 2
          }
         }
        },
        "title": {
         "text": "Age distribution"
        },
        "xaxis": {
         "anchor": "y",
         "domain": [
          0,
          1
         ],
         "title": {
          "text": "Age"
         }
        },
        "yaxis": {
         "anchor": "x",
         "domain": [
          0,
          1
         ],
         "title": {
          "text": "count"
         }
        }
       }
      }
     },
     "metadata": {},
     "output_type": "display_data"
    }
   ],
   "source": [
    "px.histogram(clinical_data_df_filtered, x='Age', title='Age distribution', color='subtype')"
   ]
  },
  {
   "cell_type": "code",
   "execution_count": null,
   "metadata": {},
   "outputs": [
    {
     "data": {
      "application/vnd.plotly.v1+json": {
       "config": {
        "plotlyServerURL": "https://plot.ly"
       },
       "data": [
        {
         "bingroup": "x",
         "hovertemplate": "LeftRight=L<br>Age=%{x}<br>count=%{y}<extra></extra>",
         "legendgroup": "L",
         "marker": {
          "color": "#636efa",
          "pattern": {
           "shape": ""
          }
         },
         "name": "L",
         "orientation": "v",
         "showlegend": true,
         "type": "histogram",
         "x": {
          "bdata": "QCwmIDkwJi8vLC0pKTYuLCNDPT0cKC4fKC82PDkvKzw1LjkyKDo1IScvNDYsLi06JTgiKDpIMSsgNDkoGzkvPEIwQDg8Ny82OisyOTk3MC8/ODEyOStGNjcuKTU7ODQoMCoqPDQfHzkyKkIxLjQePCc3LjgxFTc8JSUyLDozH0oxKjMjPy49LCIxOiY1LyI4NDIrLTNIQD4kJD4vPSMtNzk8QjMhIiw6PTMyTT0+STMxL0UxMjg4Mi44OztBKzQ0QT41LCkuKzQyP0MjLzkrJysxUzAxOzBBOEUxLjoqIyU7MTtDKEA3NUk4OiguNR0zMjg5OS4zIio7Oyo6LSAsLi5TKEEzQUcxKDAsODQuPTM9MjwvLTM9KjIlLC4oRjorNEIsMkEqLR1AOC0pKS0uLTU5NCYzKSosKzhCITJOOTEzLTQmKz0kMSE7MDwoLCpLOkUoVTFALSA0MB0+NkUwLTs8KS5KMyYsMx48LDQ2LiwhKisuKjE+JzUdRSQwSCYrKg==",
          "dtype": "i1"
         },
         "xaxis": "x",
         "yaxis": "y"
        },
        {
         "bingroup": "x",
         "hovertemplate": "LeftRight=R<br>Age=%{x}<br>count=%{y}<extra></extra>",
         "legendgroup": "R",
         "marker": {
          "color": "#EF553B",
          "pattern": {
           "shape": ""
          }
         },
         "name": "R",
         "orientation": "v",
         "showlegend": true,
         "type": "histogram",
         "x": {
          "bdata": "RSkhKSMjLB8xLjQpICspIyAwLCgjNyEuMjczGSYxISInKCYuPDI0OCQ8Iy4fLyc+KEAqPDIsLjgtVzM1JUU/MSkvPCIzKh4wSjU4PTxENy85LjM2Oz8kMCY+Oi4tLDQ4PS0zMi84HzEoNjY5PTUxMSU8MjEsLyI9LTE2I0IvOjUnKjw3JCoiJxs8LjM/Pi0eRDg7MFIyOyQ1PTU+MTkdKixVPUA2UTQpNDNAMiIxMC8rMC85KiRCLzIoPjFDKSsoLyc3Iyc9MTM7MBswKUcvMBssQTM/JzpCKjM1OSQ8KjJJTC85KSM7PDEsKkovPjExMCc1SDUvPysmJS0yKCo7NCwzOjg8Lh8uOSEzRDMxKR5LPiwsMTksLi4zHj1EMi4tLiwnNzUzHDtNIjQqQis2ODcqKSMqLjVCLi9OLEtAQTorISsxKjAxNyUzJj8lLD8rIDQfMzMwPjU8MTJARSwyITI6MCwrMTUqJzs1HQ==",
          "dtype": "i1"
         },
         "xaxis": "x",
         "yaxis": "y"
        }
       ],
       "layout": {
        "barmode": "relative",
        "legend": {
         "title": {
          "text": "LeftRight"
         },
         "tracegroupgap": 0
        },
        "template": {
         "data": {
          "bar": [
           {
            "error_x": {
             "color": "#2a3f5f"
            },
            "error_y": {
             "color": "#2a3f5f"
            },
            "marker": {
             "line": {
              "color": "#E5ECF6",
              "width": 0.5
             },
             "pattern": {
              "fillmode": "overlay",
              "size": 10,
              "solidity": 0.2
             }
            },
            "type": "bar"
           }
          ],
          "barpolar": [
           {
            "marker": {
             "line": {
              "color": "#E5ECF6",
              "width": 0.5
             },
             "pattern": {
              "fillmode": "overlay",
              "size": 10,
              "solidity": 0.2
             }
            },
            "type": "barpolar"
           }
          ],
          "carpet": [
           {
            "aaxis": {
             "endlinecolor": "#2a3f5f",
             "gridcolor": "white",
             "linecolor": "white",
             "minorgridcolor": "white",
             "startlinecolor": "#2a3f5f"
            },
            "baxis": {
             "endlinecolor": "#2a3f5f",
             "gridcolor": "white",
             "linecolor": "white",
             "minorgridcolor": "white",
             "startlinecolor": "#2a3f5f"
            },
            "type": "carpet"
           }
          ],
          "choropleth": [
           {
            "colorbar": {
             "outlinewidth": 0,
             "ticks": ""
            },
            "type": "choropleth"
           }
          ],
          "contour": [
           {
            "colorbar": {
             "outlinewidth": 0,
             "ticks": ""
            },
            "colorscale": [
             [
              0,
              "#0d0887"
             ],
             [
              0.1111111111111111,
              "#46039f"
             ],
             [
              0.2222222222222222,
              "#7201a8"
             ],
             [
              0.3333333333333333,
              "#9c179e"
             ],
             [
              0.4444444444444444,
              "#bd3786"
             ],
             [
              0.5555555555555556,
              "#d8576b"
             ],
             [
              0.6666666666666666,
              "#ed7953"
             ],
             [
              0.7777777777777778,
              "#fb9f3a"
             ],
             [
              0.8888888888888888,
              "#fdca26"
             ],
             [
              1,
              "#f0f921"
             ]
            ],
            "type": "contour"
           }
          ],
          "contourcarpet": [
           {
            "colorbar": {
             "outlinewidth": 0,
             "ticks": ""
            },
            "type": "contourcarpet"
           }
          ],
          "heatmap": [
           {
            "colorbar": {
             "outlinewidth": 0,
             "ticks": ""
            },
            "colorscale": [
             [
              0,
              "#0d0887"
             ],
             [
              0.1111111111111111,
              "#46039f"
             ],
             [
              0.2222222222222222,
              "#7201a8"
             ],
             [
              0.3333333333333333,
              "#9c179e"
             ],
             [
              0.4444444444444444,
              "#bd3786"
             ],
             [
              0.5555555555555556,
              "#d8576b"
             ],
             [
              0.6666666666666666,
              "#ed7953"
             ],
             [
              0.7777777777777778,
              "#fb9f3a"
             ],
             [
              0.8888888888888888,
              "#fdca26"
             ],
             [
              1,
              "#f0f921"
             ]
            ],
            "type": "heatmap"
           }
          ],
          "histogram": [
           {
            "marker": {
             "pattern": {
              "fillmode": "overlay",
              "size": 10,
              "solidity": 0.2
             }
            },
            "type": "histogram"
           }
          ],
          "histogram2d": [
           {
            "colorbar": {
             "outlinewidth": 0,
             "ticks": ""
            },
            "colorscale": [
             [
              0,
              "#0d0887"
             ],
             [
              0.1111111111111111,
              "#46039f"
             ],
             [
              0.2222222222222222,
              "#7201a8"
             ],
             [
              0.3333333333333333,
              "#9c179e"
             ],
             [
              0.4444444444444444,
              "#bd3786"
             ],
             [
              0.5555555555555556,
              "#d8576b"
             ],
             [
              0.6666666666666666,
              "#ed7953"
             ],
             [
              0.7777777777777778,
              "#fb9f3a"
             ],
             [
              0.8888888888888888,
              "#fdca26"
             ],
             [
              1,
              "#f0f921"
             ]
            ],
            "type": "histogram2d"
           }
          ],
          "histogram2dcontour": [
           {
            "colorbar": {
             "outlinewidth": 0,
             "ticks": ""
            },
            "colorscale": [
             [
              0,
              "#0d0887"
             ],
             [
              0.1111111111111111,
              "#46039f"
             ],
             [
              0.2222222222222222,
              "#7201a8"
             ],
             [
              0.3333333333333333,
              "#9c179e"
             ],
             [
              0.4444444444444444,
              "#bd3786"
             ],
             [
              0.5555555555555556,
              "#d8576b"
             ],
             [
              0.6666666666666666,
              "#ed7953"
             ],
             [
              0.7777777777777778,
              "#fb9f3a"
             ],
             [
              0.8888888888888888,
              "#fdca26"
             ],
             [
              1,
              "#f0f921"
             ]
            ],
            "type": "histogram2dcontour"
           }
          ],
          "mesh3d": [
           {
            "colorbar": {
             "outlinewidth": 0,
             "ticks": ""
            },
            "type": "mesh3d"
           }
          ],
          "parcoords": [
           {
            "line": {
             "colorbar": {
              "outlinewidth": 0,
              "ticks": ""
             }
            },
            "type": "parcoords"
           }
          ],
          "pie": [
           {
            "automargin": true,
            "type": "pie"
           }
          ],
          "scatter": [
           {
            "fillpattern": {
             "fillmode": "overlay",
             "size": 10,
             "solidity": 0.2
            },
            "type": "scatter"
           }
          ],
          "scatter3d": [
           {
            "line": {
             "colorbar": {
              "outlinewidth": 0,
              "ticks": ""
             }
            },
            "marker": {
             "colorbar": {
              "outlinewidth": 0,
              "ticks": ""
             }
            },
            "type": "scatter3d"
           }
          ],
          "scattercarpet": [
           {
            "marker": {
             "colorbar": {
              "outlinewidth": 0,
              "ticks": ""
             }
            },
            "type": "scattercarpet"
           }
          ],
          "scattergeo": [
           {
            "marker": {
             "colorbar": {
              "outlinewidth": 0,
              "ticks": ""
             }
            },
            "type": "scattergeo"
           }
          ],
          "scattergl": [
           {
            "marker": {
             "colorbar": {
              "outlinewidth": 0,
              "ticks": ""
             }
            },
            "type": "scattergl"
           }
          ],
          "scattermap": [
           {
            "marker": {
             "colorbar": {
              "outlinewidth": 0,
              "ticks": ""
             }
            },
            "type": "scattermap"
           }
          ],
          "scattermapbox": [
           {
            "marker": {
             "colorbar": {
              "outlinewidth": 0,
              "ticks": ""
             }
            },
            "type": "scattermapbox"
           }
          ],
          "scatterpolar": [
           {
            "marker": {
             "colorbar": {
              "outlinewidth": 0,
              "ticks": ""
             }
            },
            "type": "scatterpolar"
           }
          ],
          "scatterpolargl": [
           {
            "marker": {
             "colorbar": {
              "outlinewidth": 0,
              "ticks": ""
             }
            },
            "type": "scatterpolargl"
           }
          ],
          "scatterternary": [
           {
            "marker": {
             "colorbar": {
              "outlinewidth": 0,
              "ticks": ""
             }
            },
            "type": "scatterternary"
           }
          ],
          "surface": [
           {
            "colorbar": {
             "outlinewidth": 0,
             "ticks": ""
            },
            "colorscale": [
             [
              0,
              "#0d0887"
             ],
             [
              0.1111111111111111,
              "#46039f"
             ],
             [
              0.2222222222222222,
              "#7201a8"
             ],
             [
              0.3333333333333333,
              "#9c179e"
             ],
             [
              0.4444444444444444,
              "#bd3786"
             ],
             [
              0.5555555555555556,
              "#d8576b"
             ],
             [
              0.6666666666666666,
              "#ed7953"
             ],
             [
              0.7777777777777778,
              "#fb9f3a"
             ],
             [
              0.8888888888888888,
              "#fdca26"
             ],
             [
              1,
              "#f0f921"
             ]
            ],
            "type": "surface"
           }
          ],
          "table": [
           {
            "cells": {
             "fill": {
              "color": "#EBF0F8"
             },
             "line": {
              "color": "white"
             }
            },
            "header": {
             "fill": {
              "color": "#C8D4E3"
             },
             "line": {
              "color": "white"
             }
            },
            "type": "table"
           }
          ]
         },
         "layout": {
          "annotationdefaults": {
           "arrowcolor": "#2a3f5f",
           "arrowhead": 0,
           "arrowwidth": 1
          },
          "autotypenumbers": "strict",
          "coloraxis": {
           "colorbar": {
            "outlinewidth": 0,
            "ticks": ""
           }
          },
          "colorscale": {
           "diverging": [
            [
             0,
             "#8e0152"
            ],
            [
             0.1,
             "#c51b7d"
            ],
            [
             0.2,
             "#de77ae"
            ],
            [
             0.3,
             "#f1b6da"
            ],
            [
             0.4,
             "#fde0ef"
            ],
            [
             0.5,
             "#f7f7f7"
            ],
            [
             0.6,
             "#e6f5d0"
            ],
            [
             0.7,
             "#b8e186"
            ],
            [
             0.8,
             "#7fbc41"
            ],
            [
             0.9,
             "#4d9221"
            ],
            [
             1,
             "#276419"
            ]
           ],
           "sequential": [
            [
             0,
             "#0d0887"
            ],
            [
             0.1111111111111111,
             "#46039f"
            ],
            [
             0.2222222222222222,
             "#7201a8"
            ],
            [
             0.3333333333333333,
             "#9c179e"
            ],
            [
             0.4444444444444444,
             "#bd3786"
            ],
            [
             0.5555555555555556,
             "#d8576b"
            ],
            [
             0.6666666666666666,
             "#ed7953"
            ],
            [
             0.7777777777777778,
             "#fb9f3a"
            ],
            [
             0.8888888888888888,
             "#fdca26"
            ],
            [
             1,
             "#f0f921"
            ]
           ],
           "sequentialminus": [
            [
             0,
             "#0d0887"
            ],
            [
             0.1111111111111111,
             "#46039f"
            ],
            [
             0.2222222222222222,
             "#7201a8"
            ],
            [
             0.3333333333333333,
             "#9c179e"
            ],
            [
             0.4444444444444444,
             "#bd3786"
            ],
            [
             0.5555555555555556,
             "#d8576b"
            ],
            [
             0.6666666666666666,
             "#ed7953"
            ],
            [
             0.7777777777777778,
             "#fb9f3a"
            ],
            [
             0.8888888888888888,
             "#fdca26"
            ],
            [
             1,
             "#f0f921"
            ]
           ]
          },
          "colorway": [
           "#636efa",
           "#EF553B",
           "#00cc96",
           "#ab63fa",
           "#FFA15A",
           "#19d3f3",
           "#FF6692",
           "#B6E880",
           "#FF97FF",
           "#FECB52"
          ],
          "font": {
           "color": "#2a3f5f"
          },
          "geo": {
           "bgcolor": "white",
           "lakecolor": "white",
           "landcolor": "#E5ECF6",
           "showlakes": true,
           "showland": true,
           "subunitcolor": "white"
          },
          "hoverlabel": {
           "align": "left"
          },
          "hovermode": "closest",
          "mapbox": {
           "style": "light"
          },
          "paper_bgcolor": "white",
          "plot_bgcolor": "#E5ECF6",
          "polar": {
           "angularaxis": {
            "gridcolor": "white",
            "linecolor": "white",
            "ticks": ""
           },
           "bgcolor": "#E5ECF6",
           "radialaxis": {
            "gridcolor": "white",
            "linecolor": "white",
            "ticks": ""
           }
          },
          "scene": {
           "xaxis": {
            "backgroundcolor": "#E5ECF6",
            "gridcolor": "white",
            "gridwidth": 2,
            "linecolor": "white",
            "showbackground": true,
            "ticks": "",
            "zerolinecolor": "white"
           },
           "yaxis": {
            "backgroundcolor": "#E5ECF6",
            "gridcolor": "white",
            "gridwidth": 2,
            "linecolor": "white",
            "showbackground": true,
            "ticks": "",
            "zerolinecolor": "white"
           },
           "zaxis": {
            "backgroundcolor": "#E5ECF6",
            "gridcolor": "white",
            "gridwidth": 2,
            "linecolor": "white",
            "showbackground": true,
            "ticks": "",
            "zerolinecolor": "white"
           }
          },
          "shapedefaults": {
           "line": {
            "color": "#2a3f5f"
           }
          },
          "ternary": {
           "aaxis": {
            "gridcolor": "white",
            "linecolor": "white",
            "ticks": ""
           },
           "baxis": {
            "gridcolor": "white",
            "linecolor": "white",
            "ticks": ""
           },
           "bgcolor": "#E5ECF6",
           "caxis": {
            "gridcolor": "white",
            "linecolor": "white",
            "ticks": ""
           }
          },
          "title": {
           "x": 0.05
          },
          "xaxis": {
           "automargin": true,
           "gridcolor": "white",
           "linecolor": "white",
           "ticks": "",
           "title": {
            "standoff": 15
           },
           "zerolinecolor": "white",
           "zerolinewidth": 2
          },
          "yaxis": {
           "automargin": true,
           "gridcolor": "white",
           "linecolor": "white",
           "ticks": "",
           "title": {
            "standoff": 15
           },
           "zerolinecolor": "white",
           "zerolinewidth": 2
          }
         }
        },
        "title": {
         "text": "Age distribution"
        },
        "xaxis": {
         "anchor": "y",
         "domain": [
          0,
          1
         ],
         "title": {
          "text": "Age"
         }
        },
        "yaxis": {
         "anchor": "x",
         "domain": [
          0,
          1
         ],
         "title": {
          "text": "count"
         }
        }
       }
      }
     },
     "metadata": {},
     "output_type": "display_data"
    }
   ],
   "source": [
    "px.histogram(clinical_data_df_filtered, x='Age', title='Age distribution', color='LeftRight')"
   ]
  },
  {
   "cell_type": "markdown",
   "metadata": {},
   "source": [
    "### 2.1.4 Abnormality"
   ]
  },
  {
   "cell_type": "code",
   "execution_count": null,
   "metadata": {},
   "outputs": [
    {
     "data": {
      "application/vnd.plotly.v1+json": {
       "config": {
        "plotlyServerURL": "https://plot.ly"
       },
       "data": [
        {
         "bingroup": "x",
         "hovertemplate": "subtype=Luminal B<br>abnormality=%{x}<br>count=%{y}<extra></extra>",
         "legendgroup": "Luminal B",
         "marker": {
          "color": "#636efa",
          "pattern": {
           "shape": ""
          }
         },
         "name": "Luminal B",
         "orientation": "v",
         "showlegend": true,
         "type": "histogram",
         "x": [
          "calcification",
          "calcification",
          "calcification",
          "calcification",
          "calcification",
          "calcification",
          "calcification",
          "calcification",
          "calcification",
          "calcification",
          "calcification",
          "calcification",
          "calcification",
          "calcification",
          "calcification",
          "calcification",
          "calcification",
          "calcification",
          "calcification",
          "calcification",
          "calcification",
          "calcification",
          "calcification",
          "calcification",
          "calcification",
          "calcification",
          "calcification",
          "calcification",
          "calcification",
          "calcification",
          "calcification",
          "calcification",
          "calcification",
          "calcification",
          "calcification",
          "calcification",
          "calcification",
          "calcification",
          "calcification",
          "calcification",
          "calcification",
          "calcification",
          "both",
          "both",
          "both",
          "both",
          "both",
          "both",
          "both",
          "both",
          "both",
          "both",
          "both",
          "both",
          "both",
          "both",
          "both",
          "both",
          "both",
          "both",
          "both",
          "both",
          "both",
          "both",
          "both",
          "both",
          "both",
          "both",
          "both",
          "both",
          "both",
          "both",
          "both",
          "both",
          "both",
          "both",
          "both",
          "both",
          "both",
          "both",
          "both",
          "both",
          "both",
          "both",
          "both",
          "both",
          "both",
          "both",
          "both",
          "both",
          "both",
          "both",
          "both",
          "both",
          "both",
          "both",
          "both",
          "both",
          "both",
          "both",
          "both",
          "both",
          "both",
          "both",
          "both",
          "both",
          "both",
          "both",
          "both",
          "both",
          "both",
          "both",
          "both",
          "both",
          "both",
          "both",
          "both",
          "both",
          "both",
          "both",
          "both",
          "both",
          "both",
          "both",
          "both",
          "both",
          "both",
          "both",
          "both",
          "both",
          "both",
          "both",
          "both",
          "both",
          "both",
          "both",
          "both",
          "both",
          "both",
          "both",
          "both",
          "both",
          "both",
          "both",
          "both",
          "both",
          "both",
          "both",
          "both",
          "both",
          "both",
          "both",
          "both",
          "both",
          "both",
          "both",
          "both",
          "both",
          "both",
          "both",
          "both",
          "both",
          "mass",
          "mass",
          "mass",
          "mass",
          "mass",
          "mass",
          "mass",
          "mass",
          "mass",
          "mass",
          "mass",
          "mass",
          "mass",
          "mass",
          "mass",
          "mass",
          "mass",
          "mass",
          "mass",
          "mass",
          "mass",
          "mass",
          "mass",
          "mass",
          "mass",
          "mass",
          "mass",
          "mass",
          "mass",
          "mass",
          "mass",
          "mass",
          "mass",
          "mass",
          "mass",
          "mass",
          "mass",
          "mass",
          "mass",
          "mass",
          "mass",
          "mass",
          "mass",
          "mass",
          "mass",
          "mass",
          "mass",
          "mass",
          "mass",
          "mass",
          "mass",
          "mass",
          "mass",
          "mass",
          "mass",
          "mass",
          "mass",
          "mass",
          "mass",
          "mass",
          "mass",
          "mass",
          "mass",
          "mass",
          "mass",
          "mass",
          "mass",
          "mass",
          "mass",
          "mass",
          "mass",
          "mass",
          "mass",
          "mass",
          "mass",
          "mass",
          "mass",
          "mass",
          "mass",
          "mass",
          "mass",
          "mass",
          "mass",
          "mass",
          "mass",
          "mass",
          "mass",
          "mass",
          "mass",
          "mass",
          "mass",
          "mass",
          "mass",
          "mass",
          "mass",
          "mass",
          "mass",
          "mass",
          "mass",
          "mass",
          "mass",
          "mass",
          "mass",
          "mass",
          "mass",
          "mass",
          "mass",
          "mass",
          "mass",
          "mass",
          "mass",
          "mass",
          "mass",
          "mass",
          "mass",
          "mass",
          "mass",
          "mass",
          "mass",
          "mass",
          "mass",
          "mass",
          "mass",
          "mass",
          "mass",
          "mass",
          "mass",
          "mass",
          "mass",
          "mass",
          "mass",
          "mass",
          "mass",
          "mass",
          "mass",
          "mass",
          "mass",
          "mass",
          "mass",
          "mass",
          "mass",
          "mass",
          "mass",
          "mass",
          "mass",
          "mass",
          "mass",
          "mass",
          "mass",
          "mass",
          "mass",
          "mass",
          "mass",
          "mass",
          "mass",
          "mass",
          "mass",
          "mass",
          "mass",
          "mass",
          "mass",
          "mass",
          "mass",
          "mass",
          "mass",
          "mass",
          "mass",
          "mass",
          "mass",
          "mass",
          "mass",
          "mass",
          "mass",
          "mass",
          "mass",
          "mass",
          "mass",
          "mass",
          "mass",
          "mass",
          "mass",
          "mass",
          "mass",
          "mass",
          "mass",
          "mass",
          "mass",
          "mass",
          "mass",
          "mass",
          "mass",
          "mass",
          "mass",
          "mass",
          "mass",
          "mass",
          "mass",
          "mass",
          "mass",
          "mass",
          "mass",
          "mass",
          "mass",
          "mass",
          "mass",
          "mass",
          "mass",
          "mass",
          "mass",
          "mass",
          "mass",
          "mass",
          "mass",
          "mass"
         ],
         "xaxis": "x",
         "yaxis": "y"
        },
        {
         "bingroup": "x",
         "hovertemplate": "subtype=HER2-enriched<br>abnormality=%{x}<br>count=%{y}<extra></extra>",
         "legendgroup": "HER2-enriched",
         "marker": {
          "color": "#EF553B",
          "pattern": {
           "shape": ""
          }
         },
         "name": "HER2-enriched",
         "orientation": "v",
         "showlegend": true,
         "type": "histogram",
         "x": [
          "calcification",
          "calcification",
          "calcification",
          "calcification",
          "calcification",
          "calcification",
          "calcification",
          "calcification",
          "calcification",
          "calcification",
          "calcification",
          "calcification",
          "calcification",
          "calcification",
          "calcification",
          "calcification",
          "calcification",
          "calcification",
          "calcification",
          "calcification",
          "calcification",
          "calcification",
          "calcification",
          "calcification",
          "calcification",
          "calcification",
          "calcification",
          "calcification",
          "calcification",
          "calcification",
          "calcification",
          "both",
          "both",
          "both",
          "both",
          "both",
          "both",
          "both",
          "both",
          "both",
          "both",
          "both",
          "both",
          "both",
          "both",
          "both",
          "both",
          "both",
          "both",
          "both",
          "both",
          "both",
          "both",
          "both",
          "both",
          "both",
          "both",
          "both",
          "both",
          "both",
          "both",
          "both",
          "both",
          "both",
          "both",
          "both",
          "both",
          "both",
          "both",
          "both",
          "both",
          "both",
          "both",
          "both",
          "both",
          "both",
          "both",
          "both",
          "both",
          "both",
          "both",
          "both",
          "both",
          "both",
          "both",
          "both",
          "both",
          "both",
          "both",
          "both",
          "both",
          "both",
          "both",
          "mass",
          "mass",
          "mass",
          "mass",
          "mass",
          "mass",
          "mass",
          "mass",
          "mass",
          "mass",
          "mass",
          "mass",
          "mass",
          "mass",
          "mass",
          "mass",
          "mass",
          "mass",
          "mass",
          "mass",
          "mass",
          "mass",
          "mass",
          "mass",
          "mass",
          "mass",
          "mass",
          "mass",
          "mass",
          "mass",
          "mass",
          "mass",
          "mass",
          "mass",
          "mass",
          "mass",
          "mass",
          "mass",
          "mass",
          "mass",
          "mass",
          "mass"
         ],
         "xaxis": "x",
         "yaxis": "y"
        },
        {
         "bingroup": "x",
         "hovertemplate": "subtype=Luminal A<br>abnormality=%{x}<br>count=%{y}<extra></extra>",
         "legendgroup": "Luminal A",
         "marker": {
          "color": "#00cc96",
          "pattern": {
           "shape": ""
          }
         },
         "name": "Luminal A",
         "orientation": "v",
         "showlegend": true,
         "type": "histogram",
         "x": [
          "calcification",
          "calcification",
          "calcification",
          "calcification",
          "calcification",
          "calcification",
          "calcification",
          "calcification",
          "calcification",
          "calcification",
          "calcification",
          "calcification",
          "calcification",
          "calcification",
          "calcification",
          "calcification",
          "calcification",
          "calcification",
          "both",
          "both",
          "both",
          "both",
          "both",
          "both",
          "both",
          "both",
          "both",
          "both",
          "both",
          "both",
          "both",
          "both",
          "both",
          "both",
          "both",
          "both",
          "both",
          "both",
          "both",
          "both",
          "both",
          "both",
          "both",
          "both",
          "both",
          "both",
          "both",
          "both",
          "both",
          "both",
          "both",
          "both",
          "both",
          "both",
          "both",
          "both",
          "mass",
          "mass",
          "mass",
          "mass",
          "mass",
          "mass",
          "mass",
          "mass",
          "mass",
          "mass",
          "mass",
          "mass",
          "mass",
          "mass",
          "mass",
          "mass",
          "mass",
          "mass",
          "mass",
          "mass",
          "mass",
          "mass",
          "mass",
          "mass",
          "mass",
          "mass",
          "mass",
          "mass",
          "mass",
          "mass",
          "mass",
          "mass",
          "mass",
          "mass",
          "mass",
          "mass",
          "mass",
          "mass",
          "mass",
          "mass",
          "mass",
          "mass",
          "mass",
          "mass",
          "mass",
          "mass",
          "mass",
          "mass",
          "mass",
          "mass",
          "mass",
          "mass",
          "mass",
          "mass",
          "mass",
          "mass",
          "mass",
          "mass",
          "mass",
          "mass",
          "mass",
          "mass",
          "mass",
          "mass",
          "mass",
          "mass",
          "mass",
          "mass",
          "mass",
          "mass",
          "mass",
          "mass",
          "mass",
          "mass",
          "mass",
          "mass",
          "mass",
          "mass",
          "mass",
          "mass",
          "mass",
          "mass",
          "mass",
          "mass",
          "mass",
          "mass",
          "mass",
          "mass",
          "mass",
          "mass",
          "mass",
          "mass",
          "mass",
          "mass",
          "mass",
          "mass"
         ],
         "xaxis": "x",
         "yaxis": "y"
        },
        {
         "bingroup": "x",
         "hovertemplate": "subtype=triple negative<br>abnormality=%{x}<br>count=%{y}<extra></extra>",
         "legendgroup": "triple negative",
         "marker": {
          "color": "#ab63fa",
          "pattern": {
           "shape": ""
          }
         },
         "name": "triple negative",
         "orientation": "v",
         "showlegend": true,
         "type": "histogram",
         "x": [
          "calcification",
          "calcification",
          "calcification",
          "calcification",
          "calcification",
          "calcification",
          "calcification",
          "both",
          "both",
          "both",
          "both",
          "both",
          "both",
          "both",
          "both",
          "both",
          "both",
          "both",
          "both",
          "both",
          "both",
          "mass",
          "mass",
          "mass",
          "mass",
          "mass",
          "mass",
          "mass",
          "mass",
          "mass",
          "mass",
          "mass",
          "mass",
          "mass",
          "mass",
          "mass",
          "mass",
          "mass",
          "mass",
          "mass",
          "mass",
          "mass",
          "mass",
          "mass",
          "mass",
          "mass",
          "mass",
          "mass",
          "mass",
          "mass",
          "mass",
          "mass",
          "mass",
          "mass",
          "mass",
          "mass",
          "mass",
          "mass",
          "mass",
          "mass",
          "mass",
          "mass",
          "mass",
          "mass",
          "mass",
          "mass",
          "mass",
          "mass",
          "mass",
          "mass",
          "mass",
          "mass",
          "mass",
          "mass",
          "mass",
          "mass",
          "mass",
          "mass",
          "mass",
          "mass",
          "mass",
          "mass",
          "mass",
          "mass",
          "mass",
          "mass"
         ],
         "xaxis": "x",
         "yaxis": "y"
        }
       ],
       "layout": {
        "barmode": "relative",
        "legend": {
         "title": {
          "text": "subtype"
         },
         "tracegroupgap": 0
        },
        "template": {
         "data": {
          "bar": [
           {
            "error_x": {
             "color": "#2a3f5f"
            },
            "error_y": {
             "color": "#2a3f5f"
            },
            "marker": {
             "line": {
              "color": "#E5ECF6",
              "width": 0.5
             },
             "pattern": {
              "fillmode": "overlay",
              "size": 10,
              "solidity": 0.2
             }
            },
            "type": "bar"
           }
          ],
          "barpolar": [
           {
            "marker": {
             "line": {
              "color": "#E5ECF6",
              "width": 0.5
             },
             "pattern": {
              "fillmode": "overlay",
              "size": 10,
              "solidity": 0.2
             }
            },
            "type": "barpolar"
           }
          ],
          "carpet": [
           {
            "aaxis": {
             "endlinecolor": "#2a3f5f",
             "gridcolor": "white",
             "linecolor": "white",
             "minorgridcolor": "white",
             "startlinecolor": "#2a3f5f"
            },
            "baxis": {
             "endlinecolor": "#2a3f5f",
             "gridcolor": "white",
             "linecolor": "white",
             "minorgridcolor": "white",
             "startlinecolor": "#2a3f5f"
            },
            "type": "carpet"
           }
          ],
          "choropleth": [
           {
            "colorbar": {
             "outlinewidth": 0,
             "ticks": ""
            },
            "type": "choropleth"
           }
          ],
          "contour": [
           {
            "colorbar": {
             "outlinewidth": 0,
             "ticks": ""
            },
            "colorscale": [
             [
              0,
              "#0d0887"
             ],
             [
              0.1111111111111111,
              "#46039f"
             ],
             [
              0.2222222222222222,
              "#7201a8"
             ],
             [
              0.3333333333333333,
              "#9c179e"
             ],
             [
              0.4444444444444444,
              "#bd3786"
             ],
             [
              0.5555555555555556,
              "#d8576b"
             ],
             [
              0.6666666666666666,
              "#ed7953"
             ],
             [
              0.7777777777777778,
              "#fb9f3a"
             ],
             [
              0.8888888888888888,
              "#fdca26"
             ],
             [
              1,
              "#f0f921"
             ]
            ],
            "type": "contour"
           }
          ],
          "contourcarpet": [
           {
            "colorbar": {
             "outlinewidth": 0,
             "ticks": ""
            },
            "type": "contourcarpet"
           }
          ],
          "heatmap": [
           {
            "colorbar": {
             "outlinewidth": 0,
             "ticks": ""
            },
            "colorscale": [
             [
              0,
              "#0d0887"
             ],
             [
              0.1111111111111111,
              "#46039f"
             ],
             [
              0.2222222222222222,
              "#7201a8"
             ],
             [
              0.3333333333333333,
              "#9c179e"
             ],
             [
              0.4444444444444444,
              "#bd3786"
             ],
             [
              0.5555555555555556,
              "#d8576b"
             ],
             [
              0.6666666666666666,
              "#ed7953"
             ],
             [
              0.7777777777777778,
              "#fb9f3a"
             ],
             [
              0.8888888888888888,
              "#fdca26"
             ],
             [
              1,
              "#f0f921"
             ]
            ],
            "type": "heatmap"
           }
          ],
          "histogram": [
           {
            "marker": {
             "pattern": {
              "fillmode": "overlay",
              "size": 10,
              "solidity": 0.2
             }
            },
            "type": "histogram"
           }
          ],
          "histogram2d": [
           {
            "colorbar": {
             "outlinewidth": 0,
             "ticks": ""
            },
            "colorscale": [
             [
              0,
              "#0d0887"
             ],
             [
              0.1111111111111111,
              "#46039f"
             ],
             [
              0.2222222222222222,
              "#7201a8"
             ],
             [
              0.3333333333333333,
              "#9c179e"
             ],
             [
              0.4444444444444444,
              "#bd3786"
             ],
             [
              0.5555555555555556,
              "#d8576b"
             ],
             [
              0.6666666666666666,
              "#ed7953"
             ],
             [
              0.7777777777777778,
              "#fb9f3a"
             ],
             [
              0.8888888888888888,
              "#fdca26"
             ],
             [
              1,
              "#f0f921"
             ]
            ],
            "type": "histogram2d"
           }
          ],
          "histogram2dcontour": [
           {
            "colorbar": {
             "outlinewidth": 0,
             "ticks": ""
            },
            "colorscale": [
             [
              0,
              "#0d0887"
             ],
             [
              0.1111111111111111,
              "#46039f"
             ],
             [
              0.2222222222222222,
              "#7201a8"
             ],
             [
              0.3333333333333333,
              "#9c179e"
             ],
             [
              0.4444444444444444,
              "#bd3786"
             ],
             [
              0.5555555555555556,
              "#d8576b"
             ],
             [
              0.6666666666666666,
              "#ed7953"
             ],
             [
              0.7777777777777778,
              "#fb9f3a"
             ],
             [
              0.8888888888888888,
              "#fdca26"
             ],
             [
              1,
              "#f0f921"
             ]
            ],
            "type": "histogram2dcontour"
           }
          ],
          "mesh3d": [
           {
            "colorbar": {
             "outlinewidth": 0,
             "ticks": ""
            },
            "type": "mesh3d"
           }
          ],
          "parcoords": [
           {
            "line": {
             "colorbar": {
              "outlinewidth": 0,
              "ticks": ""
             }
            },
            "type": "parcoords"
           }
          ],
          "pie": [
           {
            "automargin": true,
            "type": "pie"
           }
          ],
          "scatter": [
           {
            "fillpattern": {
             "fillmode": "overlay",
             "size": 10,
             "solidity": 0.2
            },
            "type": "scatter"
           }
          ],
          "scatter3d": [
           {
            "line": {
             "colorbar": {
              "outlinewidth": 0,
              "ticks": ""
             }
            },
            "marker": {
             "colorbar": {
              "outlinewidth": 0,
              "ticks": ""
             }
            },
            "type": "scatter3d"
           }
          ],
          "scattercarpet": [
           {
            "marker": {
             "colorbar": {
              "outlinewidth": 0,
              "ticks": ""
             }
            },
            "type": "scattercarpet"
           }
          ],
          "scattergeo": [
           {
            "marker": {
             "colorbar": {
              "outlinewidth": 0,
              "ticks": ""
             }
            },
            "type": "scattergeo"
           }
          ],
          "scattergl": [
           {
            "marker": {
             "colorbar": {
              "outlinewidth": 0,
              "ticks": ""
             }
            },
            "type": "scattergl"
           }
          ],
          "scattermap": [
           {
            "marker": {
             "colorbar": {
              "outlinewidth": 0,
              "ticks": ""
             }
            },
            "type": "scattermap"
           }
          ],
          "scattermapbox": [
           {
            "marker": {
             "colorbar": {
              "outlinewidth": 0,
              "ticks": ""
             }
            },
            "type": "scattermapbox"
           }
          ],
          "scatterpolar": [
           {
            "marker": {
             "colorbar": {
              "outlinewidth": 0,
              "ticks": ""
             }
            },
            "type": "scatterpolar"
           }
          ],
          "scatterpolargl": [
           {
            "marker": {
             "colorbar": {
              "outlinewidth": 0,
              "ticks": ""
             }
            },
            "type": "scatterpolargl"
           }
          ],
          "scatterternary": [
           {
            "marker": {
             "colorbar": {
              "outlinewidth": 0,
              "ticks": ""
             }
            },
            "type": "scatterternary"
           }
          ],
          "surface": [
           {
            "colorbar": {
             "outlinewidth": 0,
             "ticks": ""
            },
            "colorscale": [
             [
              0,
              "#0d0887"
             ],
             [
              0.1111111111111111,
              "#46039f"
             ],
             [
              0.2222222222222222,
              "#7201a8"
             ],
             [
              0.3333333333333333,
              "#9c179e"
             ],
             [
              0.4444444444444444,
              "#bd3786"
             ],
             [
              0.5555555555555556,
              "#d8576b"
             ],
             [
              0.6666666666666666,
              "#ed7953"
             ],
             [
              0.7777777777777778,
              "#fb9f3a"
             ],
             [
              0.8888888888888888,
              "#fdca26"
             ],
             [
              1,
              "#f0f921"
             ]
            ],
            "type": "surface"
           }
          ],
          "table": [
           {
            "cells": {
             "fill": {
              "color": "#EBF0F8"
             },
             "line": {
              "color": "white"
             }
            },
            "header": {
             "fill": {
              "color": "#C8D4E3"
             },
             "line": {
              "color": "white"
             }
            },
            "type": "table"
           }
          ]
         },
         "layout": {
          "annotationdefaults": {
           "arrowcolor": "#2a3f5f",
           "arrowhead": 0,
           "arrowwidth": 1
          },
          "autotypenumbers": "strict",
          "coloraxis": {
           "colorbar": {
            "outlinewidth": 0,
            "ticks": ""
           }
          },
          "colorscale": {
           "diverging": [
            [
             0,
             "#8e0152"
            ],
            [
             0.1,
             "#c51b7d"
            ],
            [
             0.2,
             "#de77ae"
            ],
            [
             0.3,
             "#f1b6da"
            ],
            [
             0.4,
             "#fde0ef"
            ],
            [
             0.5,
             "#f7f7f7"
            ],
            [
             0.6,
             "#e6f5d0"
            ],
            [
             0.7,
             "#b8e186"
            ],
            [
             0.8,
             "#7fbc41"
            ],
            [
             0.9,
             "#4d9221"
            ],
            [
             1,
             "#276419"
            ]
           ],
           "sequential": [
            [
             0,
             "#0d0887"
            ],
            [
             0.1111111111111111,
             "#46039f"
            ],
            [
             0.2222222222222222,
             "#7201a8"
            ],
            [
             0.3333333333333333,
             "#9c179e"
            ],
            [
             0.4444444444444444,
             "#bd3786"
            ],
            [
             0.5555555555555556,
             "#d8576b"
            ],
            [
             0.6666666666666666,
             "#ed7953"
            ],
            [
             0.7777777777777778,
             "#fb9f3a"
            ],
            [
             0.8888888888888888,
             "#fdca26"
            ],
            [
             1,
             "#f0f921"
            ]
           ],
           "sequentialminus": [
            [
             0,
             "#0d0887"
            ],
            [
             0.1111111111111111,
             "#46039f"
            ],
            [
             0.2222222222222222,
             "#7201a8"
            ],
            [
             0.3333333333333333,
             "#9c179e"
            ],
            [
             0.4444444444444444,
             "#bd3786"
            ],
            [
             0.5555555555555556,
             "#d8576b"
            ],
            [
             0.6666666666666666,
             "#ed7953"
            ],
            [
             0.7777777777777778,
             "#fb9f3a"
            ],
            [
             0.8888888888888888,
             "#fdca26"
            ],
            [
             1,
             "#f0f921"
            ]
           ]
          },
          "colorway": [
           "#636efa",
           "#EF553B",
           "#00cc96",
           "#ab63fa",
           "#FFA15A",
           "#19d3f3",
           "#FF6692",
           "#B6E880",
           "#FF97FF",
           "#FECB52"
          ],
          "font": {
           "color": "#2a3f5f"
          },
          "geo": {
           "bgcolor": "white",
           "lakecolor": "white",
           "landcolor": "#E5ECF6",
           "showlakes": true,
           "showland": true,
           "subunitcolor": "white"
          },
          "hoverlabel": {
           "align": "left"
          },
          "hovermode": "closest",
          "mapbox": {
           "style": "light"
          },
          "paper_bgcolor": "white",
          "plot_bgcolor": "#E5ECF6",
          "polar": {
           "angularaxis": {
            "gridcolor": "white",
            "linecolor": "white",
            "ticks": ""
           },
           "bgcolor": "#E5ECF6",
           "radialaxis": {
            "gridcolor": "white",
            "linecolor": "white",
            "ticks": ""
           }
          },
          "scene": {
           "xaxis": {
            "backgroundcolor": "#E5ECF6",
            "gridcolor": "white",
            "gridwidth": 2,
            "linecolor": "white",
            "showbackground": true,
            "ticks": "",
            "zerolinecolor": "white"
           },
           "yaxis": {
            "backgroundcolor": "#E5ECF6",
            "gridcolor": "white",
            "gridwidth": 2,
            "linecolor": "white",
            "showbackground": true,
            "ticks": "",
            "zerolinecolor": "white"
           },
           "zaxis": {
            "backgroundcolor": "#E5ECF6",
            "gridcolor": "white",
            "gridwidth": 2,
            "linecolor": "white",
            "showbackground": true,
            "ticks": "",
            "zerolinecolor": "white"
           }
          },
          "shapedefaults": {
           "line": {
            "color": "#2a3f5f"
           }
          },
          "ternary": {
           "aaxis": {
            "gridcolor": "white",
            "linecolor": "white",
            "ticks": ""
           },
           "baxis": {
            "gridcolor": "white",
            "linecolor": "white",
            "ticks": ""
           },
           "bgcolor": "#E5ECF6",
           "caxis": {
            "gridcolor": "white",
            "linecolor": "white",
            "ticks": ""
           }
          },
          "title": {
           "x": 0.05
          },
          "xaxis": {
           "automargin": true,
           "gridcolor": "white",
           "linecolor": "white",
           "ticks": "",
           "title": {
            "standoff": 15
           },
           "zerolinecolor": "white",
           "zerolinewidth": 2
          },
          "yaxis": {
           "automargin": true,
           "gridcolor": "white",
           "linecolor": "white",
           "ticks": "",
           "title": {
            "standoff": 15
           },
           "zerolinecolor": "white",
           "zerolinewidth": 2
          }
         }
        },
        "title": {
         "text": "Abnormality distribution"
        },
        "xaxis": {
         "anchor": "y",
         "domain": [
          0,
          1
         ],
         "title": {
          "text": "abnormality"
         }
        },
        "yaxis": {
         "anchor": "x",
         "domain": [
          0,
          1
         ],
         "title": {
          "text": "count"
         }
        }
       }
      }
     },
     "metadata": {},
     "output_type": "display_data"
    }
   ],
   "source": [
    "px.histogram(clinical_data_df_filtered, x='abnormality',\n",
    "             title='Abnormality distribution', color='subtype')"
   ]
  },
  {
   "cell_type": "markdown",
   "metadata": {},
   "source": [
    "### 2.1.5 Subtype"
   ]
  },
  {
   "cell_type": "code",
   "execution_count": null,
   "metadata": {},
   "outputs": [
    {
     "data": {
      "application/vnd.plotly.v1+json": {
       "config": {
        "plotlyServerURL": "https://plot.ly"
       },
       "data": [
        {
         "bingroup": "x",
         "hovertemplate": "subtype=%{x}<br>count=%{y}<extra></extra>",
         "legendgroup": "",
         "marker": {
          "color": "#636efa",
          "pattern": {
           "shape": ""
          }
         },
         "name": "",
         "orientation": "v",
         "showlegend": false,
         "type": "histogram",
         "x": [
          "Luminal B",
          "Luminal B",
          "Luminal B",
          "Luminal B",
          "HER2-enriched",
          "Luminal B",
          "Luminal A",
          "Luminal B",
          "Luminal A",
          "Luminal A",
          "Luminal A",
          "HER2-enriched",
          "triple negative",
          "Luminal B",
          "Luminal B",
          "Luminal A",
          "HER2-enriched",
          "Luminal A",
          "Luminal B",
          "HER2-enriched",
          "Luminal A",
          "HER2-enriched",
          "triple negative",
          "HER2-enriched",
          "HER2-enriched",
          "Luminal B",
          "Luminal A",
          "Luminal B",
          "Luminal B",
          "HER2-enriched",
          "Luminal A",
          "Luminal B",
          "HER2-enriched",
          "Luminal B",
          "HER2-enriched",
          "HER2-enriched",
          "HER2-enriched",
          "HER2-enriched",
          "Luminal B",
          "Luminal A",
          "triple negative",
          "Luminal A",
          "Luminal A",
          "Luminal A",
          "Luminal B",
          "HER2-enriched",
          "triple negative",
          "HER2-enriched",
          "Luminal B",
          "HER2-enriched",
          "Luminal A",
          "Luminal B",
          "Luminal A",
          "HER2-enriched",
          "Luminal B",
          "Luminal B",
          "Luminal B",
          "Luminal B",
          "Luminal A",
          "Luminal A",
          "HER2-enriched",
          "Luminal B",
          "Luminal B",
          "Luminal B",
          "HER2-enriched",
          "Luminal B",
          "HER2-enriched",
          "triple negative",
          "HER2-enriched",
          "HER2-enriched",
          "Luminal B",
          "triple negative",
          "HER2-enriched",
          "Luminal B",
          "Luminal B",
          "Luminal B",
          "Luminal B",
          "Luminal B",
          "HER2-enriched",
          "Luminal B",
          "HER2-enriched",
          "Luminal B",
          "HER2-enriched",
          "HER2-enriched",
          "HER2-enriched",
          "HER2-enriched",
          "Luminal B",
          "Luminal B",
          "Luminal B",
          "HER2-enriched",
          "HER2-enriched",
          "Luminal B",
          "Luminal A",
          "Luminal B",
          "Luminal B",
          "Luminal B",
          "triple negative",
          "Luminal B",
          "Luminal A",
          "Luminal B",
          "Luminal B",
          "Luminal A",
          "Luminal B",
          "HER2-enriched",
          "Luminal B",
          "Luminal B",
          "Luminal B",
          "Luminal A",
          "Luminal B",
          "HER2-enriched",
          "HER2-enriched",
          "Luminal B",
          "Luminal B",
          "Luminal B",
          "Luminal A",
          "Luminal B",
          "Luminal B",
          "Luminal B",
          "Luminal B",
          "HER2-enriched",
          "Luminal B",
          "Luminal B",
          "Luminal B",
          "Luminal B",
          "HER2-enriched",
          "triple negative",
          "HER2-enriched",
          "Luminal A",
          "HER2-enriched",
          "Luminal A",
          "Luminal B",
          "Luminal A",
          "Luminal B",
          "Luminal A",
          "Luminal B",
          "Luminal B",
          "Luminal B",
          "HER2-enriched",
          "HER2-enriched",
          "Luminal B",
          "HER2-enriched",
          "Luminal B",
          "Luminal A",
          "Luminal B",
          "HER2-enriched",
          "Luminal A",
          "Luminal B",
          "triple negative",
          "HER2-enriched",
          "Luminal A",
          "HER2-enriched",
          "Luminal A",
          "triple negative",
          "Luminal A",
          "Luminal A",
          "Luminal B",
          "HER2-enriched",
          "Luminal B",
          "Luminal B",
          "Luminal B",
          "Luminal A",
          "Luminal B",
          "HER2-enriched",
          "triple negative",
          "Luminal B",
          "Luminal B",
          "HER2-enriched",
          "Luminal A",
          "HER2-enriched",
          "Luminal B",
          "Luminal B",
          "HER2-enriched",
          "Luminal B",
          "Luminal B",
          "Luminal B",
          "Luminal B",
          "Luminal B",
          "HER2-enriched",
          "Luminal B",
          "Luminal B",
          "Luminal A",
          "Luminal B",
          "Luminal B",
          "triple negative",
          "Luminal B",
          "HER2-enriched",
          "Luminal A",
          "Luminal A",
          "Luminal B",
          "Luminal B",
          "Luminal B",
          "HER2-enriched",
          "Luminal B",
          "HER2-enriched",
          "Luminal B",
          "Luminal B",
          "HER2-enriched",
          "HER2-enriched",
          "HER2-enriched",
          "HER2-enriched",
          "HER2-enriched",
          "Luminal B",
          "Luminal B",
          "Luminal B",
          "HER2-enriched",
          "triple negative",
          "Luminal B",
          "HER2-enriched",
          "HER2-enriched",
          "Luminal B",
          "Luminal B",
          "Luminal A",
          "Luminal A",
          "triple negative",
          "Luminal B",
          "triple negative",
          "HER2-enriched",
          "triple negative",
          "Luminal B",
          "Luminal B",
          "Luminal B",
          "triple negative",
          "Luminal B",
          "Luminal B",
          "Luminal A",
          "Luminal B",
          "Luminal B",
          "Luminal B",
          "Luminal B",
          "HER2-enriched",
          "Luminal B",
          "Luminal B",
          "HER2-enriched",
          "triple negative",
          "Luminal B",
          "HER2-enriched",
          "Luminal B",
          "Luminal B",
          "Luminal B",
          "Luminal B",
          "Luminal B",
          "Luminal A",
          "HER2-enriched",
          "Luminal B",
          "HER2-enriched",
          "Luminal B",
          "Luminal A",
          "HER2-enriched",
          "HER2-enriched",
          "triple negative",
          "HER2-enriched",
          "HER2-enriched",
          "Luminal B",
          "Luminal B",
          "Luminal A",
          "Luminal A",
          "Luminal B",
          "Luminal B",
          "Luminal B",
          "HER2-enriched",
          "Luminal B",
          "Luminal B",
          "HER2-enriched",
          "triple negative",
          "Luminal B",
          "HER2-enriched",
          "Luminal B",
          "HER2-enriched",
          "HER2-enriched",
          "Luminal A",
          "HER2-enriched",
          "HER2-enriched",
          "Luminal B",
          "Luminal B",
          "Luminal B",
          "HER2-enriched",
          "Luminal B",
          "Luminal B",
          "Luminal B",
          "Luminal B",
          "Luminal A",
          "Luminal B",
          "Luminal B",
          "Luminal A",
          "Luminal B",
          "Luminal A",
          "HER2-enriched",
          "Luminal B",
          "HER2-enriched",
          "Luminal B",
          "triple negative",
          "HER2-enriched",
          "HER2-enriched",
          "HER2-enriched",
          "Luminal B",
          "Luminal B",
          "Luminal B",
          "Luminal B",
          "Luminal A",
          "Luminal B",
          "Luminal A",
          "Luminal B",
          "Luminal B",
          "Luminal A",
          "HER2-enriched",
          "Luminal B",
          "Luminal B",
          "HER2-enriched",
          "Luminal B",
          "Luminal B",
          "HER2-enriched",
          "HER2-enriched",
          "Luminal B",
          "Luminal A",
          "Luminal A",
          "Luminal B",
          "HER2-enriched",
          "Luminal B",
          "Luminal B",
          "Luminal B",
          "Luminal B",
          "Luminal B",
          "HER2-enriched",
          "Luminal B",
          "Luminal B",
          "Luminal B",
          "Luminal A",
          "HER2-enriched",
          "HER2-enriched",
          "Luminal A",
          "Luminal A",
          "HER2-enriched",
          "Luminal B",
          "Luminal B",
          "Luminal B",
          "Luminal B",
          "Luminal A",
          "Luminal A",
          "Luminal A",
          "Luminal B",
          "Luminal B",
          "HER2-enriched",
          "Luminal B",
          "triple negative",
          "Luminal B",
          "Luminal B",
          "triple negative",
          "Luminal B",
          "HER2-enriched",
          "HER2-enriched",
          "Luminal A",
          "Luminal B",
          "Luminal B",
          "Luminal A",
          "triple negative",
          "triple negative",
          "Luminal B",
          "Luminal B",
          "triple negative",
          "Luminal B",
          "Luminal B",
          "Luminal B",
          "Luminal B",
          "Luminal B",
          "Luminal B",
          "Luminal B",
          "HER2-enriched",
          "Luminal B",
          "Luminal B",
          "Luminal A",
          "Luminal B",
          "triple negative",
          "Luminal B",
          "Luminal B",
          "triple negative",
          "triple negative",
          "Luminal A",
          "Luminal B",
          "Luminal B",
          "Luminal B",
          "Luminal A",
          "Luminal A",
          "Luminal B",
          "Luminal B",
          "Luminal A",
          "Luminal B",
          "triple negative",
          "Luminal B",
          "Luminal B",
          "Luminal A",
          "Luminal B",
          "Luminal B",
          "Luminal A",
          "HER2-enriched",
          "Luminal A",
          "Luminal A",
          "Luminal B",
          "HER2-enriched",
          "Luminal B",
          "Luminal B",
          "Luminal A",
          "Luminal A",
          "Luminal B",
          "Luminal B",
          "Luminal B",
          "Luminal A",
          "Luminal B",
          "Luminal B",
          "Luminal B",
          "Luminal B",
          "Luminal A",
          "Luminal B",
          "Luminal A",
          "Luminal B",
          "triple negative",
          "Luminal B",
          "Luminal B",
          "Luminal B",
          "HER2-enriched",
          "Luminal A",
          "Luminal B",
          "Luminal B",
          "Luminal B",
          "triple negative",
          "HER2-enriched",
          "Luminal B",
          "Luminal A",
          "Luminal B",
          "HER2-enriched",
          "Luminal A",
          "Luminal B",
          "triple negative",
          "Luminal A",
          "Luminal A",
          "triple negative",
          "triple negative",
          "Luminal A",
          "HER2-enriched",
          "Luminal A",
          "Luminal A",
          "Luminal A",
          "Luminal A",
          "Luminal B",
          "Luminal B",
          "Luminal B",
          "triple negative",
          "Luminal B",
          "triple negative",
          "Luminal B",
          "Luminal B",
          "HER2-enriched",
          "Luminal A",
          "Luminal B",
          "Luminal B",
          "triple negative",
          "Luminal B",
          "Luminal B",
          "Luminal A",
          "triple negative",
          "triple negative",
          "triple negative",
          "Luminal B",
          "Luminal A",
          "Luminal A",
          "triple negative",
          "Luminal A",
          "HER2-enriched",
          "Luminal B",
          "Luminal B",
          "Luminal B",
          "Luminal A",
          "Luminal B",
          "Luminal A",
          "Luminal A",
          "Luminal B",
          "HER2-enriched",
          "triple negative",
          "Luminal B",
          "Luminal A",
          "triple negative",
          "Luminal B",
          "HER2-enriched",
          "Luminal A",
          "Luminal B",
          "HER2-enriched",
          "HER2-enriched",
          "Luminal B",
          "Luminal B",
          "Luminal B",
          "Luminal B",
          "Luminal A",
          "triple negative",
          "triple negative",
          "Luminal B",
          "Luminal B",
          "Luminal A",
          "triple negative",
          "Luminal B",
          "Luminal A",
          "Luminal B",
          "Luminal B",
          "Luminal A",
          "Luminal B",
          "Luminal A",
          "Luminal B",
          "Luminal B",
          "Luminal B",
          "Luminal A",
          "Luminal B",
          "Luminal B",
          "Luminal B",
          "Luminal B",
          "triple negative",
          "Luminal B",
          "Luminal B",
          "Luminal A",
          "Luminal B",
          "Luminal A",
          "Luminal B",
          "triple negative",
          "HER2-enriched",
          "Luminal A",
          "Luminal B",
          "Luminal B",
          "triple negative",
          "Luminal B",
          "Luminal B",
          "triple negative",
          "Luminal B",
          "Luminal B",
          "triple negative",
          "HER2-enriched",
          "Luminal B",
          "Luminal A",
          "Luminal A",
          "HER2-enriched",
          "Luminal A",
          "triple negative",
          "HER2-enriched",
          "Luminal B",
          "Luminal A",
          "Luminal B",
          "HER2-enriched",
          "Luminal B",
          "Luminal B",
          "Luminal A",
          "Luminal B",
          "Luminal A",
          "triple negative",
          "Luminal B",
          "Luminal A",
          "Luminal A",
          "HER2-enriched",
          "triple negative",
          "Luminal B",
          "Luminal B",
          "Luminal B",
          "Luminal B",
          "Luminal B",
          "Luminal B",
          "Luminal B",
          "Luminal B",
          "Luminal B",
          "Luminal B",
          "Luminal A",
          "Luminal B",
          "Luminal A",
          "Luminal B",
          "Luminal B",
          "triple negative",
          "triple negative",
          "Luminal B",
          "Luminal B",
          "Luminal B",
          "Luminal A",
          "Luminal B",
          "Luminal B",
          "triple negative",
          "triple negative",
          "Luminal B",
          "triple negative",
          "Luminal B",
          "Luminal B",
          "HER2-enriched",
          "triple negative",
          "triple negative",
          "triple negative",
          "Luminal B",
          "Luminal B",
          "Luminal B",
          "Luminal A",
          "triple negative",
          "Luminal A",
          "Luminal B",
          "HER2-enriched",
          "HER2-enriched",
          "Luminal B",
          "HER2-enriched",
          "Luminal B",
          "triple negative",
          "Luminal B",
          "triple negative",
          "Luminal B",
          "Luminal B",
          "Luminal B",
          "Luminal A",
          "Luminal A",
          "triple negative",
          "Luminal A",
          "Luminal B",
          "Luminal B",
          "Luminal A",
          "HER2-enriched",
          "HER2-enriched",
          "HER2-enriched",
          "Luminal A",
          "Luminal B",
          "Luminal B",
          "triple negative",
          "HER2-enriched",
          "Luminal B",
          "triple negative",
          "Luminal A",
          "Luminal A",
          "triple negative",
          "Luminal B",
          "triple negative",
          "Luminal B",
          "HER2-enriched",
          "Luminal A",
          "Luminal B",
          "Luminal A",
          "Luminal B",
          "Luminal B",
          "HER2-enriched",
          "Luminal B",
          "Luminal A",
          "HER2-enriched",
          "Luminal B",
          "triple negative",
          "Luminal A",
          "triple negative",
          "triple negative",
          "Luminal A",
          "Luminal A",
          "triple negative",
          "triple negative",
          "Luminal A",
          "Luminal B",
          "Luminal B",
          "Luminal A",
          "triple negative",
          "Luminal B",
          "triple negative",
          "Luminal B",
          "Luminal B",
          "Luminal B",
          "Luminal A",
          "Luminal B",
          "Luminal A",
          "Luminal B",
          "HER2-enriched",
          "Luminal B",
          "Luminal B",
          "Luminal B",
          "Luminal B",
          "Luminal B",
          "Luminal A",
          "Luminal B",
          "Luminal A",
          "Luminal B",
          "Luminal B",
          "Luminal B",
          "Luminal A",
          "Luminal B",
          "Luminal B",
          "Luminal A",
          "Luminal B",
          "Luminal B",
          "Luminal B",
          "triple negative",
          "Luminal B",
          "Luminal A",
          "Luminal B",
          "Luminal B",
          "triple negative",
          "Luminal B",
          "Luminal B",
          "HER2-enriched",
          "Luminal B",
          "Luminal A",
          "Luminal B",
          "triple negative",
          "Luminal B",
          "Luminal B",
          "triple negative",
          "HER2-enriched",
          "Luminal B",
          "Luminal B",
          "Luminal B",
          "Luminal A",
          "Luminal A",
          "Luminal B",
          "Luminal A",
          "Luminal B",
          "Luminal B",
          "Luminal B",
          "Luminal B",
          "triple negative",
          "Luminal B",
          "Luminal B",
          "triple negative",
          "Luminal B",
          "Luminal B",
          "Luminal B",
          "HER2-enriched",
          "Luminal A",
          "Luminal A",
          "HER2-enriched",
          "Luminal A",
          "Luminal B",
          "Luminal B",
          "Luminal B",
          "triple negative",
          "Luminal A",
          "Luminal B",
          "Luminal A",
          "Luminal B",
          "Luminal A",
          "Luminal B",
          "Luminal A",
          "Luminal B",
          "HER2-enriched",
          "Luminal B",
          "Luminal B",
          "Luminal A",
          "Luminal B",
          "HER2-enriched",
          "Luminal B",
          "Luminal B",
          "HER2-enriched",
          "Luminal B",
          "Luminal B",
          "Luminal A",
          "triple negative",
          "HER2-enriched",
          "Luminal B",
          "Luminal B",
          "Luminal B"
         ],
         "xaxis": "x",
         "yaxis": "y"
        }
       ],
       "layout": {
        "barmode": "relative",
        "legend": {
         "tracegroupgap": 0
        },
        "template": {
         "data": {
          "bar": [
           {
            "error_x": {
             "color": "#2a3f5f"
            },
            "error_y": {
             "color": "#2a3f5f"
            },
            "marker": {
             "line": {
              "color": "#E5ECF6",
              "width": 0.5
             },
             "pattern": {
              "fillmode": "overlay",
              "size": 10,
              "solidity": 0.2
             }
            },
            "type": "bar"
           }
          ],
          "barpolar": [
           {
            "marker": {
             "line": {
              "color": "#E5ECF6",
              "width": 0.5
             },
             "pattern": {
              "fillmode": "overlay",
              "size": 10,
              "solidity": 0.2
             }
            },
            "type": "barpolar"
           }
          ],
          "carpet": [
           {
            "aaxis": {
             "endlinecolor": "#2a3f5f",
             "gridcolor": "white",
             "linecolor": "white",
             "minorgridcolor": "white",
             "startlinecolor": "#2a3f5f"
            },
            "baxis": {
             "endlinecolor": "#2a3f5f",
             "gridcolor": "white",
             "linecolor": "white",
             "minorgridcolor": "white",
             "startlinecolor": "#2a3f5f"
            },
            "type": "carpet"
           }
          ],
          "choropleth": [
           {
            "colorbar": {
             "outlinewidth": 0,
             "ticks": ""
            },
            "type": "choropleth"
           }
          ],
          "contour": [
           {
            "colorbar": {
             "outlinewidth": 0,
             "ticks": ""
            },
            "colorscale": [
             [
              0,
              "#0d0887"
             ],
             [
              0.1111111111111111,
              "#46039f"
             ],
             [
              0.2222222222222222,
              "#7201a8"
             ],
             [
              0.3333333333333333,
              "#9c179e"
             ],
             [
              0.4444444444444444,
              "#bd3786"
             ],
             [
              0.5555555555555556,
              "#d8576b"
             ],
             [
              0.6666666666666666,
              "#ed7953"
             ],
             [
              0.7777777777777778,
              "#fb9f3a"
             ],
             [
              0.8888888888888888,
              "#fdca26"
             ],
             [
              1,
              "#f0f921"
             ]
            ],
            "type": "contour"
           }
          ],
          "contourcarpet": [
           {
            "colorbar": {
             "outlinewidth": 0,
             "ticks": ""
            },
            "type": "contourcarpet"
           }
          ],
          "heatmap": [
           {
            "colorbar": {
             "outlinewidth": 0,
             "ticks": ""
            },
            "colorscale": [
             [
              0,
              "#0d0887"
             ],
             [
              0.1111111111111111,
              "#46039f"
             ],
             [
              0.2222222222222222,
              "#7201a8"
             ],
             [
              0.3333333333333333,
              "#9c179e"
             ],
             [
              0.4444444444444444,
              "#bd3786"
             ],
             [
              0.5555555555555556,
              "#d8576b"
             ],
             [
              0.6666666666666666,
              "#ed7953"
             ],
             [
              0.7777777777777778,
              "#fb9f3a"
             ],
             [
              0.8888888888888888,
              "#fdca26"
             ],
             [
              1,
              "#f0f921"
             ]
            ],
            "type": "heatmap"
           }
          ],
          "histogram": [
           {
            "marker": {
             "pattern": {
              "fillmode": "overlay",
              "size": 10,
              "solidity": 0.2
             }
            },
            "type": "histogram"
           }
          ],
          "histogram2d": [
           {
            "colorbar": {
             "outlinewidth": 0,
             "ticks": ""
            },
            "colorscale": [
             [
              0,
              "#0d0887"
             ],
             [
              0.1111111111111111,
              "#46039f"
             ],
             [
              0.2222222222222222,
              "#7201a8"
             ],
             [
              0.3333333333333333,
              "#9c179e"
             ],
             [
              0.4444444444444444,
              "#bd3786"
             ],
             [
              0.5555555555555556,
              "#d8576b"
             ],
             [
              0.6666666666666666,
              "#ed7953"
             ],
             [
              0.7777777777777778,
              "#fb9f3a"
             ],
             [
              0.8888888888888888,
              "#fdca26"
             ],
             [
              1,
              "#f0f921"
             ]
            ],
            "type": "histogram2d"
           }
          ],
          "histogram2dcontour": [
           {
            "colorbar": {
             "outlinewidth": 0,
             "ticks": ""
            },
            "colorscale": [
             [
              0,
              "#0d0887"
             ],
             [
              0.1111111111111111,
              "#46039f"
             ],
             [
              0.2222222222222222,
              "#7201a8"
             ],
             [
              0.3333333333333333,
              "#9c179e"
             ],
             [
              0.4444444444444444,
              "#bd3786"
             ],
             [
              0.5555555555555556,
              "#d8576b"
             ],
             [
              0.6666666666666666,
              "#ed7953"
             ],
             [
              0.7777777777777778,
              "#fb9f3a"
             ],
             [
              0.8888888888888888,
              "#fdca26"
             ],
             [
              1,
              "#f0f921"
             ]
            ],
            "type": "histogram2dcontour"
           }
          ],
          "mesh3d": [
           {
            "colorbar": {
             "outlinewidth": 0,
             "ticks": ""
            },
            "type": "mesh3d"
           }
          ],
          "parcoords": [
           {
            "line": {
             "colorbar": {
              "outlinewidth": 0,
              "ticks": ""
             }
            },
            "type": "parcoords"
           }
          ],
          "pie": [
           {
            "automargin": true,
            "type": "pie"
           }
          ],
          "scatter": [
           {
            "fillpattern": {
             "fillmode": "overlay",
             "size": 10,
             "solidity": 0.2
            },
            "type": "scatter"
           }
          ],
          "scatter3d": [
           {
            "line": {
             "colorbar": {
              "outlinewidth": 0,
              "ticks": ""
             }
            },
            "marker": {
             "colorbar": {
              "outlinewidth": 0,
              "ticks": ""
             }
            },
            "type": "scatter3d"
           }
          ],
          "scattercarpet": [
           {
            "marker": {
             "colorbar": {
              "outlinewidth": 0,
              "ticks": ""
             }
            },
            "type": "scattercarpet"
           }
          ],
          "scattergeo": [
           {
            "marker": {
             "colorbar": {
              "outlinewidth": 0,
              "ticks": ""
             }
            },
            "type": "scattergeo"
           }
          ],
          "scattergl": [
           {
            "marker": {
             "colorbar": {
              "outlinewidth": 0,
              "ticks": ""
             }
            },
            "type": "scattergl"
           }
          ],
          "scattermap": [
           {
            "marker": {
             "colorbar": {
              "outlinewidth": 0,
              "ticks": ""
             }
            },
            "type": "scattermap"
           }
          ],
          "scattermapbox": [
           {
            "marker": {
             "colorbar": {
              "outlinewidth": 0,
              "ticks": ""
             }
            },
            "type": "scattermapbox"
           }
          ],
          "scatterpolar": [
           {
            "marker": {
             "colorbar": {
              "outlinewidth": 0,
              "ticks": ""
             }
            },
            "type": "scatterpolar"
           }
          ],
          "scatterpolargl": [
           {
            "marker": {
             "colorbar": {
              "outlinewidth": 0,
              "ticks": ""
             }
            },
            "type": "scatterpolargl"
           }
          ],
          "scatterternary": [
           {
            "marker": {
             "colorbar": {
              "outlinewidth": 0,
              "ticks": ""
             }
            },
            "type": "scatterternary"
           }
          ],
          "surface": [
           {
            "colorbar": {
             "outlinewidth": 0,
             "ticks": ""
            },
            "colorscale": [
             [
              0,
              "#0d0887"
             ],
             [
              0.1111111111111111,
              "#46039f"
             ],
             [
              0.2222222222222222,
              "#7201a8"
             ],
             [
              0.3333333333333333,
              "#9c179e"
             ],
             [
              0.4444444444444444,
              "#bd3786"
             ],
             [
              0.5555555555555556,
              "#d8576b"
             ],
             [
              0.6666666666666666,
              "#ed7953"
             ],
             [
              0.7777777777777778,
              "#fb9f3a"
             ],
             [
              0.8888888888888888,
              "#fdca26"
             ],
             [
              1,
              "#f0f921"
             ]
            ],
            "type": "surface"
           }
          ],
          "table": [
           {
            "cells": {
             "fill": {
              "color": "#EBF0F8"
             },
             "line": {
              "color": "white"
             }
            },
            "header": {
             "fill": {
              "color": "#C8D4E3"
             },
             "line": {
              "color": "white"
             }
            },
            "type": "table"
           }
          ]
         },
         "layout": {
          "annotationdefaults": {
           "arrowcolor": "#2a3f5f",
           "arrowhead": 0,
           "arrowwidth": 1
          },
          "autotypenumbers": "strict",
          "coloraxis": {
           "colorbar": {
            "outlinewidth": 0,
            "ticks": ""
           }
          },
          "colorscale": {
           "diverging": [
            [
             0,
             "#8e0152"
            ],
            [
             0.1,
             "#c51b7d"
            ],
            [
             0.2,
             "#de77ae"
            ],
            [
             0.3,
             "#f1b6da"
            ],
            [
             0.4,
             "#fde0ef"
            ],
            [
             0.5,
             "#f7f7f7"
            ],
            [
             0.6,
             "#e6f5d0"
            ],
            [
             0.7,
             "#b8e186"
            ],
            [
             0.8,
             "#7fbc41"
            ],
            [
             0.9,
             "#4d9221"
            ],
            [
             1,
             "#276419"
            ]
           ],
           "sequential": [
            [
             0,
             "#0d0887"
            ],
            [
             0.1111111111111111,
             "#46039f"
            ],
            [
             0.2222222222222222,
             "#7201a8"
            ],
            [
             0.3333333333333333,
             "#9c179e"
            ],
            [
             0.4444444444444444,
             "#bd3786"
            ],
            [
             0.5555555555555556,
             "#d8576b"
            ],
            [
             0.6666666666666666,
             "#ed7953"
            ],
            [
             0.7777777777777778,
             "#fb9f3a"
            ],
            [
             0.8888888888888888,
             "#fdca26"
            ],
            [
             1,
             "#f0f921"
            ]
           ],
           "sequentialminus": [
            [
             0,
             "#0d0887"
            ],
            [
             0.1111111111111111,
             "#46039f"
            ],
            [
             0.2222222222222222,
             "#7201a8"
            ],
            [
             0.3333333333333333,
             "#9c179e"
            ],
            [
             0.4444444444444444,
             "#bd3786"
            ],
            [
             0.5555555555555556,
             "#d8576b"
            ],
            [
             0.6666666666666666,
             "#ed7953"
            ],
            [
             0.7777777777777778,
             "#fb9f3a"
            ],
            [
             0.8888888888888888,
             "#fdca26"
            ],
            [
             1,
             "#f0f921"
            ]
           ]
          },
          "colorway": [
           "#636efa",
           "#EF553B",
           "#00cc96",
           "#ab63fa",
           "#FFA15A",
           "#19d3f3",
           "#FF6692",
           "#B6E880",
           "#FF97FF",
           "#FECB52"
          ],
          "font": {
           "color": "#2a3f5f"
          },
          "geo": {
           "bgcolor": "white",
           "lakecolor": "white",
           "landcolor": "#E5ECF6",
           "showlakes": true,
           "showland": true,
           "subunitcolor": "white"
          },
          "hoverlabel": {
           "align": "left"
          },
          "hovermode": "closest",
          "mapbox": {
           "style": "light"
          },
          "paper_bgcolor": "white",
          "plot_bgcolor": "#E5ECF6",
          "polar": {
           "angularaxis": {
            "gridcolor": "white",
            "linecolor": "white",
            "ticks": ""
           },
           "bgcolor": "#E5ECF6",
           "radialaxis": {
            "gridcolor": "white",
            "linecolor": "white",
            "ticks": ""
           }
          },
          "scene": {
           "xaxis": {
            "backgroundcolor": "#E5ECF6",
            "gridcolor": "white",
            "gridwidth": 2,
            "linecolor": "white",
            "showbackground": true,
            "ticks": "",
            "zerolinecolor": "white"
           },
           "yaxis": {
            "backgroundcolor": "#E5ECF6",
            "gridcolor": "white",
            "gridwidth": 2,
            "linecolor": "white",
            "showbackground": true,
            "ticks": "",
            "zerolinecolor": "white"
           },
           "zaxis": {
            "backgroundcolor": "#E5ECF6",
            "gridcolor": "white",
            "gridwidth": 2,
            "linecolor": "white",
            "showbackground": true,
            "ticks": "",
            "zerolinecolor": "white"
           }
          },
          "shapedefaults": {
           "line": {
            "color": "#2a3f5f"
           }
          },
          "ternary": {
           "aaxis": {
            "gridcolor": "white",
            "linecolor": "white",
            "ticks": ""
           },
           "baxis": {
            "gridcolor": "white",
            "linecolor": "white",
            "ticks": ""
           },
           "bgcolor": "#E5ECF6",
           "caxis": {
            "gridcolor": "white",
            "linecolor": "white",
            "ticks": ""
           }
          },
          "title": {
           "x": 0.05
          },
          "xaxis": {
           "automargin": true,
           "gridcolor": "white",
           "linecolor": "white",
           "ticks": "",
           "title": {
            "standoff": 15
           },
           "zerolinecolor": "white",
           "zerolinewidth": 2
          },
          "yaxis": {
           "automargin": true,
           "gridcolor": "white",
           "linecolor": "white",
           "ticks": "",
           "title": {
            "standoff": 15
           },
           "zerolinecolor": "white",
           "zerolinewidth": 2
          }
         }
        },
        "title": {
         "text": "Subtype distribution"
        },
        "xaxis": {
         "anchor": "y",
         "domain": [
          0,
          1
         ],
         "title": {
          "text": "subtype"
         }
        },
        "yaxis": {
         "anchor": "x",
         "domain": [
          0,
          1
         ],
         "title": {
          "text": "count"
         }
        }
       }
      }
     },
     "metadata": {},
     "output_type": "display_data"
    }
   ],
   "source": [
    "px.histogram(clinical_data_df_filtered, x='subtype',\n",
    "             title='Subtype distribution')"
   ]
  },
  {
   "cell_type": "code",
   "execution_count": null,
   "metadata": {},
   "outputs": [
    {
     "data": {
      "application/vnd.plotly.v1+json": {
       "config": {
        "plotlyServerURL": "https://plot.ly"
       },
       "data": [
        {
         "domain": {
          "x": [
           0,
           1
          ],
          "y": [
           0,
           1
          ]
         },
         "hovertemplate": "subtype=%{label}<extra></extra>",
         "labels": [
          "Luminal B",
          "Luminal B",
          "Luminal B",
          "Luminal B",
          "HER2-enriched",
          "Luminal B",
          "Luminal A",
          "Luminal B",
          "Luminal A",
          "Luminal A",
          "Luminal A",
          "HER2-enriched",
          "triple negative",
          "Luminal B",
          "Luminal B",
          "Luminal A",
          "HER2-enriched",
          "Luminal A",
          "Luminal B",
          "HER2-enriched",
          "Luminal A",
          "HER2-enriched",
          "triple negative",
          "HER2-enriched",
          "HER2-enriched",
          "Luminal B",
          "Luminal A",
          "Luminal B",
          "Luminal B",
          "HER2-enriched",
          "Luminal A",
          "Luminal B",
          "HER2-enriched",
          "Luminal B",
          "HER2-enriched",
          "HER2-enriched",
          "HER2-enriched",
          "HER2-enriched",
          "Luminal B",
          "Luminal A",
          "triple negative",
          "Luminal A",
          "Luminal A",
          "Luminal A",
          "Luminal B",
          "HER2-enriched",
          "triple negative",
          "HER2-enriched",
          "Luminal B",
          "HER2-enriched",
          "Luminal A",
          "Luminal B",
          "Luminal A",
          "HER2-enriched",
          "Luminal B",
          "Luminal B",
          "Luminal B",
          "Luminal B",
          "Luminal A",
          "Luminal A",
          "HER2-enriched",
          "Luminal B",
          "Luminal B",
          "Luminal B",
          "HER2-enriched",
          "Luminal B",
          "HER2-enriched",
          "triple negative",
          "HER2-enriched",
          "HER2-enriched",
          "Luminal B",
          "triple negative",
          "HER2-enriched",
          "Luminal B",
          "Luminal B",
          "Luminal B",
          "Luminal B",
          "Luminal B",
          "HER2-enriched",
          "Luminal B",
          "HER2-enriched",
          "Luminal B",
          "HER2-enriched",
          "HER2-enriched",
          "HER2-enriched",
          "HER2-enriched",
          "Luminal B",
          "Luminal B",
          "Luminal B",
          "HER2-enriched",
          "HER2-enriched",
          "Luminal B",
          "Luminal A",
          "Luminal B",
          "Luminal B",
          "Luminal B",
          "triple negative",
          "Luminal B",
          "Luminal A",
          "Luminal B",
          "Luminal B",
          "Luminal A",
          "Luminal B",
          "HER2-enriched",
          "Luminal B",
          "Luminal B",
          "Luminal B",
          "Luminal A",
          "Luminal B",
          "HER2-enriched",
          "HER2-enriched",
          "Luminal B",
          "Luminal B",
          "Luminal B",
          "Luminal A",
          "Luminal B",
          "Luminal B",
          "Luminal B",
          "Luminal B",
          "HER2-enriched",
          "Luminal B",
          "Luminal B",
          "Luminal B",
          "Luminal B",
          "HER2-enriched",
          "triple negative",
          "HER2-enriched",
          "Luminal A",
          "HER2-enriched",
          "Luminal A",
          "Luminal B",
          "Luminal A",
          "Luminal B",
          "Luminal A",
          "Luminal B",
          "Luminal B",
          "Luminal B",
          "HER2-enriched",
          "HER2-enriched",
          "Luminal B",
          "HER2-enriched",
          "Luminal B",
          "Luminal A",
          "Luminal B",
          "HER2-enriched",
          "Luminal A",
          "Luminal B",
          "triple negative",
          "HER2-enriched",
          "Luminal A",
          "HER2-enriched",
          "Luminal A",
          "triple negative",
          "Luminal A",
          "Luminal A",
          "Luminal B",
          "HER2-enriched",
          "Luminal B",
          "Luminal B",
          "Luminal B",
          "Luminal A",
          "Luminal B",
          "HER2-enriched",
          "triple negative",
          "Luminal B",
          "Luminal B",
          "HER2-enriched",
          "Luminal A",
          "HER2-enriched",
          "Luminal B",
          "Luminal B",
          "HER2-enriched",
          "Luminal B",
          "Luminal B",
          "Luminal B",
          "Luminal B",
          "Luminal B",
          "HER2-enriched",
          "Luminal B",
          "Luminal B",
          "Luminal A",
          "Luminal B",
          "Luminal B",
          "triple negative",
          "Luminal B",
          "HER2-enriched",
          "Luminal A",
          "Luminal A",
          "Luminal B",
          "Luminal B",
          "Luminal B",
          "HER2-enriched",
          "Luminal B",
          "HER2-enriched",
          "Luminal B",
          "Luminal B",
          "HER2-enriched",
          "HER2-enriched",
          "HER2-enriched",
          "HER2-enriched",
          "HER2-enriched",
          "Luminal B",
          "Luminal B",
          "Luminal B",
          "HER2-enriched",
          "triple negative",
          "Luminal B",
          "HER2-enriched",
          "HER2-enriched",
          "Luminal B",
          "Luminal B",
          "Luminal A",
          "Luminal A",
          "triple negative",
          "Luminal B",
          "triple negative",
          "HER2-enriched",
          "triple negative",
          "Luminal B",
          "Luminal B",
          "Luminal B",
          "triple negative",
          "Luminal B",
          "Luminal B",
          "Luminal A",
          "Luminal B",
          "Luminal B",
          "Luminal B",
          "Luminal B",
          "HER2-enriched",
          "Luminal B",
          "Luminal B",
          "HER2-enriched",
          "triple negative",
          "Luminal B",
          "HER2-enriched",
          "Luminal B",
          "Luminal B",
          "Luminal B",
          "Luminal B",
          "Luminal B",
          "Luminal A",
          "HER2-enriched",
          "Luminal B",
          "HER2-enriched",
          "Luminal B",
          "Luminal A",
          "HER2-enriched",
          "HER2-enriched",
          "triple negative",
          "HER2-enriched",
          "HER2-enriched",
          "Luminal B",
          "Luminal B",
          "Luminal A",
          "Luminal A",
          "Luminal B",
          "Luminal B",
          "Luminal B",
          "HER2-enriched",
          "Luminal B",
          "Luminal B",
          "HER2-enriched",
          "triple negative",
          "Luminal B",
          "HER2-enriched",
          "Luminal B",
          "HER2-enriched",
          "HER2-enriched",
          "Luminal A",
          "HER2-enriched",
          "HER2-enriched",
          "Luminal B",
          "Luminal B",
          "Luminal B",
          "HER2-enriched",
          "Luminal B",
          "Luminal B",
          "Luminal B",
          "Luminal B",
          "Luminal A",
          "Luminal B",
          "Luminal B",
          "Luminal A",
          "Luminal B",
          "Luminal A",
          "HER2-enriched",
          "Luminal B",
          "HER2-enriched",
          "Luminal B",
          "triple negative",
          "HER2-enriched",
          "HER2-enriched",
          "HER2-enriched",
          "Luminal B",
          "Luminal B",
          "Luminal B",
          "Luminal B",
          "Luminal A",
          "Luminal B",
          "Luminal A",
          "Luminal B",
          "Luminal B",
          "Luminal A",
          "HER2-enriched",
          "Luminal B",
          "Luminal B",
          "HER2-enriched",
          "Luminal B",
          "Luminal B",
          "HER2-enriched",
          "HER2-enriched",
          "Luminal B",
          "Luminal A",
          "Luminal A",
          "Luminal B",
          "HER2-enriched",
          "Luminal B",
          "Luminal B",
          "Luminal B",
          "Luminal B",
          "Luminal B",
          "HER2-enriched",
          "Luminal B",
          "Luminal B",
          "Luminal B",
          "Luminal A",
          "HER2-enriched",
          "HER2-enriched",
          "Luminal A",
          "Luminal A",
          "HER2-enriched",
          "Luminal B",
          "Luminal B",
          "Luminal B",
          "Luminal B",
          "Luminal A",
          "Luminal A",
          "Luminal A",
          "Luminal B",
          "Luminal B",
          "HER2-enriched",
          "Luminal B",
          "triple negative",
          "Luminal B",
          "Luminal B",
          "triple negative",
          "Luminal B",
          "HER2-enriched",
          "HER2-enriched",
          "Luminal A",
          "Luminal B",
          "Luminal B",
          "Luminal A",
          "triple negative",
          "triple negative",
          "Luminal B",
          "Luminal B",
          "triple negative",
          "Luminal B",
          "Luminal B",
          "Luminal B",
          "Luminal B",
          "Luminal B",
          "Luminal B",
          "Luminal B",
          "HER2-enriched",
          "Luminal B",
          "Luminal B",
          "Luminal A",
          "Luminal B",
          "triple negative",
          "Luminal B",
          "Luminal B",
          "triple negative",
          "triple negative",
          "Luminal A",
          "Luminal B",
          "Luminal B",
          "Luminal B",
          "Luminal A",
          "Luminal A",
          "Luminal B",
          "Luminal B",
          "Luminal A",
          "Luminal B",
          "triple negative",
          "Luminal B",
          "Luminal B",
          "Luminal A",
          "Luminal B",
          "Luminal B",
          "Luminal A",
          "HER2-enriched",
          "Luminal A",
          "Luminal A",
          "Luminal B",
          "HER2-enriched",
          "Luminal B",
          "Luminal B",
          "Luminal A",
          "Luminal A",
          "Luminal B",
          "Luminal B",
          "Luminal B",
          "Luminal A",
          "Luminal B",
          "Luminal B",
          "Luminal B",
          "Luminal B",
          "Luminal A",
          "Luminal B",
          "Luminal A",
          "Luminal B",
          "triple negative",
          "Luminal B",
          "Luminal B",
          "Luminal B",
          "HER2-enriched",
          "Luminal A",
          "Luminal B",
          "Luminal B",
          "Luminal B",
          "triple negative",
          "HER2-enriched",
          "Luminal B",
          "Luminal A",
          "Luminal B",
          "HER2-enriched",
          "Luminal A",
          "Luminal B",
          "triple negative",
          "Luminal A",
          "Luminal A",
          "triple negative",
          "triple negative",
          "Luminal A",
          "HER2-enriched",
          "Luminal A",
          "Luminal A",
          "Luminal A",
          "Luminal A",
          "Luminal B",
          "Luminal B",
          "Luminal B",
          "triple negative",
          "Luminal B",
          "triple negative",
          "Luminal B",
          "Luminal B",
          "HER2-enriched",
          "Luminal A",
          "Luminal B",
          "Luminal B",
          "triple negative",
          "Luminal B",
          "Luminal B",
          "Luminal A",
          "triple negative",
          "triple negative",
          "triple negative",
          "Luminal B",
          "Luminal A",
          "Luminal A",
          "triple negative",
          "Luminal A",
          "HER2-enriched",
          "Luminal B",
          "Luminal B",
          "Luminal B",
          "Luminal A",
          "Luminal B",
          "Luminal A",
          "Luminal A",
          "Luminal B",
          "HER2-enriched",
          "triple negative",
          "Luminal B",
          "Luminal A",
          "triple negative",
          "Luminal B",
          "HER2-enriched",
          "Luminal A",
          "Luminal B",
          "HER2-enriched",
          "HER2-enriched",
          "Luminal B",
          "Luminal B",
          "Luminal B",
          "Luminal B",
          "Luminal A",
          "triple negative",
          "triple negative",
          "Luminal B",
          "Luminal B",
          "Luminal A",
          "triple negative",
          "Luminal B",
          "Luminal A",
          "Luminal B",
          "Luminal B",
          "Luminal A",
          "Luminal B",
          "Luminal A",
          "Luminal B",
          "Luminal B",
          "Luminal B",
          "Luminal A",
          "Luminal B",
          "Luminal B",
          "Luminal B",
          "Luminal B",
          "triple negative",
          "Luminal B",
          "Luminal B",
          "Luminal A",
          "Luminal B",
          "Luminal A",
          "Luminal B",
          "triple negative",
          "HER2-enriched",
          "Luminal A",
          "Luminal B",
          "Luminal B",
          "triple negative",
          "Luminal B",
          "Luminal B",
          "triple negative",
          "Luminal B",
          "Luminal B",
          "triple negative",
          "HER2-enriched",
          "Luminal B",
          "Luminal A",
          "Luminal A",
          "HER2-enriched",
          "Luminal A",
          "triple negative",
          "HER2-enriched",
          "Luminal B",
          "Luminal A",
          "Luminal B",
          "HER2-enriched",
          "Luminal B",
          "Luminal B",
          "Luminal A",
          "Luminal B",
          "Luminal A",
          "triple negative",
          "Luminal B",
          "Luminal A",
          "Luminal A",
          "HER2-enriched",
          "triple negative",
          "Luminal B",
          "Luminal B",
          "Luminal B",
          "Luminal B",
          "Luminal B",
          "Luminal B",
          "Luminal B",
          "Luminal B",
          "Luminal B",
          "Luminal B",
          "Luminal A",
          "Luminal B",
          "Luminal A",
          "Luminal B",
          "Luminal B",
          "triple negative",
          "triple negative",
          "Luminal B",
          "Luminal B",
          "Luminal B",
          "Luminal A",
          "Luminal B",
          "Luminal B",
          "triple negative",
          "triple negative",
          "Luminal B",
          "triple negative",
          "Luminal B",
          "Luminal B",
          "HER2-enriched",
          "triple negative",
          "triple negative",
          "triple negative",
          "Luminal B",
          "Luminal B",
          "Luminal B",
          "Luminal A",
          "triple negative",
          "Luminal A",
          "Luminal B",
          "HER2-enriched",
          "HER2-enriched",
          "Luminal B",
          "HER2-enriched",
          "Luminal B",
          "triple negative",
          "Luminal B",
          "triple negative",
          "Luminal B",
          "Luminal B",
          "Luminal B",
          "Luminal A",
          "Luminal A",
          "triple negative",
          "Luminal A",
          "Luminal B",
          "Luminal B",
          "Luminal A",
          "HER2-enriched",
          "HER2-enriched",
          "HER2-enriched",
          "Luminal A",
          "Luminal B",
          "Luminal B",
          "triple negative",
          "HER2-enriched",
          "Luminal B",
          "triple negative",
          "Luminal A",
          "Luminal A",
          "triple negative",
          "Luminal B",
          "triple negative",
          "Luminal B",
          "HER2-enriched",
          "Luminal A",
          "Luminal B",
          "Luminal A",
          "Luminal B",
          "Luminal B",
          "HER2-enriched",
          "Luminal B",
          "Luminal A",
          "HER2-enriched",
          "Luminal B",
          "triple negative",
          "Luminal A",
          "triple negative",
          "triple negative",
          "Luminal A",
          "Luminal A",
          "triple negative",
          "triple negative",
          "Luminal A",
          "Luminal B",
          "Luminal B",
          "Luminal A",
          "triple negative",
          "Luminal B",
          "triple negative",
          "Luminal B",
          "Luminal B",
          "Luminal B",
          "Luminal A",
          "Luminal B",
          "Luminal A",
          "Luminal B",
          "HER2-enriched",
          "Luminal B",
          "Luminal B",
          "Luminal B",
          "Luminal B",
          "Luminal B",
          "Luminal A",
          "Luminal B",
          "Luminal A",
          "Luminal B",
          "Luminal B",
          "Luminal B",
          "Luminal A",
          "Luminal B",
          "Luminal B",
          "Luminal A",
          "Luminal B",
          "Luminal B",
          "Luminal B",
          "triple negative",
          "Luminal B",
          "Luminal A",
          "Luminal B",
          "Luminal B",
          "triple negative",
          "Luminal B",
          "Luminal B",
          "HER2-enriched",
          "Luminal B",
          "Luminal A",
          "Luminal B",
          "triple negative",
          "Luminal B",
          "Luminal B",
          "triple negative",
          "HER2-enriched",
          "Luminal B",
          "Luminal B",
          "Luminal B",
          "Luminal A",
          "Luminal A",
          "Luminal B",
          "Luminal A",
          "Luminal B",
          "Luminal B",
          "Luminal B",
          "Luminal B",
          "triple negative",
          "Luminal B",
          "Luminal B",
          "triple negative",
          "Luminal B",
          "Luminal B",
          "Luminal B",
          "HER2-enriched",
          "Luminal A",
          "Luminal A",
          "HER2-enriched",
          "Luminal A",
          "Luminal B",
          "Luminal B",
          "Luminal B",
          "triple negative",
          "Luminal A",
          "Luminal B",
          "Luminal A",
          "Luminal B",
          "Luminal A",
          "Luminal B",
          "Luminal A",
          "Luminal B",
          "HER2-enriched",
          "Luminal B",
          "Luminal B",
          "Luminal A",
          "Luminal B",
          "HER2-enriched",
          "Luminal B",
          "Luminal B",
          "HER2-enriched",
          "Luminal B",
          "Luminal B",
          "Luminal A",
          "triple negative",
          "HER2-enriched",
          "Luminal B",
          "Luminal B",
          "Luminal B"
         ],
         "legendgroup": "",
         "name": "",
         "showlegend": true,
         "type": "pie"
        }
       ],
       "layout": {
        "legend": {
         "tracegroupgap": 0
        },
        "template": {
         "data": {
          "bar": [
           {
            "error_x": {
             "color": "#2a3f5f"
            },
            "error_y": {
             "color": "#2a3f5f"
            },
            "marker": {
             "line": {
              "color": "#E5ECF6",
              "width": 0.5
             },
             "pattern": {
              "fillmode": "overlay",
              "size": 10,
              "solidity": 0.2
             }
            },
            "type": "bar"
           }
          ],
          "barpolar": [
           {
            "marker": {
             "line": {
              "color": "#E5ECF6",
              "width": 0.5
             },
             "pattern": {
              "fillmode": "overlay",
              "size": 10,
              "solidity": 0.2
             }
            },
            "type": "barpolar"
           }
          ],
          "carpet": [
           {
            "aaxis": {
             "endlinecolor": "#2a3f5f",
             "gridcolor": "white",
             "linecolor": "white",
             "minorgridcolor": "white",
             "startlinecolor": "#2a3f5f"
            },
            "baxis": {
             "endlinecolor": "#2a3f5f",
             "gridcolor": "white",
             "linecolor": "white",
             "minorgridcolor": "white",
             "startlinecolor": "#2a3f5f"
            },
            "type": "carpet"
           }
          ],
          "choropleth": [
           {
            "colorbar": {
             "outlinewidth": 0,
             "ticks": ""
            },
            "type": "choropleth"
           }
          ],
          "contour": [
           {
            "colorbar": {
             "outlinewidth": 0,
             "ticks": ""
            },
            "colorscale": [
             [
              0,
              "#0d0887"
             ],
             [
              0.1111111111111111,
              "#46039f"
             ],
             [
              0.2222222222222222,
              "#7201a8"
             ],
             [
              0.3333333333333333,
              "#9c179e"
             ],
             [
              0.4444444444444444,
              "#bd3786"
             ],
             [
              0.5555555555555556,
              "#d8576b"
             ],
             [
              0.6666666666666666,
              "#ed7953"
             ],
             [
              0.7777777777777778,
              "#fb9f3a"
             ],
             [
              0.8888888888888888,
              "#fdca26"
             ],
             [
              1,
              "#f0f921"
             ]
            ],
            "type": "contour"
           }
          ],
          "contourcarpet": [
           {
            "colorbar": {
             "outlinewidth": 0,
             "ticks": ""
            },
            "type": "contourcarpet"
           }
          ],
          "heatmap": [
           {
            "colorbar": {
             "outlinewidth": 0,
             "ticks": ""
            },
            "colorscale": [
             [
              0,
              "#0d0887"
             ],
             [
              0.1111111111111111,
              "#46039f"
             ],
             [
              0.2222222222222222,
              "#7201a8"
             ],
             [
              0.3333333333333333,
              "#9c179e"
             ],
             [
              0.4444444444444444,
              "#bd3786"
             ],
             [
              0.5555555555555556,
              "#d8576b"
             ],
             [
              0.6666666666666666,
              "#ed7953"
             ],
             [
              0.7777777777777778,
              "#fb9f3a"
             ],
             [
              0.8888888888888888,
              "#fdca26"
             ],
             [
              1,
              "#f0f921"
             ]
            ],
            "type": "heatmap"
           }
          ],
          "histogram": [
           {
            "marker": {
             "pattern": {
              "fillmode": "overlay",
              "size": 10,
              "solidity": 0.2
             }
            },
            "type": "histogram"
           }
          ],
          "histogram2d": [
           {
            "colorbar": {
             "outlinewidth": 0,
             "ticks": ""
            },
            "colorscale": [
             [
              0,
              "#0d0887"
             ],
             [
              0.1111111111111111,
              "#46039f"
             ],
             [
              0.2222222222222222,
              "#7201a8"
             ],
             [
              0.3333333333333333,
              "#9c179e"
             ],
             [
              0.4444444444444444,
              "#bd3786"
             ],
             [
              0.5555555555555556,
              "#d8576b"
             ],
             [
              0.6666666666666666,
              "#ed7953"
             ],
             [
              0.7777777777777778,
              "#fb9f3a"
             ],
             [
              0.8888888888888888,
              "#fdca26"
             ],
             [
              1,
              "#f0f921"
             ]
            ],
            "type": "histogram2d"
           }
          ],
          "histogram2dcontour": [
           {
            "colorbar": {
             "outlinewidth": 0,
             "ticks": ""
            },
            "colorscale": [
             [
              0,
              "#0d0887"
             ],
             [
              0.1111111111111111,
              "#46039f"
             ],
             [
              0.2222222222222222,
              "#7201a8"
             ],
             [
              0.3333333333333333,
              "#9c179e"
             ],
             [
              0.4444444444444444,
              "#bd3786"
             ],
             [
              0.5555555555555556,
              "#d8576b"
             ],
             [
              0.6666666666666666,
              "#ed7953"
             ],
             [
              0.7777777777777778,
              "#fb9f3a"
             ],
             [
              0.8888888888888888,
              "#fdca26"
             ],
             [
              1,
              "#f0f921"
             ]
            ],
            "type": "histogram2dcontour"
           }
          ],
          "mesh3d": [
           {
            "colorbar": {
             "outlinewidth": 0,
             "ticks": ""
            },
            "type": "mesh3d"
           }
          ],
          "parcoords": [
           {
            "line": {
             "colorbar": {
              "outlinewidth": 0,
              "ticks": ""
             }
            },
            "type": "parcoords"
           }
          ],
          "pie": [
           {
            "automargin": true,
            "type": "pie"
           }
          ],
          "scatter": [
           {
            "fillpattern": {
             "fillmode": "overlay",
             "size": 10,
             "solidity": 0.2
            },
            "type": "scatter"
           }
          ],
          "scatter3d": [
           {
            "line": {
             "colorbar": {
              "outlinewidth": 0,
              "ticks": ""
             }
            },
            "marker": {
             "colorbar": {
              "outlinewidth": 0,
              "ticks": ""
             }
            },
            "type": "scatter3d"
           }
          ],
          "scattercarpet": [
           {
            "marker": {
             "colorbar": {
              "outlinewidth": 0,
              "ticks": ""
             }
            },
            "type": "scattercarpet"
           }
          ],
          "scattergeo": [
           {
            "marker": {
             "colorbar": {
              "outlinewidth": 0,
              "ticks": ""
             }
            },
            "type": "scattergeo"
           }
          ],
          "scattergl": [
           {
            "marker": {
             "colorbar": {
              "outlinewidth": 0,
              "ticks": ""
             }
            },
            "type": "scattergl"
           }
          ],
          "scattermap": [
           {
            "marker": {
             "colorbar": {
              "outlinewidth": 0,
              "ticks": ""
             }
            },
            "type": "scattermap"
           }
          ],
          "scattermapbox": [
           {
            "marker": {
             "colorbar": {
              "outlinewidth": 0,
              "ticks": ""
             }
            },
            "type": "scattermapbox"
           }
          ],
          "scatterpolar": [
           {
            "marker": {
             "colorbar": {
              "outlinewidth": 0,
              "ticks": ""
             }
            },
            "type": "scatterpolar"
           }
          ],
          "scatterpolargl": [
           {
            "marker": {
             "colorbar": {
              "outlinewidth": 0,
              "ticks": ""
             }
            },
            "type": "scatterpolargl"
           }
          ],
          "scatterternary": [
           {
            "marker": {
             "colorbar": {
              "outlinewidth": 0,
              "ticks": ""
             }
            },
            "type": "scatterternary"
           }
          ],
          "surface": [
           {
            "colorbar": {
             "outlinewidth": 0,
             "ticks": ""
            },
            "colorscale": [
             [
              0,
              "#0d0887"
             ],
             [
              0.1111111111111111,
              "#46039f"
             ],
             [
              0.2222222222222222,
              "#7201a8"
             ],
             [
              0.3333333333333333,
              "#9c179e"
             ],
             [
              0.4444444444444444,
              "#bd3786"
             ],
             [
              0.5555555555555556,
              "#d8576b"
             ],
             [
              0.6666666666666666,
              "#ed7953"
             ],
             [
              0.7777777777777778,
              "#fb9f3a"
             ],
             [
              0.8888888888888888,
              "#fdca26"
             ],
             [
              1,
              "#f0f921"
             ]
            ],
            "type": "surface"
           }
          ],
          "table": [
           {
            "cells": {
             "fill": {
              "color": "#EBF0F8"
             },
             "line": {
              "color": "white"
             }
            },
            "header": {
             "fill": {
              "color": "#C8D4E3"
             },
             "line": {
              "color": "white"
             }
            },
            "type": "table"
           }
          ]
         },
         "layout": {
          "annotationdefaults": {
           "arrowcolor": "#2a3f5f",
           "arrowhead": 0,
           "arrowwidth": 1
          },
          "autotypenumbers": "strict",
          "coloraxis": {
           "colorbar": {
            "outlinewidth": 0,
            "ticks": ""
           }
          },
          "colorscale": {
           "diverging": [
            [
             0,
             "#8e0152"
            ],
            [
             0.1,
             "#c51b7d"
            ],
            [
             0.2,
             "#de77ae"
            ],
            [
             0.3,
             "#f1b6da"
            ],
            [
             0.4,
             "#fde0ef"
            ],
            [
             0.5,
             "#f7f7f7"
            ],
            [
             0.6,
             "#e6f5d0"
            ],
            [
             0.7,
             "#b8e186"
            ],
            [
             0.8,
             "#7fbc41"
            ],
            [
             0.9,
             "#4d9221"
            ],
            [
             1,
             "#276419"
            ]
           ],
           "sequential": [
            [
             0,
             "#0d0887"
            ],
            [
             0.1111111111111111,
             "#46039f"
            ],
            [
             0.2222222222222222,
             "#7201a8"
            ],
            [
             0.3333333333333333,
             "#9c179e"
            ],
            [
             0.4444444444444444,
             "#bd3786"
            ],
            [
             0.5555555555555556,
             "#d8576b"
            ],
            [
             0.6666666666666666,
             "#ed7953"
            ],
            [
             0.7777777777777778,
             "#fb9f3a"
            ],
            [
             0.8888888888888888,
             "#fdca26"
            ],
            [
             1,
             "#f0f921"
            ]
           ],
           "sequentialminus": [
            [
             0,
             "#0d0887"
            ],
            [
             0.1111111111111111,
             "#46039f"
            ],
            [
             0.2222222222222222,
             "#7201a8"
            ],
            [
             0.3333333333333333,
             "#9c179e"
            ],
            [
             0.4444444444444444,
             "#bd3786"
            ],
            [
             0.5555555555555556,
             "#d8576b"
            ],
            [
             0.6666666666666666,
             "#ed7953"
            ],
            [
             0.7777777777777778,
             "#fb9f3a"
            ],
            [
             0.8888888888888888,
             "#fdca26"
            ],
            [
             1,
             "#f0f921"
            ]
           ]
          },
          "colorway": [
           "#636efa",
           "#EF553B",
           "#00cc96",
           "#ab63fa",
           "#FFA15A",
           "#19d3f3",
           "#FF6692",
           "#B6E880",
           "#FF97FF",
           "#FECB52"
          ],
          "font": {
           "color": "#2a3f5f"
          },
          "geo": {
           "bgcolor": "white",
           "lakecolor": "white",
           "landcolor": "#E5ECF6",
           "showlakes": true,
           "showland": true,
           "subunitcolor": "white"
          },
          "hoverlabel": {
           "align": "left"
          },
          "hovermode": "closest",
          "mapbox": {
           "style": "light"
          },
          "paper_bgcolor": "white",
          "plot_bgcolor": "#E5ECF6",
          "polar": {
           "angularaxis": {
            "gridcolor": "white",
            "linecolor": "white",
            "ticks": ""
           },
           "bgcolor": "#E5ECF6",
           "radialaxis": {
            "gridcolor": "white",
            "linecolor": "white",
            "ticks": ""
           }
          },
          "scene": {
           "xaxis": {
            "backgroundcolor": "#E5ECF6",
            "gridcolor": "white",
            "gridwidth": 2,
            "linecolor": "white",
            "showbackground": true,
            "ticks": "",
            "zerolinecolor": "white"
           },
           "yaxis": {
            "backgroundcolor": "#E5ECF6",
            "gridcolor": "white",
            "gridwidth": 2,
            "linecolor": "white",
            "showbackground": true,
            "ticks": "",
            "zerolinecolor": "white"
           },
           "zaxis": {
            "backgroundcolor": "#E5ECF6",
            "gridcolor": "white",
            "gridwidth": 2,
            "linecolor": "white",
            "showbackground": true,
            "ticks": "",
            "zerolinecolor": "white"
           }
          },
          "shapedefaults": {
           "line": {
            "color": "#2a3f5f"
           }
          },
          "ternary": {
           "aaxis": {
            "gridcolor": "white",
            "linecolor": "white",
            "ticks": ""
           },
           "baxis": {
            "gridcolor": "white",
            "linecolor": "white",
            "ticks": ""
           },
           "bgcolor": "#E5ECF6",
           "caxis": {
            "gridcolor": "white",
            "linecolor": "white",
            "ticks": ""
           }
          },
          "title": {
           "x": 0.05
          },
          "xaxis": {
           "automargin": true,
           "gridcolor": "white",
           "linecolor": "white",
           "ticks": "",
           "title": {
            "standoff": 15
           },
           "zerolinecolor": "white",
           "zerolinewidth": 2
          },
          "yaxis": {
           "automargin": true,
           "gridcolor": "white",
           "linecolor": "white",
           "ticks": "",
           "title": {
            "standoff": 15
           },
           "zerolinecolor": "white",
           "zerolinewidth": 2
          }
         }
        },
        "title": {
         "text": "Subtype distribution"
        }
       }
      }
     },
     "metadata": {},
     "output_type": "display_data"
    }
   ],
   "source": [
    "px.pie(clinical_data_df_filtered, names='subtype',\n",
    "       title='Subtype distribution' )"
   ]
  },
  {
   "cell_type": "markdown",
   "metadata": {},
   "source": [
    "## 2.2 Metadata analysis"
   ]
  },
  {
   "cell_type": "code",
   "execution_count": 32,
   "metadata": {},
   "outputs": [
    {
     "data": {
      "text/html": [
       "<div>\n",
       "<style scoped>\n",
       "    .dataframe tbody tr th:only-of-type {\n",
       "        vertical-align: middle;\n",
       "    }\n",
       "\n",
       "    .dataframe tbody tr th {\n",
       "        vertical-align: top;\n",
       "    }\n",
       "\n",
       "    .dataframe thead th {\n",
       "        text-align: right;\n",
       "    }\n",
       "</style>\n",
       "<table border=\"1\" class=\"dataframe\">\n",
       "  <thead>\n",
       "    <tr style=\"text-align: right;\">\n",
       "      <th></th>\n",
       "      <th>Series UID</th>\n",
       "      <th>Collection</th>\n",
       "      <th>3rd Party Analysis</th>\n",
       "      <th>Data Description URI</th>\n",
       "      <th>Subject ID</th>\n",
       "      <th>Study UID</th>\n",
       "      <th>Study Description</th>\n",
       "      <th>Study Date</th>\n",
       "      <th>Series Description</th>\n",
       "      <th>Manufacturer</th>\n",
       "      <th>Modality</th>\n",
       "      <th>SOP Class Name</th>\n",
       "      <th>SOP Class UID</th>\n",
       "      <th>Number of Images</th>\n",
       "      <th>File Size</th>\n",
       "      <th>File Location</th>\n",
       "      <th>Download Timestamp</th>\n",
       "    </tr>\n",
       "  </thead>\n",
       "  <tbody>\n",
       "    <tr>\n",
       "      <th>1.3.6.1.4.1.14519.5.2.1.1239.1759.623006463861567934606116970244</th>\n",
       "      <td>CMMD</td>\n",
       "      <td>NO</td>\n",
       "      <td>https://doi.org/10.7937/tcia.eqde4b16</td>\n",
       "      <td>D1-0001</td>\n",
       "      <td>1.3.6.1.4.1.14519.5.2.1.1239.1759.335790956129...</td>\n",
       "      <td>NaN</td>\n",
       "      <td>07-18-2010</td>\n",
       "      <td>NaN</td>\n",
       "      <td>NaN</td>\n",
       "      <td>MG</td>\n",
       "      <td>Digital Mammography X-Ray Image Storage - For ...</td>\n",
       "      <td>1.2.840.10008.5.1.4.1.1.1.2</td>\n",
       "      <td>2</td>\n",
       "      <td>8</td>\n",
       "      <td>79 MB</td>\n",
       "      <td>./CMMD/D1-0001/07-18-2010-NA-NA-79377/1.000000...</td>\n",
       "      <td>2025-02-27T01:22:03.4</td>\n",
       "    </tr>\n",
       "    <tr>\n",
       "      <th>1.3.6.1.4.1.14519.5.2.1.1239.1759.610823649257711756778765445313</th>\n",
       "      <td>CMMD</td>\n",
       "      <td>NO</td>\n",
       "      <td>https://doi.org/10.7937/tcia.eqde4b16</td>\n",
       "      <td>D1-0002</td>\n",
       "      <td>1.3.6.1.4.1.14519.5.2.1.1239.1759.241519791051...</td>\n",
       "      <td>NaN</td>\n",
       "      <td>07-18-2010</td>\n",
       "      <td>NaN</td>\n",
       "      <td>NaN</td>\n",
       "      <td>MG</td>\n",
       "      <td>Digital Mammography X-Ray Image Storage - For ...</td>\n",
       "      <td>1.2.840.10008.5.1.4.1.1.1.2</td>\n",
       "      <td>2</td>\n",
       "      <td>8</td>\n",
       "      <td>79 MB</td>\n",
       "      <td>./CMMD/D1-0002/07-18-2010-NA-NA-49231/1.000000...</td>\n",
       "      <td>2025-02-27T01:22:03.4</td>\n",
       "    </tr>\n",
       "    <tr>\n",
       "      <th>1.3.6.1.4.1.14519.5.2.1.1239.1759.292560899611058154484740024283</th>\n",
       "      <td>CMMD</td>\n",
       "      <td>NO</td>\n",
       "      <td>https://doi.org/10.7937/tcia.eqde4b16</td>\n",
       "      <td>D1-0003</td>\n",
       "      <td>1.3.6.1.4.1.14519.5.2.1.1239.1759.113089024322...</td>\n",
       "      <td>NaN</td>\n",
       "      <td>07-18-2011</td>\n",
       "      <td>NaN</td>\n",
       "      <td>NaN</td>\n",
       "      <td>MG</td>\n",
       "      <td>Digital Mammography X-Ray Image Storage - For ...</td>\n",
       "      <td>1.2.840.10008.5.1.4.1.1.1.2</td>\n",
       "      <td>2</td>\n",
       "      <td>8</td>\n",
       "      <td>79 MB</td>\n",
       "      <td>./CMMD/D1-0003/07-18-2011-NA-NA-25491/1.000000...</td>\n",
       "      <td>2025-02-27T01:22:03.447</td>\n",
       "    </tr>\n",
       "    <tr>\n",
       "      <th>1.3.6.1.4.1.14519.5.2.1.1239.1759.202447815325989213972136564676</th>\n",
       "      <td>CMMD</td>\n",
       "      <td>NO</td>\n",
       "      <td>https://doi.org/10.7937/tcia.eqde4b16</td>\n",
       "      <td>D1-0006</td>\n",
       "      <td>1.3.6.1.4.1.14519.5.2.1.1239.1759.241563313733...</td>\n",
       "      <td>NaN</td>\n",
       "      <td>07-18-2010</td>\n",
       "      <td>NaN</td>\n",
       "      <td>NaN</td>\n",
       "      <td>MG</td>\n",
       "      <td>Digital Mammography X-Ray Image Storage - For ...</td>\n",
       "      <td>1.2.840.10008.5.1.4.1.1.1.2</td>\n",
       "      <td>2</td>\n",
       "      <td>8</td>\n",
       "      <td>79 MB</td>\n",
       "      <td>./CMMD/D1-0006/07-18-2010-NA-NA-16802/1.000000...</td>\n",
       "      <td>2025-02-27T01:22:07.503</td>\n",
       "    </tr>\n",
       "    <tr>\n",
       "      <th>1.3.6.1.4.1.14519.5.2.1.1239.1759.328825651506038448195218436301</th>\n",
       "      <td>CMMD</td>\n",
       "      <td>NO</td>\n",
       "      <td>https://doi.org/10.7937/tcia.eqde4b16</td>\n",
       "      <td>D1-0004</td>\n",
       "      <td>1.3.6.1.4.1.14519.5.2.1.1239.1759.132173027545...</td>\n",
       "      <td>NaN</td>\n",
       "      <td>07-18-2011</td>\n",
       "      <td>NaN</td>\n",
       "      <td>NaN</td>\n",
       "      <td>MG</td>\n",
       "      <td>Digital Mammography X-Ray Image Storage - For ...</td>\n",
       "      <td>1.2.840.10008.5.1.4.1.1.1.2</td>\n",
       "      <td>2</td>\n",
       "      <td>8</td>\n",
       "      <td>79 MB</td>\n",
       "      <td>./CMMD/D1-0004/07-18-2011-NA-NA-14914/1.000000...</td>\n",
       "      <td>2025-02-27T01:22:07.681</td>\n",
       "    </tr>\n",
       "    <tr>\n",
       "      <th>...</th>\n",
       "      <td>...</td>\n",
       "      <td>...</td>\n",
       "      <td>...</td>\n",
       "      <td>...</td>\n",
       "      <td>...</td>\n",
       "      <td>...</td>\n",
       "      <td>...</td>\n",
       "      <td>...</td>\n",
       "      <td>...</td>\n",
       "      <td>...</td>\n",
       "      <td>...</td>\n",
       "      <td>...</td>\n",
       "      <td>...</td>\n",
       "      <td>...</td>\n",
       "      <td>...</td>\n",
       "      <td>...</td>\n",
       "      <td>...</td>\n",
       "    </tr>\n",
       "    <tr>\n",
       "      <th>1.3.6.1.4.1.14519.5.2.1.1239.1759.231264718340548671615654377404</th>\n",
       "      <td>CMMD</td>\n",
       "      <td>NO</td>\n",
       "      <td>https://doi.org/10.7937/tcia.eqde4b16</td>\n",
       "      <td>D2-0744</td>\n",
       "      <td>1.3.6.1.4.1.14519.5.2.1.1239.1759.169383765396...</td>\n",
       "      <td>NaN</td>\n",
       "      <td>07-18-2011</td>\n",
       "      <td>NaN</td>\n",
       "      <td>NaN</td>\n",
       "      <td>MG</td>\n",
       "      <td>Digital Mammography X-Ray Image Storage - For ...</td>\n",
       "      <td>1.2.840.10008.5.1.4.1.1.1.2</td>\n",
       "      <td>4</td>\n",
       "      <td>17</td>\n",
       "      <td>57 MB</td>\n",
       "      <td>./CMMD/D2-0744/07-18-2011-NA-NA-36434/1.000000...</td>\n",
       "      <td>2025-02-27T02:13:20.482</td>\n",
       "    </tr>\n",
       "    <tr>\n",
       "      <th>1.3.6.1.4.1.14519.5.2.1.1239.1759.972296336858504752743199236363</th>\n",
       "      <td>CMMD</td>\n",
       "      <td>NO</td>\n",
       "      <td>https://doi.org/10.7937/tcia.eqde4b16</td>\n",
       "      <td>D2-0746</td>\n",
       "      <td>1.3.6.1.4.1.14519.5.2.1.1239.1759.291758813596...</td>\n",
       "      <td>NaN</td>\n",
       "      <td>07-18-2011</td>\n",
       "      <td>NaN</td>\n",
       "      <td>NaN</td>\n",
       "      <td>MG</td>\n",
       "      <td>Digital Mammography X-Ray Image Storage - For ...</td>\n",
       "      <td>1.2.840.10008.5.1.4.1.1.1.2</td>\n",
       "      <td>4</td>\n",
       "      <td>17</td>\n",
       "      <td>57 MB</td>\n",
       "      <td>./CMMD/D2-0746/07-18-2011-NA-NA-61307/1.000000...</td>\n",
       "      <td>2025-02-27T02:13:28.112</td>\n",
       "    </tr>\n",
       "    <tr>\n",
       "      <th>1.3.6.1.4.1.14519.5.2.1.1239.1759.242283723072008178075216409459</th>\n",
       "      <td>CMMD</td>\n",
       "      <td>NO</td>\n",
       "      <td>https://doi.org/10.7937/tcia.eqde4b16</td>\n",
       "      <td>D2-0748</td>\n",
       "      <td>1.3.6.1.4.1.14519.5.2.1.1239.1759.194867387180...</td>\n",
       "      <td>NaN</td>\n",
       "      <td>07-18-2011</td>\n",
       "      <td>NaN</td>\n",
       "      <td>NaN</td>\n",
       "      <td>MG</td>\n",
       "      <td>Digital Mammography X-Ray Image Storage - For ...</td>\n",
       "      <td>1.2.840.10008.5.1.4.1.1.1.2</td>\n",
       "      <td>4</td>\n",
       "      <td>17</td>\n",
       "      <td>57 MB</td>\n",
       "      <td>./CMMD/D2-0748/07-18-2011-NA-NA-50416/1.000000...</td>\n",
       "      <td>2025-02-27T02:13:30.731</td>\n",
       "    </tr>\n",
       "    <tr>\n",
       "      <th>1.3.6.1.4.1.14519.5.2.1.1239.1759.240741173543977273447334314949</th>\n",
       "      <td>CMMD</td>\n",
       "      <td>NO</td>\n",
       "      <td>https://doi.org/10.7937/tcia.eqde4b16</td>\n",
       "      <td>D2-0747</td>\n",
       "      <td>1.3.6.1.4.1.14519.5.2.1.1239.1759.240317944400...</td>\n",
       "      <td>NaN</td>\n",
       "      <td>07-18-2011</td>\n",
       "      <td>NaN</td>\n",
       "      <td>NaN</td>\n",
       "      <td>MG</td>\n",
       "      <td>Digital Mammography X-Ray Image Storage - For ...</td>\n",
       "      <td>1.2.840.10008.5.1.4.1.1.1.2</td>\n",
       "      <td>4</td>\n",
       "      <td>17</td>\n",
       "      <td>57 MB</td>\n",
       "      <td>./CMMD/D2-0747/07-18-2011-NA-NA-07955/1.000000...</td>\n",
       "      <td>2025-02-27T02:13:34.652</td>\n",
       "    </tr>\n",
       "    <tr>\n",
       "      <th>1.3.6.1.4.1.14519.5.2.1.1239.1759.311460119741546999437566015082</th>\n",
       "      <td>CMMD</td>\n",
       "      <td>NO</td>\n",
       "      <td>https://doi.org/10.7937/tcia.eqde4b16</td>\n",
       "      <td>D2-0749</td>\n",
       "      <td>1.3.6.1.4.1.14519.5.2.1.1239.1759.134277145908...</td>\n",
       "      <td>NaN</td>\n",
       "      <td>07-17-2012</td>\n",
       "      <td>NaN</td>\n",
       "      <td>NaN</td>\n",
       "      <td>MG</td>\n",
       "      <td>Digital Mammography X-Ray Image Storage - For ...</td>\n",
       "      <td>1.2.840.10008.5.1.4.1.1.1.2</td>\n",
       "      <td>4</td>\n",
       "      <td>17</td>\n",
       "      <td>57 MB</td>\n",
       "      <td>./CMMD/D2-0749/07-17-2012-NA-NA-85032/1.000000...</td>\n",
       "      <td>2025-02-27T02:13:37.893</td>\n",
       "    </tr>\n",
       "  </tbody>\n",
       "</table>\n",
       "<p>1775 rows × 17 columns</p>\n",
       "</div>"
      ],
      "text/plain": [
       "                                                   Series UID Collection  \\\n",
       "1.3.6.1.4.1.14519.5.2.1.1239.1759.6230064638615...       CMMD         NO   \n",
       "1.3.6.1.4.1.14519.5.2.1.1239.1759.6108236492577...       CMMD         NO   \n",
       "1.3.6.1.4.1.14519.5.2.1.1239.1759.2925608996110...       CMMD         NO   \n",
       "1.3.6.1.4.1.14519.5.2.1.1239.1759.2024478153259...       CMMD         NO   \n",
       "1.3.6.1.4.1.14519.5.2.1.1239.1759.3288256515060...       CMMD         NO   \n",
       "...                                                       ...        ...   \n",
       "1.3.6.1.4.1.14519.5.2.1.1239.1759.2312647183405...       CMMD         NO   \n",
       "1.3.6.1.4.1.14519.5.2.1.1239.1759.9722963368585...       CMMD         NO   \n",
       "1.3.6.1.4.1.14519.5.2.1.1239.1759.2422837230720...       CMMD         NO   \n",
       "1.3.6.1.4.1.14519.5.2.1.1239.1759.2407411735439...       CMMD         NO   \n",
       "1.3.6.1.4.1.14519.5.2.1.1239.1759.3114601197415...       CMMD         NO   \n",
       "\n",
       "                                                                       3rd Party Analysis  \\\n",
       "1.3.6.1.4.1.14519.5.2.1.1239.1759.6230064638615...  https://doi.org/10.7937/tcia.eqde4b16   \n",
       "1.3.6.1.4.1.14519.5.2.1.1239.1759.6108236492577...  https://doi.org/10.7937/tcia.eqde4b16   \n",
       "1.3.6.1.4.1.14519.5.2.1.1239.1759.2925608996110...  https://doi.org/10.7937/tcia.eqde4b16   \n",
       "1.3.6.1.4.1.14519.5.2.1.1239.1759.2024478153259...  https://doi.org/10.7937/tcia.eqde4b16   \n",
       "1.3.6.1.4.1.14519.5.2.1.1239.1759.3288256515060...  https://doi.org/10.7937/tcia.eqde4b16   \n",
       "...                                                                                   ...   \n",
       "1.3.6.1.4.1.14519.5.2.1.1239.1759.2312647183405...  https://doi.org/10.7937/tcia.eqde4b16   \n",
       "1.3.6.1.4.1.14519.5.2.1.1239.1759.9722963368585...  https://doi.org/10.7937/tcia.eqde4b16   \n",
       "1.3.6.1.4.1.14519.5.2.1.1239.1759.2422837230720...  https://doi.org/10.7937/tcia.eqde4b16   \n",
       "1.3.6.1.4.1.14519.5.2.1.1239.1759.2407411735439...  https://doi.org/10.7937/tcia.eqde4b16   \n",
       "1.3.6.1.4.1.14519.5.2.1.1239.1759.3114601197415...  https://doi.org/10.7937/tcia.eqde4b16   \n",
       "\n",
       "                                                   Data Description URI  \\\n",
       "1.3.6.1.4.1.14519.5.2.1.1239.1759.6230064638615...              D1-0001   \n",
       "1.3.6.1.4.1.14519.5.2.1.1239.1759.6108236492577...              D1-0002   \n",
       "1.3.6.1.4.1.14519.5.2.1.1239.1759.2925608996110...              D1-0003   \n",
       "1.3.6.1.4.1.14519.5.2.1.1239.1759.2024478153259...              D1-0006   \n",
       "1.3.6.1.4.1.14519.5.2.1.1239.1759.3288256515060...              D1-0004   \n",
       "...                                                                 ...   \n",
       "1.3.6.1.4.1.14519.5.2.1.1239.1759.2312647183405...              D2-0744   \n",
       "1.3.6.1.4.1.14519.5.2.1.1239.1759.9722963368585...              D2-0746   \n",
       "1.3.6.1.4.1.14519.5.2.1.1239.1759.2422837230720...              D2-0748   \n",
       "1.3.6.1.4.1.14519.5.2.1.1239.1759.2407411735439...              D2-0747   \n",
       "1.3.6.1.4.1.14519.5.2.1.1239.1759.3114601197415...              D2-0749   \n",
       "\n",
       "                                                                                           Subject ID  \\\n",
       "1.3.6.1.4.1.14519.5.2.1.1239.1759.6230064638615...  1.3.6.1.4.1.14519.5.2.1.1239.1759.335790956129...   \n",
       "1.3.6.1.4.1.14519.5.2.1.1239.1759.6108236492577...  1.3.6.1.4.1.14519.5.2.1.1239.1759.241519791051...   \n",
       "1.3.6.1.4.1.14519.5.2.1.1239.1759.2925608996110...  1.3.6.1.4.1.14519.5.2.1.1239.1759.113089024322...   \n",
       "1.3.6.1.4.1.14519.5.2.1.1239.1759.2024478153259...  1.3.6.1.4.1.14519.5.2.1.1239.1759.241563313733...   \n",
       "1.3.6.1.4.1.14519.5.2.1.1239.1759.3288256515060...  1.3.6.1.4.1.14519.5.2.1.1239.1759.132173027545...   \n",
       "...                                                                                               ...   \n",
       "1.3.6.1.4.1.14519.5.2.1.1239.1759.2312647183405...  1.3.6.1.4.1.14519.5.2.1.1239.1759.169383765396...   \n",
       "1.3.6.1.4.1.14519.5.2.1.1239.1759.9722963368585...  1.3.6.1.4.1.14519.5.2.1.1239.1759.291758813596...   \n",
       "1.3.6.1.4.1.14519.5.2.1.1239.1759.2422837230720...  1.3.6.1.4.1.14519.5.2.1.1239.1759.194867387180...   \n",
       "1.3.6.1.4.1.14519.5.2.1.1239.1759.2407411735439...  1.3.6.1.4.1.14519.5.2.1.1239.1759.240317944400...   \n",
       "1.3.6.1.4.1.14519.5.2.1.1239.1759.3114601197415...  1.3.6.1.4.1.14519.5.2.1.1239.1759.134277145908...   \n",
       "\n",
       "                                                    Study UID  \\\n",
       "1.3.6.1.4.1.14519.5.2.1.1239.1759.6230064638615...        NaN   \n",
       "1.3.6.1.4.1.14519.5.2.1.1239.1759.6108236492577...        NaN   \n",
       "1.3.6.1.4.1.14519.5.2.1.1239.1759.2925608996110...        NaN   \n",
       "1.3.6.1.4.1.14519.5.2.1.1239.1759.2024478153259...        NaN   \n",
       "1.3.6.1.4.1.14519.5.2.1.1239.1759.3288256515060...        NaN   \n",
       "...                                                       ...   \n",
       "1.3.6.1.4.1.14519.5.2.1.1239.1759.2312647183405...        NaN   \n",
       "1.3.6.1.4.1.14519.5.2.1.1239.1759.9722963368585...        NaN   \n",
       "1.3.6.1.4.1.14519.5.2.1.1239.1759.2422837230720...        NaN   \n",
       "1.3.6.1.4.1.14519.5.2.1.1239.1759.2407411735439...        NaN   \n",
       "1.3.6.1.4.1.14519.5.2.1.1239.1759.3114601197415...        NaN   \n",
       "\n",
       "                                                   Study Description  \\\n",
       "1.3.6.1.4.1.14519.5.2.1.1239.1759.6230064638615...        07-18-2010   \n",
       "1.3.6.1.4.1.14519.5.2.1.1239.1759.6108236492577...        07-18-2010   \n",
       "1.3.6.1.4.1.14519.5.2.1.1239.1759.2925608996110...        07-18-2011   \n",
       "1.3.6.1.4.1.14519.5.2.1.1239.1759.2024478153259...        07-18-2010   \n",
       "1.3.6.1.4.1.14519.5.2.1.1239.1759.3288256515060...        07-18-2011   \n",
       "...                                                              ...   \n",
       "1.3.6.1.4.1.14519.5.2.1.1239.1759.2312647183405...        07-18-2011   \n",
       "1.3.6.1.4.1.14519.5.2.1.1239.1759.9722963368585...        07-18-2011   \n",
       "1.3.6.1.4.1.14519.5.2.1.1239.1759.2422837230720...        07-18-2011   \n",
       "1.3.6.1.4.1.14519.5.2.1.1239.1759.2407411735439...        07-18-2011   \n",
       "1.3.6.1.4.1.14519.5.2.1.1239.1759.3114601197415...        07-17-2012   \n",
       "\n",
       "                                                    Study Date  \\\n",
       "1.3.6.1.4.1.14519.5.2.1.1239.1759.6230064638615...         NaN   \n",
       "1.3.6.1.4.1.14519.5.2.1.1239.1759.6108236492577...         NaN   \n",
       "1.3.6.1.4.1.14519.5.2.1.1239.1759.2925608996110...         NaN   \n",
       "1.3.6.1.4.1.14519.5.2.1.1239.1759.2024478153259...         NaN   \n",
       "1.3.6.1.4.1.14519.5.2.1.1239.1759.3288256515060...         NaN   \n",
       "...                                                        ...   \n",
       "1.3.6.1.4.1.14519.5.2.1.1239.1759.2312647183405...         NaN   \n",
       "1.3.6.1.4.1.14519.5.2.1.1239.1759.9722963368585...         NaN   \n",
       "1.3.6.1.4.1.14519.5.2.1.1239.1759.2422837230720...         NaN   \n",
       "1.3.6.1.4.1.14519.5.2.1.1239.1759.2407411735439...         NaN   \n",
       "1.3.6.1.4.1.14519.5.2.1.1239.1759.3114601197415...         NaN   \n",
       "\n",
       "                                                    Series Description  \\\n",
       "1.3.6.1.4.1.14519.5.2.1.1239.1759.6230064638615...                 NaN   \n",
       "1.3.6.1.4.1.14519.5.2.1.1239.1759.6108236492577...                 NaN   \n",
       "1.3.6.1.4.1.14519.5.2.1.1239.1759.2925608996110...                 NaN   \n",
       "1.3.6.1.4.1.14519.5.2.1.1239.1759.2024478153259...                 NaN   \n",
       "1.3.6.1.4.1.14519.5.2.1.1239.1759.3288256515060...                 NaN   \n",
       "...                                                                ...   \n",
       "1.3.6.1.4.1.14519.5.2.1.1239.1759.2312647183405...                 NaN   \n",
       "1.3.6.1.4.1.14519.5.2.1.1239.1759.9722963368585...                 NaN   \n",
       "1.3.6.1.4.1.14519.5.2.1.1239.1759.2422837230720...                 NaN   \n",
       "1.3.6.1.4.1.14519.5.2.1.1239.1759.2407411735439...                 NaN   \n",
       "1.3.6.1.4.1.14519.5.2.1.1239.1759.3114601197415...                 NaN   \n",
       "\n",
       "                                                   Manufacturer  \\\n",
       "1.3.6.1.4.1.14519.5.2.1.1239.1759.6230064638615...           MG   \n",
       "1.3.6.1.4.1.14519.5.2.1.1239.1759.6108236492577...           MG   \n",
       "1.3.6.1.4.1.14519.5.2.1.1239.1759.2925608996110...           MG   \n",
       "1.3.6.1.4.1.14519.5.2.1.1239.1759.2024478153259...           MG   \n",
       "1.3.6.1.4.1.14519.5.2.1.1239.1759.3288256515060...           MG   \n",
       "...                                                         ...   \n",
       "1.3.6.1.4.1.14519.5.2.1.1239.1759.2312647183405...           MG   \n",
       "1.3.6.1.4.1.14519.5.2.1.1239.1759.9722963368585...           MG   \n",
       "1.3.6.1.4.1.14519.5.2.1.1239.1759.2422837230720...           MG   \n",
       "1.3.6.1.4.1.14519.5.2.1.1239.1759.2407411735439...           MG   \n",
       "1.3.6.1.4.1.14519.5.2.1.1239.1759.3114601197415...           MG   \n",
       "\n",
       "                                                                                             Modality  \\\n",
       "1.3.6.1.4.1.14519.5.2.1.1239.1759.6230064638615...  Digital Mammography X-Ray Image Storage - For ...   \n",
       "1.3.6.1.4.1.14519.5.2.1.1239.1759.6108236492577...  Digital Mammography X-Ray Image Storage - For ...   \n",
       "1.3.6.1.4.1.14519.5.2.1.1239.1759.2925608996110...  Digital Mammography X-Ray Image Storage - For ...   \n",
       "1.3.6.1.4.1.14519.5.2.1.1239.1759.2024478153259...  Digital Mammography X-Ray Image Storage - For ...   \n",
       "1.3.6.1.4.1.14519.5.2.1.1239.1759.3288256515060...  Digital Mammography X-Ray Image Storage - For ...   \n",
       "...                                                                                               ...   \n",
       "1.3.6.1.4.1.14519.5.2.1.1239.1759.2312647183405...  Digital Mammography X-Ray Image Storage - For ...   \n",
       "1.3.6.1.4.1.14519.5.2.1.1239.1759.9722963368585...  Digital Mammography X-Ray Image Storage - For ...   \n",
       "1.3.6.1.4.1.14519.5.2.1.1239.1759.2422837230720...  Digital Mammography X-Ray Image Storage - For ...   \n",
       "1.3.6.1.4.1.14519.5.2.1.1239.1759.2407411735439...  Digital Mammography X-Ray Image Storage - For ...   \n",
       "1.3.6.1.4.1.14519.5.2.1.1239.1759.3114601197415...  Digital Mammography X-Ray Image Storage - For ...   \n",
       "\n",
       "                                                                 SOP Class Name  \\\n",
       "1.3.6.1.4.1.14519.5.2.1.1239.1759.6230064638615...  1.2.840.10008.5.1.4.1.1.1.2   \n",
       "1.3.6.1.4.1.14519.5.2.1.1239.1759.6108236492577...  1.2.840.10008.5.1.4.1.1.1.2   \n",
       "1.3.6.1.4.1.14519.5.2.1.1239.1759.2925608996110...  1.2.840.10008.5.1.4.1.1.1.2   \n",
       "1.3.6.1.4.1.14519.5.2.1.1239.1759.2024478153259...  1.2.840.10008.5.1.4.1.1.1.2   \n",
       "1.3.6.1.4.1.14519.5.2.1.1239.1759.3288256515060...  1.2.840.10008.5.1.4.1.1.1.2   \n",
       "...                                                                         ...   \n",
       "1.3.6.1.4.1.14519.5.2.1.1239.1759.2312647183405...  1.2.840.10008.5.1.4.1.1.1.2   \n",
       "1.3.6.1.4.1.14519.5.2.1.1239.1759.9722963368585...  1.2.840.10008.5.1.4.1.1.1.2   \n",
       "1.3.6.1.4.1.14519.5.2.1.1239.1759.2422837230720...  1.2.840.10008.5.1.4.1.1.1.2   \n",
       "1.3.6.1.4.1.14519.5.2.1.1239.1759.2407411735439...  1.2.840.10008.5.1.4.1.1.1.2   \n",
       "1.3.6.1.4.1.14519.5.2.1.1239.1759.3114601197415...  1.2.840.10008.5.1.4.1.1.1.2   \n",
       "\n",
       "                                                    SOP Class UID  \\\n",
       "1.3.6.1.4.1.14519.5.2.1.1239.1759.6230064638615...              2   \n",
       "1.3.6.1.4.1.14519.5.2.1.1239.1759.6108236492577...              2   \n",
       "1.3.6.1.4.1.14519.5.2.1.1239.1759.2925608996110...              2   \n",
       "1.3.6.1.4.1.14519.5.2.1.1239.1759.2024478153259...              2   \n",
       "1.3.6.1.4.1.14519.5.2.1.1239.1759.3288256515060...              2   \n",
       "...                                                           ...   \n",
       "1.3.6.1.4.1.14519.5.2.1.1239.1759.2312647183405...              4   \n",
       "1.3.6.1.4.1.14519.5.2.1.1239.1759.9722963368585...              4   \n",
       "1.3.6.1.4.1.14519.5.2.1.1239.1759.2422837230720...              4   \n",
       "1.3.6.1.4.1.14519.5.2.1.1239.1759.2407411735439...              4   \n",
       "1.3.6.1.4.1.14519.5.2.1.1239.1759.3114601197415...              4   \n",
       "\n",
       "                                                    Number of Images  \\\n",
       "1.3.6.1.4.1.14519.5.2.1.1239.1759.6230064638615...                 8   \n",
       "1.3.6.1.4.1.14519.5.2.1.1239.1759.6108236492577...                 8   \n",
       "1.3.6.1.4.1.14519.5.2.1.1239.1759.2925608996110...                 8   \n",
       "1.3.6.1.4.1.14519.5.2.1.1239.1759.2024478153259...                 8   \n",
       "1.3.6.1.4.1.14519.5.2.1.1239.1759.3288256515060...                 8   \n",
       "...                                                              ...   \n",
       "1.3.6.1.4.1.14519.5.2.1.1239.1759.2312647183405...                17   \n",
       "1.3.6.1.4.1.14519.5.2.1.1239.1759.9722963368585...                17   \n",
       "1.3.6.1.4.1.14519.5.2.1.1239.1759.2422837230720...                17   \n",
       "1.3.6.1.4.1.14519.5.2.1.1239.1759.2407411735439...                17   \n",
       "1.3.6.1.4.1.14519.5.2.1.1239.1759.3114601197415...                17   \n",
       "\n",
       "                                                   File Size  \\\n",
       "1.3.6.1.4.1.14519.5.2.1.1239.1759.6230064638615...     79 MB   \n",
       "1.3.6.1.4.1.14519.5.2.1.1239.1759.6108236492577...     79 MB   \n",
       "1.3.6.1.4.1.14519.5.2.1.1239.1759.2925608996110...     79 MB   \n",
       "1.3.6.1.4.1.14519.5.2.1.1239.1759.2024478153259...     79 MB   \n",
       "1.3.6.1.4.1.14519.5.2.1.1239.1759.3288256515060...     79 MB   \n",
       "...                                                      ...   \n",
       "1.3.6.1.4.1.14519.5.2.1.1239.1759.2312647183405...     57 MB   \n",
       "1.3.6.1.4.1.14519.5.2.1.1239.1759.9722963368585...     57 MB   \n",
       "1.3.6.1.4.1.14519.5.2.1.1239.1759.2422837230720...     57 MB   \n",
       "1.3.6.1.4.1.14519.5.2.1.1239.1759.2407411735439...     57 MB   \n",
       "1.3.6.1.4.1.14519.5.2.1.1239.1759.3114601197415...     57 MB   \n",
       "\n",
       "                                                                                        File Location  \\\n",
       "1.3.6.1.4.1.14519.5.2.1.1239.1759.6230064638615...  ./CMMD/D1-0001/07-18-2010-NA-NA-79377/1.000000...   \n",
       "1.3.6.1.4.1.14519.5.2.1.1239.1759.6108236492577...  ./CMMD/D1-0002/07-18-2010-NA-NA-49231/1.000000...   \n",
       "1.3.6.1.4.1.14519.5.2.1.1239.1759.2925608996110...  ./CMMD/D1-0003/07-18-2011-NA-NA-25491/1.000000...   \n",
       "1.3.6.1.4.1.14519.5.2.1.1239.1759.2024478153259...  ./CMMD/D1-0006/07-18-2010-NA-NA-16802/1.000000...   \n",
       "1.3.6.1.4.1.14519.5.2.1.1239.1759.3288256515060...  ./CMMD/D1-0004/07-18-2011-NA-NA-14914/1.000000...   \n",
       "...                                                                                               ...   \n",
       "1.3.6.1.4.1.14519.5.2.1.1239.1759.2312647183405...  ./CMMD/D2-0744/07-18-2011-NA-NA-36434/1.000000...   \n",
       "1.3.6.1.4.1.14519.5.2.1.1239.1759.9722963368585...  ./CMMD/D2-0746/07-18-2011-NA-NA-61307/1.000000...   \n",
       "1.3.6.1.4.1.14519.5.2.1.1239.1759.2422837230720...  ./CMMD/D2-0748/07-18-2011-NA-NA-50416/1.000000...   \n",
       "1.3.6.1.4.1.14519.5.2.1.1239.1759.2407411735439...  ./CMMD/D2-0747/07-18-2011-NA-NA-07955/1.000000...   \n",
       "1.3.6.1.4.1.14519.5.2.1.1239.1759.3114601197415...  ./CMMD/D2-0749/07-17-2012-NA-NA-85032/1.000000...   \n",
       "\n",
       "                                                         Download Timestamp  \n",
       "1.3.6.1.4.1.14519.5.2.1.1239.1759.6230064638615...    2025-02-27T01:22:03.4  \n",
       "1.3.6.1.4.1.14519.5.2.1.1239.1759.6108236492577...    2025-02-27T01:22:03.4  \n",
       "1.3.6.1.4.1.14519.5.2.1.1239.1759.2925608996110...  2025-02-27T01:22:03.447  \n",
       "1.3.6.1.4.1.14519.5.2.1.1239.1759.2024478153259...  2025-02-27T01:22:07.503  \n",
       "1.3.6.1.4.1.14519.5.2.1.1239.1759.3288256515060...  2025-02-27T01:22:07.681  \n",
       "...                                                                     ...  \n",
       "1.3.6.1.4.1.14519.5.2.1.1239.1759.2312647183405...  2025-02-27T02:13:20.482  \n",
       "1.3.6.1.4.1.14519.5.2.1.1239.1759.9722963368585...  2025-02-27T02:13:28.112  \n",
       "1.3.6.1.4.1.14519.5.2.1.1239.1759.2422837230720...  2025-02-27T02:13:30.731  \n",
       "1.3.6.1.4.1.14519.5.2.1.1239.1759.2407411735439...  2025-02-27T02:13:34.652  \n",
       "1.3.6.1.4.1.14519.5.2.1.1239.1759.3114601197415...  2025-02-27T02:13:37.893  \n",
       "\n",
       "[1775 rows x 17 columns]"
      ]
     },
     "execution_count": 32,
     "metadata": {},
     "output_type": "execute_result"
    }
   ],
   "source": [
    "metadata_df"
   ]
  },
  {
   "cell_type": "code",
   "execution_count": 31,
   "metadata": {},
   "outputs": [
    {
     "data": {
      "text/plain": [
       "Manufacturer\n",
       "MG    1775\n",
       "Name: count, dtype: int64"
      ]
     },
     "execution_count": 31,
     "metadata": {},
     "output_type": "execute_result"
    }
   ],
   "source": [
    "metadata_df['Manufacturer'].value_counts()"
   ]
  },
  {
   "cell_type": "code",
   "execution_count": null,
   "metadata": {},
   "outputs": [],
   "source": []
  }
 ],
 "metadata": {
  "kernelspec": {
   "display_name": ".venv",
   "language": "python",
   "name": "python3"
  },
  "language_info": {
   "codemirror_mode": {
    "name": "ipython",
    "version": 3
   },
   "file_extension": ".py",
   "mimetype": "text/x-python",
   "name": "python",
   "nbconvert_exporter": "python",
   "pygments_lexer": "ipython3",
   "version": "3.12.2"
  }
 },
 "nbformat": 4,
 "nbformat_minor": 2
}
